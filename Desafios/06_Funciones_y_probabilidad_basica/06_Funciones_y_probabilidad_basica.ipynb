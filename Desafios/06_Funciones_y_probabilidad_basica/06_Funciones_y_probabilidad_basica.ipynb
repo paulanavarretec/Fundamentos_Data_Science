{
 "cells": [
  {
   "cell_type": "markdown",
   "id": "b78d5f3e",
   "metadata": {},
   "source": [
    "# Desafío 1: Generación de funciones\n",
    "\n",
    "* Genere funciones para calcular la media y varianza de un vector. Debe cumplir con los siguientes requisitos:\n",
    "\n",
    "    * Ambas funciones deben ingresar un argumento x correspondiente al vector.\n",
    "    * Las funciones deben contener docstrings con la documentación asociada a la variable y retornar un valor utilizando return.\n",
    "    * La función de la varianza debe llamar a la función de la media."
   ]
  },
  {
   "cell_type": "code",
   "execution_count": 1,
   "id": "1bfd06fc",
   "metadata": {},
   "outputs": [
    {
     "name": "stdout",
     "output_type": "stream",
     "text": [
      "2.5\n",
      "1.25\n"
     ]
    }
   ],
   "source": [
    "import numpy as np\n",
    "def media(x):\n",
    "    '''\n",
    "        Retorna el promedio de los números de una lista, vector o arreglo.\n",
    "\n",
    "                Parameters:\n",
    "                        x (list): lista con al menos un número\n",
    "\n",
    "                Returns:\n",
    "                        mean(float): promedio de los números de la lista\n",
    "    '''\n",
    "    return np.mean(x)\n",
    "\n",
    "def varianza(x):\n",
    "    \n",
    "    '''\n",
    "        Retorna la varianza de los números de una lista, vector o arreglo.\n",
    "\n",
    "                Parameters:\n",
    "                        x (list): lista con al menos un número\n",
    "\n",
    "                Returns:\n",
    "                        variaza(float): variaza de los números de la lista\n",
    "    '''\n",
    "    \n",
    "    return round(np.sum((x - media(x))**2)/len(x),2)\n",
    "\n",
    "x = [1,2,3,4]\n",
    "print(media(x))\n",
    "print(varianza(x))"
   ]
  },
  {
   "cell_type": "code",
   "execution_count": 2,
   "id": "ff911fb5",
   "metadata": {},
   "outputs": [
    {
     "name": "stdout",
     "output_type": "stream",
     "text": [
      "\n",
      "        Retorna el promedio de los números de una lista, vector o arreglo.\n",
      "\n",
      "                Parameters:\n",
      "                        x (list): lista con al menos un número\n",
      "\n",
      "                Returns:\n",
      "                        mean(float): promedio de los números de la lista\n",
      "    \n",
      "\n",
      "        Retorna la varianza de los números de una lista, vector o arreglo.\n",
      "\n",
      "                Parameters:\n",
      "                        x (list): lista con al menos un número\n",
      "\n",
      "                Returns:\n",
      "                        variaza(float): variaza de los números de la lista\n",
      "    \n"
     ]
    }
   ],
   "source": [
    "print(media.__doc__)\n",
    "print(varianza.__doc__)"
   ]
  },
  {
   "cell_type": "markdown",
   "id": "68df368a",
   "metadata": {},
   "source": [
    "* Utilice las funciones para reportar la información sobre goles_favor, goles_contra y puntos."
   ]
  },
  {
   "cell_type": "code",
   "execution_count": 3,
   "id": "1f58c17a",
   "metadata": {},
   "outputs": [
    {
     "data": {
      "text/html": [
       "<div>\n",
       "<style scoped>\n",
       "    .dataframe tbody tr th:only-of-type {\n",
       "        vertical-align: middle;\n",
       "    }\n",
       "\n",
       "    .dataframe tbody tr th {\n",
       "        vertical-align: top;\n",
       "    }\n",
       "\n",
       "    .dataframe thead th {\n",
       "        text-align: right;\n",
       "    }\n",
       "</style>\n",
       "<table border=\"1\" class=\"dataframe\">\n",
       "  <thead>\n",
       "    <tr style=\"text-align: right;\">\n",
       "      <th></th>\n",
       "      <th>team</th>\n",
       "      <th>continent</th>\n",
       "      <th>group</th>\n",
       "      <th>group_pos</th>\n",
       "      <th>cantidad_juegos</th>\n",
       "      <th>juegos_ganados</th>\n",
       "      <th>juegos_empatados</th>\n",
       "      <th>juegos_perdidos</th>\n",
       "      <th>goles_favor</th>\n",
       "      <th>goles_contra</th>\n",
       "      <th>goles_diferencia</th>\n",
       "      <th>puntos</th>\n",
       "      <th>clasificado</th>\n",
       "    </tr>\n",
       "  </thead>\n",
       "  <tbody>\n",
       "    <tr>\n",
       "      <th>0</th>\n",
       "      <td>Brazil</td>\n",
       "      <td>southamerica</td>\n",
       "      <td>A</td>\n",
       "      <td>1</td>\n",
       "      <td>3</td>\n",
       "      <td>2</td>\n",
       "      <td>1</td>\n",
       "      <td>0</td>\n",
       "      <td>7</td>\n",
       "      <td>2</td>\n",
       "      <td>5</td>\n",
       "      <td>7</td>\n",
       "      <td>1</td>\n",
       "    </tr>\n",
       "    <tr>\n",
       "      <th>1</th>\n",
       "      <td>Mexico</td>\n",
       "      <td>northamerica</td>\n",
       "      <td>A</td>\n",
       "      <td>2</td>\n",
       "      <td>3</td>\n",
       "      <td>2</td>\n",
       "      <td>1</td>\n",
       "      <td>0</td>\n",
       "      <td>4</td>\n",
       "      <td>1</td>\n",
       "      <td>3</td>\n",
       "      <td>7</td>\n",
       "      <td>1</td>\n",
       "    </tr>\n",
       "    <tr>\n",
       "      <th>2</th>\n",
       "      <td>Croatia</td>\n",
       "      <td>europe</td>\n",
       "      <td>A</td>\n",
       "      <td>3</td>\n",
       "      <td>3</td>\n",
       "      <td>1</td>\n",
       "      <td>0</td>\n",
       "      <td>2</td>\n",
       "      <td>6</td>\n",
       "      <td>6</td>\n",
       "      <td>0</td>\n",
       "      <td>3</td>\n",
       "      <td>0</td>\n",
       "    </tr>\n",
       "    <tr>\n",
       "      <th>3</th>\n",
       "      <td>Cameroon</td>\n",
       "      <td>africa</td>\n",
       "      <td>A</td>\n",
       "      <td>4</td>\n",
       "      <td>3</td>\n",
       "      <td>0</td>\n",
       "      <td>0</td>\n",
       "      <td>3</td>\n",
       "      <td>1</td>\n",
       "      <td>9</td>\n",
       "      <td>−8</td>\n",
       "      <td>0</td>\n",
       "      <td>0</td>\n",
       "    </tr>\n",
       "    <tr>\n",
       "      <th>4</th>\n",
       "      <td>Netherlands</td>\n",
       "      <td>europe</td>\n",
       "      <td>B</td>\n",
       "      <td>1</td>\n",
       "      <td>3</td>\n",
       "      <td>3</td>\n",
       "      <td>0</td>\n",
       "      <td>0</td>\n",
       "      <td>10</td>\n",
       "      <td>3</td>\n",
       "      <td>7</td>\n",
       "      <td>9</td>\n",
       "      <td>1</td>\n",
       "    </tr>\n",
       "  </tbody>\n",
       "</table>\n",
       "</div>"
      ],
      "text/plain": [
       "          team     continent group  group_pos  cantidad_juegos  \\\n",
       "0       Brazil  southamerica     A          1                3   \n",
       "1       Mexico  northamerica     A          2                3   \n",
       "2      Croatia        europe     A          3                3   \n",
       "3     Cameroon        africa     A          4                3   \n",
       "4  Netherlands        europe     B          1                3   \n",
       "\n",
       "   juegos_ganados  juegos_empatados  juegos_perdidos  goles_favor  \\\n",
       "0               2                 1                0            7   \n",
       "1               2                 1                0            4   \n",
       "2               1                 0                2            6   \n",
       "3               0                 0                3            1   \n",
       "4               3                 0                0           10   \n",
       "\n",
       "   goles_contra goles_diferencia  puntos  clasificado  \n",
       "0             2                5       7            1  \n",
       "1             1                3       7            1  \n",
       "2             6                0       3            0  \n",
       "3             9               −8       0            0  \n",
       "4             3                7       9            1  "
      ]
     },
     "execution_count": 3,
     "metadata": {},
     "output_type": "execute_result"
    }
   ],
   "source": [
    "import pandas as pd\n",
    "import numpy as np\n",
    "df = pd.read_csv('worldcup2014.csv')\n",
    "df.head()"
   ]
  },
  {
   "cell_type": "code",
   "execution_count": 4,
   "id": "0fc0cfdc",
   "metadata": {},
   "outputs": [
    {
     "name": "stdout",
     "output_type": "stream",
     "text": [
      "El promedio de goles a favor en la muestra es de 4.25 y su varianza es de 5.19\n",
      "El promedio de goles en contra en la muestra es de 4.25 y su varianza es de 4.81\n",
      "El promedio de puntos en la muestra es de 4.21875 y su varianza es de 8.05\n"
     ]
    }
   ],
   "source": [
    "print('El promedio de goles a favor en la muestra es de {} y su varianza es de {}'.format(media(df['goles_favor']),varianza(df['goles_favor'])))\n",
    "print('El promedio de goles en contra en la muestra es de {} y su varianza es de {}'.format(media(df['goles_contra']),varianza(df['goles_contra'])))\n",
    "print('El promedio de puntos en la muestra es de {} y su varianza es de {}'.format(media(df['puntos']),varianza(df['puntos'])))"
   ]
  },
  {
   "cell_type": "markdown",
   "id": "fbd4852c",
   "metadata": {},
   "source": [
    "# Desafío 2:\n",
    "\n",
    "Utilizando el método groupby de la clase DataFrame, en conjunto con la función .agg de pandas, calcule la media, la varianza y desviación estándar de la cantidad de goles a favor, en contra y de la cantidad de puntos por continente."
   ]
  },
  {
   "cell_type": "code",
   "execution_count": 5,
   "id": "e58364d4",
   "metadata": {},
   "outputs": [
    {
     "name": "stdout",
     "output_type": "stream",
     "text": [
      "\n",
      "GOLES_FAVOR\n",
      "              suma     media  varianza\n",
      "continent                             \n",
      "africa          18  3.600000  3.300000\n",
      "asia             9  2.250000  0.916667\n",
      "europe          62  4.769231  6.858974\n",
      "northamerica    13  3.250000  2.250000\n",
      "southamerica    34  5.666667  4.666667\n",
      "\n",
      "GOLES_CONTRA\n",
      "              suma     media   varianza\n",
      "continent                              \n",
      "africa          28  5.600000   4.800000\n",
      "asia            25  6.250000   4.250000\n",
      "europe          52  4.000000   3.833333\n",
      "northamerica    14  3.500000  11.000000\n",
      "southamerica    17  2.833333   0.566667\n",
      "\n",
      "PUNTOS\n",
      "              suma     media   varianza\n",
      "continent                              \n",
      "africa          12  2.400000   3.300000\n",
      "asia             3  0.750000   0.250000\n",
      "europe          61  4.692308   6.897436\n",
      "northamerica    18  4.500000  11.000000\n",
      "southamerica    41  6.833333   3.766667\n"
     ]
    }
   ],
   "source": [
    "variables , stats = ['goles_favor','goles_contra','puntos'] , {}\n",
    "a , b , c = pd.DataFrame([]) , pd.DataFrame([]) , pd.DataFrame([])\n",
    "\n",
    "for variable in variables:\n",
    "    print('\\n'+variable.upper())\n",
    "    a['suma'] = df.groupby(['continent']).agg({variable:'sum'})\n",
    "    b['media'] = df.groupby(['continent']).agg({variable:'mean'})\n",
    "    c['varianza'] = df.groupby(['continent']).agg({variable:'var'})\n",
    "    stats[variable] = pd.concat([a['suma'], b['media'],c['varianza']], axis=1)\n",
    "    print(stats[variable])"
   ]
  },
  {
   "cell_type": "markdown",
   "id": "f8933bdd",
   "metadata": {},
   "source": [
    "* ¿En qué continente se observa una mayor cantidad de goles a favor?\n",
    "\n",
    "RP. Europa reporta la mayor cantidad de goles a favor, con un total de 62 goles.\n",
    "\n",
    "* ¿En qué continente se observa una mayor cantidad de goles en contra?\n",
    "\n",
    "RP. Europa reporta la mayor cantidad de goles en contra, con un total de 52 goles.\n",
    "\n",
    "* ¿En qué continente se observa una mayor cantidad de puntos en promedio?\n",
    "\n",
    "RP. Sudamérica reporta la mayor cantidad de puntos en promedio, con una media de 6.8 puntos"
   ]
  },
  {
   "cell_type": "markdown",
   "id": "6dbabca3",
   "metadata": {},
   "source": [
    "# Desafío 3: Simulaciones\n"
   ]
  },
  {
   "cell_type": "markdown",
   "id": "7d939c0d",
   "metadata": {},
   "source": [
    "* Genere una función generate_pet que devuelva de forma aleatoria un string 'perro' o 'gato' un número n de veces. Ejecútela un par de veces.\n",
    "    * Tip: Puede utilizar la función np.random.choice para retornar elementos al azar."
   ]
  },
  {
   "cell_type": "code",
   "execution_count": 6,
   "id": "c84f2e43",
   "metadata": {},
   "outputs": [
    {
     "name": "stdout",
     "output_type": "stream",
     "text": [
      "gato\n",
      "perro\n",
      "gato\n",
      "gato\n"
     ]
    }
   ],
   "source": [
    "def generate_pet():\n",
    "    return np.random.choice(['perro','gato'])\n",
    "\n",
    "for i in np.arange(4):\n",
    "    print(generate_pet())"
   ]
  },
  {
   "cell_type": "markdown",
   "id": "fefb9914",
   "metadata": {},
   "source": [
    "* Aplique la función generate_pet para generar 20 muestras.\n"
   ]
  },
  {
   "cell_type": "code",
   "execution_count": 7,
   "id": "fe4708a0",
   "metadata": {},
   "outputs": [
    {
     "name": "stdout",
     "output_type": "stream",
     "text": [
      "1.- perro\n",
      "2.- perro\n",
      "3.- gato\n",
      "4.- gato\n",
      "5.- perro\n",
      "6.- gato\n",
      "7.- perro\n",
      "8.- gato\n",
      "9.- perro\n",
      "10.- perro\n",
      "11.- gato\n",
      "12.- gato\n",
      "13.- gato\n",
      "14.- perro\n",
      "15.- perro\n",
      "16.- perro\n",
      "17.- perro\n",
      "18.- perro\n",
      "19.- perro\n",
      "20.- perro\n"
     ]
    }
   ],
   "source": [
    "muestras = []\n",
    "for i in np.arange(20):\n",
    "    muestras.append(generate_pet())\n",
    "    print('{}.- {}'.format(i+1,muestras[i]))"
   ]
  },
  {
   "cell_type": "markdown",
   "id": "ade93ccf",
   "metadata": {},
   "source": [
    "* ¿Cuál es la probabilidad de elegir un perro al azar? ¿Y un gato?\n"
   ]
  },
  {
   "cell_type": "code",
   "execution_count": 8,
   "id": "6574e7d4",
   "metadata": {},
   "outputs": [
    {
     "name": "stdout",
     "output_type": "stream",
     "text": [
      "La probabilidad de elegir un perro al azar es de 65.0%\n",
      "La probabilidad de elegir un gato al azar es de 35.0%\n"
     ]
    }
   ],
   "source": [
    "muestras = pd.DataFrame(muestras, columns=['mascota'])\n",
    "P_perro = float(muestras[muestras['mascota']=='perro'].count()/muestras['mascota'].count())\n",
    "P_gato = float(muestras[muestras['mascota']=='gato'].count()/muestras['mascota'].count())\n",
    "\n",
    "print('La probabilidad de elegir un perro al azar es de {}%'.format(P_perro*100))\n",
    "print('La probabilidad de elegir un gato al azar es de {}%'.format(P_gato*100))"
   ]
  },
  {
   "cell_type": "markdown",
   "id": "1b2fc5ac",
   "metadata": {},
   "source": [
    "* Agregue np.random.seed(2) al inicio del chunk. ¿Qué diferencia hay cuando se ejecuta la función varias veces luego de fijar la semilla?"
   ]
  },
  {
   "cell_type": "code",
   "execution_count": 9,
   "id": "b5e3d3ab",
   "metadata": {},
   "outputs": [
    {
     "name": "stdout",
     "output_type": "stream",
     "text": [
      "La probabilidad de elegir un perro al azar es de 60.0%\n",
      "La probabilidad de elegir un gato al azar es de 40.0%\n",
      "\n",
      "La probabilidad de elegir un perro al azar es de 30.0%\n",
      "La probabilidad de elegir un gato al azar es de 70.0%\n",
      "\n",
      "La probabilidad de elegir un perro al azar es de 35.0%\n",
      "La probabilidad de elegir un gato al azar es de 65.0%\n",
      "\n",
      "La probabilidad de elegir un perro al azar es de 40.0%\n",
      "La probabilidad de elegir un gato al azar es de 60.0%\n",
      "\n",
      "Utilizando np.random.seed(2)\n",
      "\n",
      "La probabilidad de elegir un perro al azar es de 40.0%\n",
      "La probabilidad de elegir un gato al azar es de 60.0%\n",
      "\n",
      "La probabilidad de elegir un perro al azar es de 40.0%\n",
      "La probabilidad de elegir un gato al azar es de 60.0%\n",
      "\n",
      "La probabilidad de elegir un perro al azar es de 40.0%\n",
      "La probabilidad de elegir un gato al azar es de 60.0%\n",
      "\n",
      "La probabilidad de elegir un perro al azar es de 40.0%\n",
      "La probabilidad de elegir un gato al azar es de 60.0%\n",
      "\n"
     ]
    }
   ],
   "source": [
    "for i in np.arange(4):\n",
    "            \n",
    "    muestras = pd.DataFrame([generate_pet() for i in np.arange(20)], columns=['mascota'])\n",
    "    P_perro = float(muestras[muestras['mascota']=='perro'].count()/muestras['mascota'].count())\n",
    "    P_gato = float(muestras[muestras['mascota']=='gato'].count()/muestras['mascota'].count())\n",
    "    \n",
    "    print('La probabilidad de elegir un perro al azar es de {}%'.format(P_perro*100))\n",
    "    print('La probabilidad de elegir un gato al azar es de {}%\\n'.format(P_gato*100))\n",
    "    \n",
    "\n",
    "print('Utilizando np.random.seed(2)\\n')\n",
    "\n",
    "for i in np.arange(4):\n",
    "    \n",
    "    np.random.seed(2)\n",
    "    muestras = pd.DataFrame([generate_pet() for i in np.arange(20)], columns=['mascota'])\n",
    "    \n",
    "    P_perro = float(muestras[muestras['mascota']=='perro'].count()/muestras['mascota'].count())\n",
    "    P_gato = float(muestras[muestras['mascota']=='gato'].count()/muestras['mascota'].count())\n",
    "    \n",
    "    print('La probabilidad de elegir un perro al azar es de {}%'.format(P_perro*100))\n",
    "    print('La probabilidad de elegir un gato al azar es de {}%\\n'.format(P_gato*100))"
   ]
  },
  {
   "cell_type": "markdown",
   "id": "0fa9d4a8",
   "metadata": {},
   "source": [
    "Con el reinicio de semilla aleatoria (cada vez), el mismo conjunto de números aparecerá cada vez. Si la semilla aleatoria no se restablece, aparecen diferentes números con cada invocación:"
   ]
  },
  {
   "cell_type": "markdown",
   "id": "acbaf0e8",
   "metadata": {},
   "source": [
    "# Desafío 4: Función simuladora"
   ]
  },
  {
   "cell_type": "markdown",
   "id": "9e899fbb",
   "metadata": {},
   "source": [
    "* Genere una función llamada simulate_pets_prob que tome como argumento un número finito de simulaciones a generar.\n",
    "* La función debe simular dos situaciones young_pet y old_pet, y contar la ocurrencia de los siguientes casos:\n",
    "    * De las dos mascotas simuladas (young y old), contar las ocasiones donde por lo menos una de las mascotas sea un perro.\n",
    "    * De las dos mascotas simuladas, contar las ocasiones donde old_pet sea un perro.\n",
    "    * De las dos mascotas simuladas, contar las ocasiones donde los dos sean perros.\n",
    "* El método debe tener una semilla pseudoaleatoria de 1.\n",
    "* El output de la función debe entregarse en términos de Probabilidad.\n",
    "* De los tres escenarios, ¿Cuál es el menos probable? ¿Cuál es el más probable? ¿Por qué?\n",
    "\n"
   ]
  },
  {
   "cell_type": "code",
   "execution_count": 10,
   "id": "16e538db",
   "metadata": {},
   "outputs": [
    {
     "name": "stdout",
     "output_type": "stream",
     "text": [
      "Ocasiones donde al menos una de las mascotas es un perro: 0.7509\n",
      "Ocasiones donde old_pet es un perro: 0.5006\n",
      "Ocasiones donde los dos son perros: 0.2412\n"
     ]
    },
    {
     "data": {
      "text/html": [
       "<div>\n",
       "<style scoped>\n",
       "    .dataframe tbody tr th:only-of-type {\n",
       "        vertical-align: middle;\n",
       "    }\n",
       "\n",
       "    .dataframe tbody tr th {\n",
       "        vertical-align: top;\n",
       "    }\n",
       "\n",
       "    .dataframe thead th {\n",
       "        text-align: right;\n",
       "    }\n",
       "</style>\n",
       "<table border=\"1\" class=\"dataframe\">\n",
       "  <thead>\n",
       "    <tr style=\"text-align: right;\">\n",
       "      <th></th>\n",
       "      <th>young</th>\n",
       "      <th>old</th>\n",
       "    </tr>\n",
       "  </thead>\n",
       "  <tbody>\n",
       "    <tr>\n",
       "      <th>0</th>\n",
       "      <td>perro</td>\n",
       "      <td>gato</td>\n",
       "    </tr>\n",
       "    <tr>\n",
       "      <th>1</th>\n",
       "      <td>gato</td>\n",
       "      <td>gato</td>\n",
       "    </tr>\n",
       "    <tr>\n",
       "      <th>2</th>\n",
       "      <td>gato</td>\n",
       "      <td>perro</td>\n",
       "    </tr>\n",
       "    <tr>\n",
       "      <th>3</th>\n",
       "      <td>perro</td>\n",
       "      <td>perro</td>\n",
       "    </tr>\n",
       "    <tr>\n",
       "      <th>4</th>\n",
       "      <td>gato</td>\n",
       "      <td>gato</td>\n",
       "    </tr>\n",
       "    <tr>\n",
       "      <th>...</th>\n",
       "      <td>...</td>\n",
       "      <td>...</td>\n",
       "    </tr>\n",
       "    <tr>\n",
       "      <th>9995</th>\n",
       "      <td>perro</td>\n",
       "      <td>perro</td>\n",
       "    </tr>\n",
       "    <tr>\n",
       "      <th>9996</th>\n",
       "      <td>gato</td>\n",
       "      <td>gato</td>\n",
       "    </tr>\n",
       "    <tr>\n",
       "      <th>9997</th>\n",
       "      <td>perro</td>\n",
       "      <td>gato</td>\n",
       "    </tr>\n",
       "    <tr>\n",
       "      <th>9998</th>\n",
       "      <td>gato</td>\n",
       "      <td>perro</td>\n",
       "    </tr>\n",
       "    <tr>\n",
       "      <th>9999</th>\n",
       "      <td>perro</td>\n",
       "      <td>gato</td>\n",
       "    </tr>\n",
       "  </tbody>\n",
       "</table>\n",
       "<p>10000 rows × 2 columns</p>\n",
       "</div>"
      ],
      "text/plain": [
       "      young    old\n",
       "0     perro   gato\n",
       "1      gato   gato\n",
       "2      gato  perro\n",
       "3     perro  perro\n",
       "4      gato   gato\n",
       "...     ...    ...\n",
       "9995  perro  perro\n",
       "9996   gato   gato\n",
       "9997  perro   gato\n",
       "9998   gato  perro\n",
       "9999  perro   gato\n",
       "\n",
       "[10000 rows x 2 columns]"
      ]
     },
     "execution_count": 10,
     "metadata": {},
     "output_type": "execute_result"
    }
   ],
   "source": [
    "def simulate_pets_prob(n):\n",
    "    \n",
    "    np.random.seed(0); young_pet = pd.DataFrame([generate_pet() for i in np.arange(n)], columns=['young'])\n",
    "    np.random.seed(1); old_pet = pd.DataFrame([generate_pet() for i in np.arange(n)], columns=['old'])\n",
    "\n",
    "    # De las dos mascotas simuladas (young y old), contar las ocasiones donde por lo menos \n",
    "    # una de las mascotas sea un perro.\n",
    "    filtro1 = (young_pet['young']=='perro') | (old_pet['old']=='perro')\n",
    "    \n",
    "    # De las dos mascotas simuladas, contar las ocasiones donde old_pet sea un perro.\n",
    "    filtro2 = old_pet['old']=='perro'\n",
    "    \n",
    "    # De las dos mascotas simuladas, contar las ocasiones donde los dos sean perros.\n",
    "    filtro3 = (young_pet['young']=='perro') & (old_pet['old']=='perro')\n",
    "    \n",
    "    simulaciones = pd.concat([young_pet , old_pet], axis=1)\n",
    "\n",
    "    print('Ocasiones donde al menos una de las mascotas es un perro: {}'.format(len(simulaciones[filtro1].index)/n))\n",
    "    print('Ocasiones donde old_pet es un perro: {}'.format(len(simulaciones[filtro2].index)/n))\n",
    "    print('Ocasiones donde los dos son perros: {}'.format(len(simulaciones[filtro3].index)/n))\n",
    "    \n",
    "    return young_pet,old_pet\n",
    "\n",
    "young_pet , old_pet = simulate_pets_prob(10000)\n",
    "simulaciones = pd.concat([young_pet , old_pet], axis=1)\n",
    "\n",
    "simulaciones"
   ]
  },
  {
   "cell_type": "markdown",
   "id": "5d9c25fa",
   "metadata": {},
   "source": [
    "El escenario menos probable es el 3, donde los dos son perros (25% aprox), y el escenario más probables es el 1, donde al menos una de las mascotas es un perro (75% aprox). \n",
    "\n",
    "Esto se debe a que el primer escenario se refiere a eventos independientes, por lo tanto sus probabilidades se suman, en cambio el tercer escenario refiere a eventos dependientes, por lo tanto sus probabilidades se multiplican. Esto último implica que, a menos que uno de los dos eventos dependientes ocurra siempre (probabilidad igual 1), la probabilidad conjunta solo disminuirá al poderar ambas."
   ]
  }
 ],
 "metadata": {
  "kernelspec": {
   "display_name": "Python 3 (ipykernel)",
   "language": "python",
   "name": "python3"
  },
  "language_info": {
   "codemirror_mode": {
    "name": "ipython",
    "version": 3
   },
   "file_extension": ".py",
   "mimetype": "text/x-python",
   "name": "python",
   "nbconvert_exporter": "python",
   "pygments_lexer": "ipython3",
   "version": "3.8.11"
  }
 },
 "nbformat": 4,
 "nbformat_minor": 5
}
