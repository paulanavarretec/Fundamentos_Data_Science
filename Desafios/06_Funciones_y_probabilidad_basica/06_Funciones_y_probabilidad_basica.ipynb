{
  "nbformat": 4,
  "nbformat_minor": 5,
  "metadata": {
    "kernelspec": {
      "display_name": "Python 3 (ipykernel)",
      "language": "python",
      "name": "python3"
    },
    "language_info": {
      "codemirror_mode": {
        "name": "ipython",
        "version": 3
      },
      "file_extension": ".py",
      "mimetype": "text/x-python",
      "name": "python",
      "nbconvert_exporter": "python",
      "pygments_lexer": "ipython3",
      "version": "3.8.11"
    },
    "colab": {
      "name": "06_Funciones_y_probabilidad_basica.ipynb",
      "provenance": []
    }
  },
  "cells": [
    {
      "cell_type": "markdown",
      "metadata": {
        "id": "b78d5f3e"
      },
      "source": [
        "# Desafío 1: Generación de funciones\n",
        "\n",
        "* Genere funciones para calcular la media y varianza de un vector. Debe cumplir con los siguientes requisitos:\n",
        "\n",
        "    * Ambas funciones deben ingresar un argumento x correspondiente al vector.\n",
        "    * Las funciones deben contener docstrings con la documentación asociada a la variable y retornar un valor utilizando return.\n",
        "    * La función de la varianza debe llamar a la función de la media."
      ],
      "id": "b78d5f3e"
    },
    {
      "cell_type": "code",
      "metadata": {
        "colab": {
          "base_uri": "https://localhost:8080/"
        },
        "id": "1bfd06fc",
        "outputId": "9ed908c7-36dd-42ca-91dd-c5f46f3db8a0"
      },
      "source": [
        "import numpy as np\n",
        "def media(x):\n",
        "    '''\n",
        "        Retorna el promedio de los números de una lista, vector o arreglo.\n",
        "\n",
        "                Parameters:\n",
        "                        x (list): lista con al menos un número\n",
        "\n",
        "                Returns:\n",
        "                        mean(float): promedio de los números de la lista\n",
        "    '''\n",
        "    return np.mean(x)\n",
        "\n",
        "def varianza(x):\n",
        "    \n",
        "    '''\n",
        "        Retorna la varianza de los números de una lista, vector o arreglo.\n",
        "\n",
        "                Parameters:\n",
        "                        x (list): lista con al menos un número\n",
        "\n",
        "                Returns:\n",
        "                        variaza(float): variaza de los números de la lista\n",
        "    '''\n",
        "    \n",
        "    return round(np.sum((x - media(x))**2)/len(x),2)\n",
        "\n",
        "x = [1,2,3,4]\n",
        "print(media(x))\n",
        "print(varianza(x))"
      ],
      "id": "1bfd06fc",
      "execution_count": 1,
      "outputs": [
        {
          "output_type": "stream",
          "name": "stdout",
          "text": [
            "2.5\n",
            "1.25\n"
          ]
        }
      ]
    },
    {
      "cell_type": "code",
      "metadata": {
        "colab": {
          "base_uri": "https://localhost:8080/"
        },
        "id": "ff911fb5",
        "outputId": "43f55cb8-e76d-4d56-d4c2-920e2288bef2"
      },
      "source": [
        "print(media.__doc__)\n",
        "print(varianza.__doc__)"
      ],
      "id": "ff911fb5",
      "execution_count": 2,
      "outputs": [
        {
          "output_type": "stream",
          "name": "stdout",
          "text": [
            "\n",
            "        Retorna el promedio de los números de una lista, vector o arreglo.\n",
            "\n",
            "                Parameters:\n",
            "                        x (list): lista con al menos un número\n",
            "\n",
            "                Returns:\n",
            "                        mean(float): promedio de los números de la lista\n",
            "    \n",
            "\n",
            "        Retorna la varianza de los números de una lista, vector o arreglo.\n",
            "\n",
            "                Parameters:\n",
            "                        x (list): lista con al menos un número\n",
            "\n",
            "                Returns:\n",
            "                        variaza(float): variaza de los números de la lista\n",
            "    \n"
          ]
        }
      ]
    },
    {
      "cell_type": "markdown",
      "metadata": {
        "id": "68df368a"
      },
      "source": [
        "* Utilice las funciones para reportar la información sobre goles_favor, goles_contra y puntos."
      ],
      "id": "68df368a"
    },
    {
      "cell_type": "code",
      "metadata": {
        "colab": {
          "base_uri": "https://localhost:8080/",
          "height": 226
        },
        "id": "1f58c17a",
        "outputId": "7f44b853-18e9-4647-815d-856a578b9838"
      },
      "source": [
        "import pandas as pd\n",
        "import numpy as np\n",
        "df = pd.read_csv('worldcup2014.csv')\n",
        "df.head()"
      ],
      "id": "1f58c17a",
      "execution_count": 3,
      "outputs": [
        {
          "output_type": "execute_result",
          "data": {
            "text/html": [
              "<div>\n",
              "<style scoped>\n",
              "    .dataframe tbody tr th:only-of-type {\n",
              "        vertical-align: middle;\n",
              "    }\n",
              "\n",
              "    .dataframe tbody tr th {\n",
              "        vertical-align: top;\n",
              "    }\n",
              "\n",
              "    .dataframe thead th {\n",
              "        text-align: right;\n",
              "    }\n",
              "</style>\n",
              "<table border=\"1\" class=\"dataframe\">\n",
              "  <thead>\n",
              "    <tr style=\"text-align: right;\">\n",
              "      <th></th>\n",
              "      <th>team</th>\n",
              "      <th>continent</th>\n",
              "      <th>group</th>\n",
              "      <th>group_pos</th>\n",
              "      <th>cantidad_juegos</th>\n",
              "      <th>juegos_ganados</th>\n",
              "      <th>juegos_empatados</th>\n",
              "      <th>juegos_perdidos</th>\n",
              "      <th>goles_favor</th>\n",
              "      <th>goles_contra</th>\n",
              "      <th>goles_diferencia</th>\n",
              "      <th>puntos</th>\n",
              "      <th>clasificado</th>\n",
              "    </tr>\n",
              "  </thead>\n",
              "  <tbody>\n",
              "    <tr>\n",
              "      <th>0</th>\n",
              "      <td>Brazil</td>\n",
              "      <td>southamerica</td>\n",
              "      <td>A</td>\n",
              "      <td>1</td>\n",
              "      <td>3</td>\n",
              "      <td>2</td>\n",
              "      <td>1</td>\n",
              "      <td>0</td>\n",
              "      <td>7</td>\n",
              "      <td>2</td>\n",
              "      <td>5</td>\n",
              "      <td>7</td>\n",
              "      <td>1</td>\n",
              "    </tr>\n",
              "    <tr>\n",
              "      <th>1</th>\n",
              "      <td>Mexico</td>\n",
              "      <td>northamerica</td>\n",
              "      <td>A</td>\n",
              "      <td>2</td>\n",
              "      <td>3</td>\n",
              "      <td>2</td>\n",
              "      <td>1</td>\n",
              "      <td>0</td>\n",
              "      <td>4</td>\n",
              "      <td>1</td>\n",
              "      <td>3</td>\n",
              "      <td>7</td>\n",
              "      <td>1</td>\n",
              "    </tr>\n",
              "    <tr>\n",
              "      <th>2</th>\n",
              "      <td>Croatia</td>\n",
              "      <td>europe</td>\n",
              "      <td>A</td>\n",
              "      <td>3</td>\n",
              "      <td>3</td>\n",
              "      <td>1</td>\n",
              "      <td>0</td>\n",
              "      <td>2</td>\n",
              "      <td>6</td>\n",
              "      <td>6</td>\n",
              "      <td>0</td>\n",
              "      <td>3</td>\n",
              "      <td>0</td>\n",
              "    </tr>\n",
              "    <tr>\n",
              "      <th>3</th>\n",
              "      <td>Cameroon</td>\n",
              "      <td>africa</td>\n",
              "      <td>A</td>\n",
              "      <td>4</td>\n",
              "      <td>3</td>\n",
              "      <td>0</td>\n",
              "      <td>0</td>\n",
              "      <td>3</td>\n",
              "      <td>1</td>\n",
              "      <td>9</td>\n",
              "      <td>−8</td>\n",
              "      <td>0</td>\n",
              "      <td>0</td>\n",
              "    </tr>\n",
              "    <tr>\n",
              "      <th>4</th>\n",
              "      <td>Netherlands</td>\n",
              "      <td>europe</td>\n",
              "      <td>B</td>\n",
              "      <td>1</td>\n",
              "      <td>3</td>\n",
              "      <td>3</td>\n",
              "      <td>0</td>\n",
              "      <td>0</td>\n",
              "      <td>10</td>\n",
              "      <td>3</td>\n",
              "      <td>7</td>\n",
              "      <td>9</td>\n",
              "      <td>1</td>\n",
              "    </tr>\n",
              "  </tbody>\n",
              "</table>\n",
              "</div>"
            ],
            "text/plain": [
              "          team     continent group  ...  goles_diferencia  puntos  clasificado\n",
              "0       Brazil  southamerica     A  ...                 5       7            1\n",
              "1       Mexico  northamerica     A  ...                 3       7            1\n",
              "2      Croatia        europe     A  ...                 0       3            0\n",
              "3     Cameroon        africa     A  ...                −8       0            0\n",
              "4  Netherlands        europe     B  ...                 7       9            1\n",
              "\n",
              "[5 rows x 13 columns]"
            ]
          },
          "metadata": {},
          "execution_count": 3
        }
      ]
    },
    {
      "cell_type": "code",
      "metadata": {
        "id": "0fc0cfdc",
        "colab": {
          "base_uri": "https://localhost:8080/"
        },
        "outputId": "3b5e957a-556a-4c95-d7df-a718511775d3"
      },
      "source": [
        "print('El promedio de goles a favor en la muestra es de {} y su varianza es de {}'.format(media(df['goles_favor']),varianza(df['goles_favor'])))\n",
        "print('El promedio de goles en contra en la muestra es de {} y su varianza es de {}'.format(media(df['goles_contra']),varianza(df['goles_contra'])))\n",
        "print('El promedio de puntos en la muestra es de {} y su varianza es de {}'.format(media(df['puntos']),varianza(df['puntos'])))"
      ],
      "id": "0fc0cfdc",
      "execution_count": 4,
      "outputs": [
        {
          "output_type": "stream",
          "name": "stdout",
          "text": [
            "El promedio de goles a favor en la muestra es de 4.25 y su varianza es de 5.19\n",
            "El promedio de goles en contra en la muestra es de 4.25 y su varianza es de 4.81\n",
            "El promedio de puntos en la muestra es de 4.21875 y su varianza es de 8.05\n"
          ]
        }
      ]
    },
    {
      "cell_type": "markdown",
      "metadata": {
        "id": "fbd4852c"
      },
      "source": [
        "# Desafío 2:\n",
        "\n",
        "Utilizando el método groupby de la clase DataFrame, en conjunto con la función .agg de pandas, calcule la media, la varianza y desviación estándar de la cantidad de goles a favor, en contra y de la cantidad de puntos por continente."
      ],
      "id": "fbd4852c"
    },
    {
      "cell_type": "code",
      "metadata": {
        "id": "_r6Ma4skaGCn",
        "colab": {
          "base_uri": "https://localhost:8080/",
          "height": 269
        },
        "outputId": "f5203500-79ee-4c34-b40c-2895ad6f3381"
      },
      "source": [
        "df.groupby(['continent']).agg({'goles_favor' : ['sum', 'mean', 'var'], 'goles_contra' : ['sum', 'mean', 'var'], 'puntos' : ['sum', 'mean', 'var']})"
      ],
      "id": "_r6Ma4skaGCn",
      "execution_count": 5,
      "outputs": [
        {
          "output_type": "execute_result",
          "data": {
            "text/html": [
              "<div>\n",
              "<style scoped>\n",
              "    .dataframe tbody tr th:only-of-type {\n",
              "        vertical-align: middle;\n",
              "    }\n",
              "\n",
              "    .dataframe tbody tr th {\n",
              "        vertical-align: top;\n",
              "    }\n",
              "\n",
              "    .dataframe thead tr th {\n",
              "        text-align: left;\n",
              "    }\n",
              "\n",
              "    .dataframe thead tr:last-of-type th {\n",
              "        text-align: right;\n",
              "    }\n",
              "</style>\n",
              "<table border=\"1\" class=\"dataframe\">\n",
              "  <thead>\n",
              "    <tr>\n",
              "      <th></th>\n",
              "      <th colspan=\"3\" halign=\"left\">goles_favor</th>\n",
              "      <th colspan=\"3\" halign=\"left\">goles_contra</th>\n",
              "      <th colspan=\"3\" halign=\"left\">puntos</th>\n",
              "    </tr>\n",
              "    <tr>\n",
              "      <th></th>\n",
              "      <th>sum</th>\n",
              "      <th>mean</th>\n",
              "      <th>var</th>\n",
              "      <th>sum</th>\n",
              "      <th>mean</th>\n",
              "      <th>var</th>\n",
              "      <th>sum</th>\n",
              "      <th>mean</th>\n",
              "      <th>var</th>\n",
              "    </tr>\n",
              "    <tr>\n",
              "      <th>continent</th>\n",
              "      <th></th>\n",
              "      <th></th>\n",
              "      <th></th>\n",
              "      <th></th>\n",
              "      <th></th>\n",
              "      <th></th>\n",
              "      <th></th>\n",
              "      <th></th>\n",
              "      <th></th>\n",
              "    </tr>\n",
              "  </thead>\n",
              "  <tbody>\n",
              "    <tr>\n",
              "      <th>africa</th>\n",
              "      <td>18</td>\n",
              "      <td>3.600000</td>\n",
              "      <td>3.300000</td>\n",
              "      <td>28</td>\n",
              "      <td>5.600000</td>\n",
              "      <td>4.800000</td>\n",
              "      <td>12</td>\n",
              "      <td>2.400000</td>\n",
              "      <td>3.300000</td>\n",
              "    </tr>\n",
              "    <tr>\n",
              "      <th>asia</th>\n",
              "      <td>9</td>\n",
              "      <td>2.250000</td>\n",
              "      <td>0.916667</td>\n",
              "      <td>25</td>\n",
              "      <td>6.250000</td>\n",
              "      <td>4.250000</td>\n",
              "      <td>3</td>\n",
              "      <td>0.750000</td>\n",
              "      <td>0.250000</td>\n",
              "    </tr>\n",
              "    <tr>\n",
              "      <th>europe</th>\n",
              "      <td>62</td>\n",
              "      <td>4.769231</td>\n",
              "      <td>6.858974</td>\n",
              "      <td>52</td>\n",
              "      <td>4.000000</td>\n",
              "      <td>3.833333</td>\n",
              "      <td>61</td>\n",
              "      <td>4.692308</td>\n",
              "      <td>6.897436</td>\n",
              "    </tr>\n",
              "    <tr>\n",
              "      <th>northamerica</th>\n",
              "      <td>13</td>\n",
              "      <td>3.250000</td>\n",
              "      <td>2.250000</td>\n",
              "      <td>14</td>\n",
              "      <td>3.500000</td>\n",
              "      <td>11.000000</td>\n",
              "      <td>18</td>\n",
              "      <td>4.500000</td>\n",
              "      <td>11.000000</td>\n",
              "    </tr>\n",
              "    <tr>\n",
              "      <th>southamerica</th>\n",
              "      <td>34</td>\n",
              "      <td>5.666667</td>\n",
              "      <td>4.666667</td>\n",
              "      <td>17</td>\n",
              "      <td>2.833333</td>\n",
              "      <td>0.566667</td>\n",
              "      <td>41</td>\n",
              "      <td>6.833333</td>\n",
              "      <td>3.766667</td>\n",
              "    </tr>\n",
              "  </tbody>\n",
              "</table>\n",
              "</div>"
            ],
            "text/plain": [
              "             goles_favor                      ... puntos                     \n",
              "                     sum      mean       var  ...    sum      mean        var\n",
              "continent                                     ...                            \n",
              "africa                18  3.600000  3.300000  ...     12  2.400000   3.300000\n",
              "asia                   9  2.250000  0.916667  ...      3  0.750000   0.250000\n",
              "europe                62  4.769231  6.858974  ...     61  4.692308   6.897436\n",
              "northamerica          13  3.250000  2.250000  ...     18  4.500000  11.000000\n",
              "southamerica          34  5.666667  4.666667  ...     41  6.833333   3.766667\n",
              "\n",
              "[5 rows x 9 columns]"
            ]
          },
          "metadata": {},
          "execution_count": 5
        }
      ]
    },
    {
      "cell_type": "markdown",
      "metadata": {
        "id": "f8933bdd"
      },
      "source": [
        "* ¿En qué continente se observa una mayor cantidad de goles a favor?\n",
        "\n",
        "RP. Europa reporta la mayor cantidad de goles a favor, con un total de 62 goles.\n",
        "\n",
        "* ¿En qué continente se observa una mayor cantidad de goles en contra?\n",
        "\n",
        "RP. Europa reporta la mayor cantidad de goles en contra, con un total de 52 goles.\n",
        "\n",
        "* ¿En qué continente se observa una mayor cantidad de puntos en promedio?\n",
        "\n",
        "RP. Sudamérica reporta la mayor cantidad de puntos en promedio, con una media de 6.8 puntos"
      ],
      "id": "f8933bdd"
    },
    {
      "cell_type": "markdown",
      "metadata": {
        "id": "6dbabca3"
      },
      "source": [
        "# Desafío 3: Simulaciones\n"
      ],
      "id": "6dbabca3"
    },
    {
      "cell_type": "markdown",
      "metadata": {
        "id": "7d939c0d"
      },
      "source": [
        "* Genere una función generate_pet que devuelva de forma aleatoria un string 'perro' o 'gato' un número n de veces. Ejecútela un par de veces.\n",
        "    * Tip: Puede utilizar la función np.random.choice para retornar elementos al azar."
      ],
      "id": "7d939c0d"
    },
    {
      "cell_type": "code",
      "metadata": {
        "id": "c84f2e43",
        "colab": {
          "base_uri": "https://localhost:8080/"
        },
        "outputId": "2ffe1d4c-2fe6-4ddf-dada-5f16f3d9da53"
      },
      "source": [
        "def generate_pet():\n",
        "    return np.random.choice(['perro','gato'])\n",
        "\n",
        "for i in np.arange(4):\n",
        "    print(generate_pet())"
      ],
      "id": "c84f2e43",
      "execution_count": 6,
      "outputs": [
        {
          "output_type": "stream",
          "name": "stdout",
          "text": [
            "perro\n",
            "gato\n",
            "perro\n",
            "gato\n"
          ]
        }
      ]
    },
    {
      "cell_type": "markdown",
      "metadata": {
        "id": "fefb9914"
      },
      "source": [
        "* Aplique la función generate_pet para generar 20 muestras.\n"
      ],
      "id": "fefb9914"
    },
    {
      "cell_type": "code",
      "metadata": {
        "id": "fe4708a0",
        "colab": {
          "base_uri": "https://localhost:8080/"
        },
        "outputId": "2faa93cc-0b7e-4d41-fbfe-715e3d14e7e1"
      },
      "source": [
        "muestras = []\n",
        "for i in np.arange(20):\n",
        "    muestras.append(generate_pet())\n",
        "    print('{}.- {}'.format(i+1,muestras[i]))"
      ],
      "id": "fe4708a0",
      "execution_count": 7,
      "outputs": [
        {
          "output_type": "stream",
          "name": "stdout",
          "text": [
            "1.- perro\n",
            "2.- gato\n",
            "3.- gato\n",
            "4.- perro\n",
            "5.- perro\n",
            "6.- gato\n",
            "7.- gato\n",
            "8.- gato\n",
            "9.- perro\n",
            "10.- gato\n",
            "11.- perro\n",
            "12.- gato\n",
            "13.- perro\n",
            "14.- gato\n",
            "15.- perro\n",
            "16.- perro\n",
            "17.- gato\n",
            "18.- gato\n",
            "19.- perro\n",
            "20.- perro\n"
          ]
        }
      ]
    },
    {
      "cell_type": "markdown",
      "metadata": {
        "id": "ade93ccf"
      },
      "source": [
        "* ¿Cuál es la probabilidad de elegir un perro al azar? ¿Y un gato?\n"
      ],
      "id": "ade93ccf"
    },
    {
      "cell_type": "code",
      "metadata": {
        "id": "6574e7d4",
        "colab": {
          "base_uri": "https://localhost:8080/"
        },
        "outputId": "9b856f0b-680b-4d8f-d950-82de0f3b6502"
      },
      "source": [
        "muestras = pd.DataFrame(muestras, columns=['mascota'])\n",
        "P_perro = float(muestras[muestras['mascota']=='perro'].count()/muestras['mascota'].count())\n",
        "P_gato = float(muestras[muestras['mascota']=='gato'].count()/muestras['mascota'].count())\n",
        "\n",
        "print('La probabilidad de elegir un perro al azar es de {}%'.format(P_perro*100))\n",
        "print('La probabilidad de elegir un gato al azar es de {}%'.format(P_gato*100))"
      ],
      "id": "6574e7d4",
      "execution_count": 8,
      "outputs": [
        {
          "output_type": "stream",
          "name": "stdout",
          "text": [
            "La probabilidad de elegir un perro al azar es de 50.0%\n",
            "La probabilidad de elegir un gato al azar es de 50.0%\n"
          ]
        }
      ]
    },
    {
      "cell_type": "markdown",
      "metadata": {
        "id": "1b2fc5ac"
      },
      "source": [
        "* Agregue np.random.seed(2) al inicio del chunk. ¿Qué diferencia hay cuando se ejecuta la función varias veces luego de fijar la semilla?"
      ],
      "id": "1b2fc5ac"
    },
    {
      "cell_type": "code",
      "metadata": {
        "id": "b5e3d3ab",
        "colab": {
          "base_uri": "https://localhost:8080/"
        },
        "outputId": "bdffd004-95d9-466d-8b6d-2f9abf3bb90e"
      },
      "source": [
        "for i in np.arange(4):\n",
        "            \n",
        "    muestras = pd.DataFrame([generate_pet() for i in np.arange(20)], columns=['mascota'])\n",
        "    P_perro = float(muestras[muestras['mascota']=='perro'].count()/muestras['mascota'].count())\n",
        "    P_gato = float(muestras[muestras['mascota']=='gato'].count()/muestras['mascota'].count())\n",
        "    \n",
        "    print('La probabilidad de elegir un perro al azar es de {}%'.format(P_perro*100))\n",
        "    print('La probabilidad de elegir un gato al azar es de {}%\\n'.format(P_gato*100))\n",
        "    \n",
        "\n",
        "print('Utilizando np.random.seed(2)\\n')\n",
        "\n",
        "for i in np.arange(4):\n",
        "    \n",
        "    np.random.seed(2)\n",
        "    muestras = pd.DataFrame([generate_pet() for i in np.arange(20)], columns=['mascota'])\n",
        "    \n",
        "    P_perro = float(muestras[muestras['mascota']=='perro'].count()/muestras['mascota'].count())\n",
        "    P_gato = float(muestras[muestras['mascota']=='gato'].count()/muestras['mascota'].count())\n",
        "    \n",
        "    print('La probabilidad de elegir un perro al azar es de {}%'.format(P_perro*100))\n",
        "    print('La probabilidad de elegir un gato al azar es de {}%\\n'.format(P_gato*100))"
      ],
      "id": "b5e3d3ab",
      "execution_count": 9,
      "outputs": [
        {
          "output_type": "stream",
          "name": "stdout",
          "text": [
            "La probabilidad de elegir un perro al azar es de 40.0%\n",
            "La probabilidad de elegir un gato al azar es de 60.0%\n",
            "\n",
            "La probabilidad de elegir un perro al azar es de 60.0%\n",
            "La probabilidad de elegir un gato al azar es de 40.0%\n",
            "\n",
            "La probabilidad de elegir un perro al azar es de 65.0%\n",
            "La probabilidad de elegir un gato al azar es de 35.0%\n",
            "\n",
            "La probabilidad de elegir un perro al azar es de 50.0%\n",
            "La probabilidad de elegir un gato al azar es de 50.0%\n",
            "\n",
            "Utilizando np.random.seed(2)\n",
            "\n",
            "La probabilidad de elegir un perro al azar es de 40.0%\n",
            "La probabilidad de elegir un gato al azar es de 60.0%\n",
            "\n",
            "La probabilidad de elegir un perro al azar es de 40.0%\n",
            "La probabilidad de elegir un gato al azar es de 60.0%\n",
            "\n",
            "La probabilidad de elegir un perro al azar es de 40.0%\n",
            "La probabilidad de elegir un gato al azar es de 60.0%\n",
            "\n",
            "La probabilidad de elegir un perro al azar es de 40.0%\n",
            "La probabilidad de elegir un gato al azar es de 60.0%\n",
            "\n"
          ]
        }
      ]
    },
    {
      "cell_type": "markdown",
      "metadata": {
        "id": "0fa9d4a8"
      },
      "source": [
        "Con el reinicio de semilla aleatoria (cada vez), el mismo conjunto de números aparecerá cada vez. Si la semilla aleatoria no se restablece, aparecen diferentes números con cada invocación:"
      ],
      "id": "0fa9d4a8"
    },
    {
      "cell_type": "markdown",
      "metadata": {
        "id": "acbaf0e8"
      },
      "source": [
        "# Desafío 4: Función simuladora"
      ],
      "id": "acbaf0e8"
    },
    {
      "cell_type": "markdown",
      "metadata": {
        "id": "9e899fbb"
      },
      "source": [
        "* Genere una función llamada simulate_pets_prob que tome como argumento un número finito de simulaciones a generar.\n",
        "* La función debe simular dos situaciones young_pet y old_pet, y contar la ocurrencia de los siguientes casos:\n",
        "    * De las dos mascotas simuladas (young y old), contar las ocasiones donde por lo menos una de las mascotas sea un perro.\n",
        "    * De las dos mascotas simuladas, contar las ocasiones donde old_pet sea un perro.\n",
        "    * De las dos mascotas simuladas, contar las ocasiones donde los dos sean perros.\n",
        "* El método debe tener una semilla pseudoaleatoria de 1.\n",
        "* El output de la función debe entregarse en términos de Probabilidad.\n",
        "* De los tres escenarios, ¿Cuál es el menos probable? ¿Cuál es el más probable? ¿Por qué?\n",
        "\n"
      ],
      "id": "9e899fbb"
    },
    {
      "cell_type": "code",
      "metadata": {
        "id": "16e538db",
        "colab": {
          "base_uri": "https://localhost:8080/",
          "height": 476
        },
        "outputId": "38cbaba7-f329-480f-852c-98fe3c8af2d9"
      },
      "source": [
        "def simulate_pets_prob(n):\n",
        "    \n",
        "    np.random.seed(0); young_pet = pd.DataFrame([generate_pet() for i in np.arange(n)], columns=['young'])\n",
        "    np.random.seed(1); old_pet = pd.DataFrame([generate_pet() for i in np.arange(n)], columns=['old'])\n",
        "\n",
        "    # De las dos mascotas simuladas (young y old), contar las ocasiones donde por lo menos \n",
        "    # una de las mascotas sea un perro.\n",
        "    filtro1 = (young_pet['young']=='perro') | (old_pet['old']=='perro')\n",
        "    \n",
        "    # De las dos mascotas simuladas, contar las ocasiones donde old_pet sea un perro.\n",
        "    filtro2 = old_pet['old']=='perro'\n",
        "    \n",
        "    # De las dos mascotas simuladas, contar las ocasiones donde los dos sean perros.\n",
        "    filtro3 = (young_pet['young']=='perro') & (old_pet['old']=='perro')\n",
        "    \n",
        "    simulaciones = pd.concat([young_pet , old_pet], axis=1)\n",
        "\n",
        "    print('Ocasiones donde al menos una de las mascotas es un perro: {}'.format(len(simulaciones[filtro1].index)/n))\n",
        "    print('Ocasiones donde old_pet es un perro: {}'.format(len(simulaciones[filtro2].index)/n))\n",
        "    print('Ocasiones donde los dos son perros: {}'.format(len(simulaciones[filtro3].index)/n))\n",
        "    \n",
        "    return young_pet,old_pet\n",
        "\n",
        "young_pet , old_pet = simulate_pets_prob(10000)\n",
        "simulaciones = pd.concat([young_pet , old_pet], axis=1)\n",
        "\n",
        "simulaciones"
      ],
      "id": "16e538db",
      "execution_count": 10,
      "outputs": [
        {
          "output_type": "stream",
          "name": "stdout",
          "text": [
            "Ocasiones donde al menos una de las mascotas es un perro: 0.7509\n",
            "Ocasiones donde old_pet es un perro: 0.5006\n",
            "Ocasiones donde los dos son perros: 0.2412\n"
          ]
        },
        {
          "output_type": "execute_result",
          "data": {
            "text/html": [
              "<div>\n",
              "<style scoped>\n",
              "    .dataframe tbody tr th:only-of-type {\n",
              "        vertical-align: middle;\n",
              "    }\n",
              "\n",
              "    .dataframe tbody tr th {\n",
              "        vertical-align: top;\n",
              "    }\n",
              "\n",
              "    .dataframe thead th {\n",
              "        text-align: right;\n",
              "    }\n",
              "</style>\n",
              "<table border=\"1\" class=\"dataframe\">\n",
              "  <thead>\n",
              "    <tr style=\"text-align: right;\">\n",
              "      <th></th>\n",
              "      <th>young</th>\n",
              "      <th>old</th>\n",
              "    </tr>\n",
              "  </thead>\n",
              "  <tbody>\n",
              "    <tr>\n",
              "      <th>0</th>\n",
              "      <td>perro</td>\n",
              "      <td>gato</td>\n",
              "    </tr>\n",
              "    <tr>\n",
              "      <th>1</th>\n",
              "      <td>gato</td>\n",
              "      <td>gato</td>\n",
              "    </tr>\n",
              "    <tr>\n",
              "      <th>2</th>\n",
              "      <td>gato</td>\n",
              "      <td>perro</td>\n",
              "    </tr>\n",
              "    <tr>\n",
              "      <th>3</th>\n",
              "      <td>perro</td>\n",
              "      <td>perro</td>\n",
              "    </tr>\n",
              "    <tr>\n",
              "      <th>4</th>\n",
              "      <td>gato</td>\n",
              "      <td>gato</td>\n",
              "    </tr>\n",
              "    <tr>\n",
              "      <th>...</th>\n",
              "      <td>...</td>\n",
              "      <td>...</td>\n",
              "    </tr>\n",
              "    <tr>\n",
              "      <th>9995</th>\n",
              "      <td>perro</td>\n",
              "      <td>perro</td>\n",
              "    </tr>\n",
              "    <tr>\n",
              "      <th>9996</th>\n",
              "      <td>gato</td>\n",
              "      <td>gato</td>\n",
              "    </tr>\n",
              "    <tr>\n",
              "      <th>9997</th>\n",
              "      <td>perro</td>\n",
              "      <td>gato</td>\n",
              "    </tr>\n",
              "    <tr>\n",
              "      <th>9998</th>\n",
              "      <td>gato</td>\n",
              "      <td>perro</td>\n",
              "    </tr>\n",
              "    <tr>\n",
              "      <th>9999</th>\n",
              "      <td>perro</td>\n",
              "      <td>gato</td>\n",
              "    </tr>\n",
              "  </tbody>\n",
              "</table>\n",
              "<p>10000 rows × 2 columns</p>\n",
              "</div>"
            ],
            "text/plain": [
              "      young    old\n",
              "0     perro   gato\n",
              "1      gato   gato\n",
              "2      gato  perro\n",
              "3     perro  perro\n",
              "4      gato   gato\n",
              "...     ...    ...\n",
              "9995  perro  perro\n",
              "9996   gato   gato\n",
              "9997  perro   gato\n",
              "9998   gato  perro\n",
              "9999  perro   gato\n",
              "\n",
              "[10000 rows x 2 columns]"
            ]
          },
          "metadata": {},
          "execution_count": 10
        }
      ]
    },
    {
      "cell_type": "markdown",
      "metadata": {
        "id": "5d9c25fa"
      },
      "source": [
        "El escenario menos probable es el 3, donde los dos son perros (25% aprox), y el escenario más probables es el 1, donde al menos una de las mascotas es un perro (75% aprox). \n",
        "\n",
        "Esto se debe a que el primer escenario se refiere a eventos independientes, por lo tanto sus probabilidades se suman, en cambio el tercer escenario refiere a eventos dependientes, por lo tanto sus probabilidades se multiplican. Esto último implica que, a menos que uno de los dos eventos dependientes ocurra siempre (probabilidad igual 1), la probabilidad conjunta solo disminuirá al ponderar ambas."
      ],
      "id": "5d9c25fa"
    }
  ]
}