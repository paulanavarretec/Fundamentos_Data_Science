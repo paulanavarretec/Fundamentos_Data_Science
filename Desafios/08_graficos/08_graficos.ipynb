{
 "cells": [
  {
   "cell_type": "markdown",
   "metadata": {
    "id": "wwmPsD8IKq8i"
   },
   "source": [
    "# 1. Genere una muestra de casos\n",
    "\n",
    "* Utilice los últimos 4 dígitos de su rut como semilla pseudoaleatoria.\n",
    "* Seleccione el 50% de los casos.\n",
    "* Cada base generada debe contener los siguientes elementos:\n",
    "  * El índice de desarrollo humano (undp_hdi).\n",
    "  * El nombre del país (ccodealp).\n",
    "  * La región a la que pertenece (ht_region).\n",
    "  * El PIB per capita. (gle_cgdpc).\n",
    "  * El total de la población (imf_pop).\n",
    "\n",
    "...\n",
    "\n",
    "* Si su apellido está entre la N y la Z, escoja las siguientes variables del módulo Salud:\n",
    "  * wef_imort: Infant mortality, deaths/1000 live births.\n",
    "  * who_alc2000: Alcohol consumption per capita (2000-).\n",
    "  * who_tobt: Current smoking of any tobacco product (Total).\n",
    "  * wdi_exph: Government expenditure on health, total (% of GDP).\n",
    "  * Guarde esta tabla procesada en un nuevo objeto.\n",
    "  * Renombre las categorías de la variable ht_region de números a regiones.\n",
    "\n",
    "\n",
    "\n",
    "\n",
    "\n"
   ]
  },
  {
   "cell_type": "code",
   "execution_count": 1,
   "metadata": {
    "colab": {
     "base_uri": "https://localhost:8080/",
     "height": 273
    },
    "id": "lPORwczOImhf",
    "outputId": "1634842b-a5f3-4fb7-8f42-2cb5a410fb1f"
   },
   "outputs": [
    {
     "name": "stdout",
     "output_type": "stream",
     "text": [
      "Shape: (194, 1882)\n"
     ]
    },
    {
     "data": {
      "text/html": [
       "<div>\n",
       "<style scoped>\n",
       "    .dataframe tbody tr th:only-of-type {\n",
       "        vertical-align: middle;\n",
       "    }\n",
       "\n",
       "    .dataframe tbody tr th {\n",
       "        vertical-align: top;\n",
       "    }\n",
       "\n",
       "    .dataframe thead th {\n",
       "        text-align: right;\n",
       "    }\n",
       "</style>\n",
       "<table border=\"1\" class=\"dataframe\">\n",
       "  <thead>\n",
       "    <tr style=\"text-align: right;\">\n",
       "      <th></th>\n",
       "      <th>ccode</th>\n",
       "      <th>cname</th>\n",
       "      <th>ccodealp</th>\n",
       "      <th>ccodecow</th>\n",
       "      <th>ccodewb</th>\n",
       "      <th>version</th>\n",
       "      <th>aid_cpnc</th>\n",
       "      <th>aid_cpsc</th>\n",
       "      <th>aid_crnc</th>\n",
       "      <th>aid_crnio</th>\n",
       "      <th>...</th>\n",
       "      <th>wvs_relacc</th>\n",
       "      <th>wvs_relsch</th>\n",
       "      <th>wvs_relsci</th>\n",
       "      <th>wvs_satfin</th>\n",
       "      <th>wvs_satlif</th>\n",
       "      <th>wvs_screl</th>\n",
       "      <th>wvs_subh</th>\n",
       "      <th>wvs_survself</th>\n",
       "      <th>wvs_tradrat</th>\n",
       "      <th>wvs_trust</th>\n",
       "    </tr>\n",
       "  </thead>\n",
       "  <tbody>\n",
       "    <tr>\n",
       "      <th>0</th>\n",
       "      <td>4</td>\n",
       "      <td>Afghanistan</td>\n",
       "      <td>AFG</td>\n",
       "      <td>700.0</td>\n",
       "      <td>4.0</td>\n",
       "      <td>QoGStdCSJan18</td>\n",
       "      <td>NaN</td>\n",
       "      <td>NaN</td>\n",
       "      <td>29.0</td>\n",
       "      <td>13.0</td>\n",
       "      <td>...</td>\n",
       "      <td>NaN</td>\n",
       "      <td>NaN</td>\n",
       "      <td>NaN</td>\n",
       "      <td>NaN</td>\n",
       "      <td>NaN</td>\n",
       "      <td>NaN</td>\n",
       "      <td>NaN</td>\n",
       "      <td>NaN</td>\n",
       "      <td>NaN</td>\n",
       "      <td>NaN</td>\n",
       "    </tr>\n",
       "    <tr>\n",
       "      <th>1</th>\n",
       "      <td>8</td>\n",
       "      <td>Albania</td>\n",
       "      <td>ALB</td>\n",
       "      <td>339.0</td>\n",
       "      <td>8.0</td>\n",
       "      <td>QoGStdCSJan18</td>\n",
       "      <td>NaN</td>\n",
       "      <td>NaN</td>\n",
       "      <td>26.0</td>\n",
       "      <td>13.0</td>\n",
       "      <td>...</td>\n",
       "      <td>NaN</td>\n",
       "      <td>NaN</td>\n",
       "      <td>NaN</td>\n",
       "      <td>NaN</td>\n",
       "      <td>NaN</td>\n",
       "      <td>NaN</td>\n",
       "      <td>NaN</td>\n",
       "      <td>NaN</td>\n",
       "      <td>NaN</td>\n",
       "      <td>NaN</td>\n",
       "    </tr>\n",
       "    <tr>\n",
       "      <th>2</th>\n",
       "      <td>12</td>\n",
       "      <td>Algeria</td>\n",
       "      <td>DZA</td>\n",
       "      <td>615.0</td>\n",
       "      <td>12.0</td>\n",
       "      <td>QoGStdCSJan18</td>\n",
       "      <td>NaN</td>\n",
       "      <td>NaN</td>\n",
       "      <td>21.0</td>\n",
       "      <td>6.0</td>\n",
       "      <td>...</td>\n",
       "      <td>3.710616</td>\n",
       "      <td>1.704692</td>\n",
       "      <td>3.681347</td>\n",
       "      <td>5.988125</td>\n",
       "      <td>6.301029</td>\n",
       "      <td>5.339371</td>\n",
       "      <td>3.805579</td>\n",
       "      <td>-0.409807</td>\n",
       "      <td>-0.498164</td>\n",
       "      <td>0.179286</td>\n",
       "    </tr>\n",
       "    <tr>\n",
       "      <th>3</th>\n",
       "      <td>20</td>\n",
       "      <td>Andorra</td>\n",
       "      <td>AND</td>\n",
       "      <td>232.0</td>\n",
       "      <td>20.0</td>\n",
       "      <td>QoGStdCSJan18</td>\n",
       "      <td>NaN</td>\n",
       "      <td>NaN</td>\n",
       "      <td>NaN</td>\n",
       "      <td>NaN</td>\n",
       "      <td>...</td>\n",
       "      <td>NaN</td>\n",
       "      <td>NaN</td>\n",
       "      <td>NaN</td>\n",
       "      <td>NaN</td>\n",
       "      <td>NaN</td>\n",
       "      <td>NaN</td>\n",
       "      <td>NaN</td>\n",
       "      <td>NaN</td>\n",
       "      <td>NaN</td>\n",
       "      <td>NaN</td>\n",
       "    </tr>\n",
       "    <tr>\n",
       "      <th>4</th>\n",
       "      <td>24</td>\n",
       "      <td>Angola</td>\n",
       "      <td>AGO</td>\n",
       "      <td>540.0</td>\n",
       "      <td>24.0</td>\n",
       "      <td>QoGStdCSJan18</td>\n",
       "      <td>NaN</td>\n",
       "      <td>NaN</td>\n",
       "      <td>22.0</td>\n",
       "      <td>13.0</td>\n",
       "      <td>...</td>\n",
       "      <td>NaN</td>\n",
       "      <td>NaN</td>\n",
       "      <td>NaN</td>\n",
       "      <td>NaN</td>\n",
       "      <td>NaN</td>\n",
       "      <td>NaN</td>\n",
       "      <td>NaN</td>\n",
       "      <td>NaN</td>\n",
       "      <td>NaN</td>\n",
       "      <td>NaN</td>\n",
       "    </tr>\n",
       "  </tbody>\n",
       "</table>\n",
       "<p>5 rows × 1882 columns</p>\n",
       "</div>"
      ],
      "text/plain": [
       "   ccode        cname ccodealp  ccodecow  ccodewb        version  aid_cpnc  \\\n",
       "0      4  Afghanistan      AFG     700.0      4.0  QoGStdCSJan18       NaN   \n",
       "1      8      Albania      ALB     339.0      8.0  QoGStdCSJan18       NaN   \n",
       "2     12      Algeria      DZA     615.0     12.0  QoGStdCSJan18       NaN   \n",
       "3     20      Andorra      AND     232.0     20.0  QoGStdCSJan18       NaN   \n",
       "4     24       Angola      AGO     540.0     24.0  QoGStdCSJan18       NaN   \n",
       "\n",
       "   aid_cpsc  aid_crnc  aid_crnio  ...  wvs_relacc  wvs_relsch  wvs_relsci  \\\n",
       "0       NaN      29.0       13.0  ...         NaN         NaN         NaN   \n",
       "1       NaN      26.0       13.0  ...         NaN         NaN         NaN   \n",
       "2       NaN      21.0        6.0  ...    3.710616    1.704692    3.681347   \n",
       "3       NaN       NaN        NaN  ...         NaN         NaN         NaN   \n",
       "4       NaN      22.0       13.0  ...         NaN         NaN         NaN   \n",
       "\n",
       "   wvs_satfin  wvs_satlif  wvs_screl  wvs_subh  wvs_survself  wvs_tradrat  \\\n",
       "0         NaN         NaN        NaN       NaN           NaN          NaN   \n",
       "1         NaN         NaN        NaN       NaN           NaN          NaN   \n",
       "2    5.988125    6.301029   5.339371  3.805579     -0.409807    -0.498164   \n",
       "3         NaN         NaN        NaN       NaN           NaN          NaN   \n",
       "4         NaN         NaN        NaN       NaN           NaN          NaN   \n",
       "\n",
       "   wvs_trust  \n",
       "0        NaN  \n",
       "1        NaN  \n",
       "2   0.179286  \n",
       "3        NaN  \n",
       "4        NaN  \n",
       "\n",
       "[5 rows x 1882 columns]"
      ]
     },
     "execution_count": 1,
     "metadata": {},
     "output_type": "execute_result"
    }
   ],
   "source": [
    "import pandas as pd\n",
    "\n",
    "df = pd.read_csv('qog_std_cs_jan18.csv')#, sep=';', decimal=',')\n",
    "print(f'Shape: {df.shape}')\n",
    "df.head()\n",
    "\n",
    "# Pablo maluenda compañero revisión\n",
    "# Mi correo es pmaluenda89@gmail.com\n"
   ]
  },
  {
   "cell_type": "code",
   "execution_count": 2,
   "metadata": {
    "colab": {
     "base_uri": "https://localhost:8080/",
     "height": 223
    },
    "id": "HMs0uTQ-MVRL",
    "outputId": "a9c58048-7480-4cc0-8de7-ff1927b8ca43"
   },
   "outputs": [
    {
     "name": "stdout",
     "output_type": "stream",
     "text": [
      "Shape: (97, 9)\n"
     ]
    },
    {
     "data": {
      "text/html": [
       "<div>\n",
       "<style scoped>\n",
       "    .dataframe tbody tr th:only-of-type {\n",
       "        vertical-align: middle;\n",
       "    }\n",
       "\n",
       "    .dataframe tbody tr th {\n",
       "        vertical-align: top;\n",
       "    }\n",
       "\n",
       "    .dataframe thead th {\n",
       "        text-align: right;\n",
       "    }\n",
       "</style>\n",
       "<table border=\"1\" class=\"dataframe\">\n",
       "  <thead>\n",
       "    <tr style=\"text-align: right;\">\n",
       "      <th></th>\n",
       "      <th>undp_hdi</th>\n",
       "      <th>ccodealp</th>\n",
       "      <th>ht_region</th>\n",
       "      <th>gle_cgdpc</th>\n",
       "      <th>imf_pop</th>\n",
       "      <th>wef_imort</th>\n",
       "      <th>who_alc2000</th>\n",
       "      <th>who_tobt</th>\n",
       "      <th>wdi_exph</th>\n",
       "    </tr>\n",
       "  </thead>\n",
       "  <tbody>\n",
       "    <tr>\n",
       "      <th>2</th>\n",
       "      <td>0.743</td>\n",
       "      <td>DZA</td>\n",
       "      <td>3</td>\n",
       "      <td>5402.1699</td>\n",
       "      <td>39.113998</td>\n",
       "      <td>17.200001</td>\n",
       "      <td>0.53</td>\n",
       "      <td>NaN</td>\n",
       "      <td>7.207178</td>\n",
       "    </tr>\n",
       "    <tr>\n",
       "      <th>34</th>\n",
       "      <td>0.394</td>\n",
       "      <td>TCD</td>\n",
       "      <td>4</td>\n",
       "      <td>1651.0500</td>\n",
       "      <td>NaN</td>\n",
       "      <td>89.400002</td>\n",
       "      <td>0.64</td>\n",
       "      <td>NaN</td>\n",
       "      <td>3.621164</td>\n",
       "    </tr>\n",
       "    <tr>\n",
       "      <th>0</th>\n",
       "      <td>0.479</td>\n",
       "      <td>AFG</td>\n",
       "      <td>8</td>\n",
       "      <td>1282.6400</td>\n",
       "      <td>29.825001</td>\n",
       "      <td>NaN</td>\n",
       "      <td>0.01</td>\n",
       "      <td>NaN</td>\n",
       "      <td>8.182274</td>\n",
       "    </tr>\n",
       "    <tr>\n",
       "      <th>109</th>\n",
       "      <td>0.779</td>\n",
       "      <td>MUS</td>\n",
       "      <td>4</td>\n",
       "      <td>10944.5400</td>\n",
       "      <td>1.261000</td>\n",
       "      <td>13.000000</td>\n",
       "      <td>3.03</td>\n",
       "      <td>21.900000</td>\n",
       "      <td>4.809545</td>\n",
       "    </tr>\n",
       "    <tr>\n",
       "      <th>113</th>\n",
       "      <td>0.701</td>\n",
       "      <td>MDA</td>\n",
       "      <td>1</td>\n",
       "      <td>4207.8701</td>\n",
       "      <td>3.555000</td>\n",
       "      <td>15.100000</td>\n",
       "      <td>9.99</td>\n",
       "      <td>23.799999</td>\n",
       "      <td>10.323656</td>\n",
       "    </tr>\n",
       "  </tbody>\n",
       "</table>\n",
       "</div>"
      ],
      "text/plain": [
       "     undp_hdi ccodealp  ht_region   gle_cgdpc    imf_pop  wef_imort  \\\n",
       "2       0.743      DZA          3   5402.1699  39.113998  17.200001   \n",
       "34      0.394      TCD          4   1651.0500        NaN  89.400002   \n",
       "0       0.479      AFG          8   1282.6400  29.825001        NaN   \n",
       "109     0.779      MUS          4  10944.5400   1.261000  13.000000   \n",
       "113     0.701      MDA          1   4207.8701   3.555000  15.100000   \n",
       "\n",
       "     who_alc2000   who_tobt   wdi_exph  \n",
       "2           0.53        NaN   7.207178  \n",
       "34          0.64        NaN   3.621164  \n",
       "0           0.01        NaN   8.182274  \n",
       "109         3.03  21.900000   4.809545  \n",
       "113         9.99  23.799999  10.323656  "
      ]
     },
     "execution_count": 2,
     "metadata": {},
     "output_type": "execute_result"
    }
   ],
   "source": [
    "variables = ['undp_hdi', 'ccodealp', 'ht_region', 'gle_cgdpc', 'imf_pop'\n",
    "              , 'wef_imort', 'who_alc2000', 'who_tobt', 'wdi_exph']\n",
    "subsample = df[variables].sample(frac=0.5, random_state=3245)\n",
    "print(f'Shape: {subsample.shape}')\n",
    "subsample.head()"
   ]
  },
  {
   "cell_type": "code",
   "execution_count": 3,
   "metadata": {
    "colab": {
     "base_uri": "https://localhost:8080/",
     "height": 206
    },
    "id": "GmStA8eDMVFV",
    "outputId": "ffa8fdc4-4131-46ad-8c5a-594a5529bd83",
    "scrolled": true
   },
   "outputs": [
    {
     "data": {
      "text/html": [
       "<div>\n",
       "<style scoped>\n",
       "    .dataframe tbody tr th:only-of-type {\n",
       "        vertical-align: middle;\n",
       "    }\n",
       "\n",
       "    .dataframe tbody tr th {\n",
       "        vertical-align: top;\n",
       "    }\n",
       "\n",
       "    .dataframe thead th {\n",
       "        text-align: right;\n",
       "    }\n",
       "</style>\n",
       "<table border=\"1\" class=\"dataframe\">\n",
       "  <thead>\n",
       "    <tr style=\"text-align: right;\">\n",
       "      <th></th>\n",
       "      <th>undp_hdi</th>\n",
       "      <th>ccodealp</th>\n",
       "      <th>ht_region</th>\n",
       "      <th>gle_cgdpc</th>\n",
       "      <th>imf_pop</th>\n",
       "      <th>wef_imort</th>\n",
       "      <th>who_alc2000</th>\n",
       "      <th>who_tobt</th>\n",
       "      <th>wdi_exph</th>\n",
       "    </tr>\n",
       "  </thead>\n",
       "  <tbody>\n",
       "    <tr>\n",
       "      <th>2</th>\n",
       "      <td>0.743</td>\n",
       "      <td>DZA</td>\n",
       "      <td>NorthAfrica</td>\n",
       "      <td>5402.1699</td>\n",
       "      <td>39.113998</td>\n",
       "      <td>17.200001</td>\n",
       "      <td>0.53</td>\n",
       "      <td>NaN</td>\n",
       "      <td>7.207178</td>\n",
       "    </tr>\n",
       "    <tr>\n",
       "      <th>34</th>\n",
       "      <td>0.394</td>\n",
       "      <td>TCD</td>\n",
       "      <td>SubSaharian</td>\n",
       "      <td>1651.0500</td>\n",
       "      <td>NaN</td>\n",
       "      <td>89.400002</td>\n",
       "      <td>0.64</td>\n",
       "      <td>NaN</td>\n",
       "      <td>3.621164</td>\n",
       "    </tr>\n",
       "    <tr>\n",
       "      <th>0</th>\n",
       "      <td>0.479</td>\n",
       "      <td>AFG</td>\n",
       "      <td>SouthAsia</td>\n",
       "      <td>1282.6400</td>\n",
       "      <td>29.825001</td>\n",
       "      <td>NaN</td>\n",
       "      <td>0.01</td>\n",
       "      <td>NaN</td>\n",
       "      <td>8.182274</td>\n",
       "    </tr>\n",
       "    <tr>\n",
       "      <th>109</th>\n",
       "      <td>0.779</td>\n",
       "      <td>MUS</td>\n",
       "      <td>SubSaharian</td>\n",
       "      <td>10944.5400</td>\n",
       "      <td>1.261000</td>\n",
       "      <td>13.000000</td>\n",
       "      <td>3.03</td>\n",
       "      <td>21.900000</td>\n",
       "      <td>4.809545</td>\n",
       "    </tr>\n",
       "    <tr>\n",
       "      <th>113</th>\n",
       "      <td>0.701</td>\n",
       "      <td>MDA</td>\n",
       "      <td>EastEurope</td>\n",
       "      <td>4207.8701</td>\n",
       "      <td>3.555000</td>\n",
       "      <td>15.100000</td>\n",
       "      <td>9.99</td>\n",
       "      <td>23.799999</td>\n",
       "      <td>10.323656</td>\n",
       "    </tr>\n",
       "  </tbody>\n",
       "</table>\n",
       "</div>"
      ],
      "text/plain": [
       "     undp_hdi ccodealp    ht_region   gle_cgdpc    imf_pop  wef_imort  \\\n",
       "2       0.743      DZA  NorthAfrica   5402.1699  39.113998  17.200001   \n",
       "34      0.394      TCD  SubSaharian   1651.0500        NaN  89.400002   \n",
       "0       0.479      AFG    SouthAsia   1282.6400  29.825001        NaN   \n",
       "109     0.779      MUS  SubSaharian  10944.5400   1.261000  13.000000   \n",
       "113     0.701      MDA   EastEurope   4207.8701   3.555000  15.100000   \n",
       "\n",
       "     who_alc2000   who_tobt   wdi_exph  \n",
       "2           0.53        NaN   7.207178  \n",
       "34          0.64        NaN   3.621164  \n",
       "0           0.01        NaN   8.182274  \n",
       "109         3.03  21.900000   4.809545  \n",
       "113         9.99  23.799999  10.323656  "
      ]
     },
     "execution_count": 3,
     "metadata": {},
     "output_type": "execute_result"
    }
   ],
   "source": [
    "regiones = {1:'EastEurope', 2: 'LatAm', 3: 'NorthAfrica',4: 'SubSaharian', 5:'WesternDem', \n",
    "            6: 'EastAsia',7:'SouthEastAsia',8:'SouthAsia', 9:'Pacific', 10:'Caribbean' }\n",
    "\n",
    "df['ht_region'] = df['ht_region'].replace([1,2,3,4,5,6,7,8,9,10],\n",
    "                                                       ['EastEurope','LatAm','NorthAfrica','SubSaharian','WesternDem', \n",
    "                                                        'EastAsia','SouthEastAsia','SouthAsia', 'Pacific', 'Caribbean'])\n",
    "\n",
    "\n",
    "subsample['ht_region'] = subsample['ht_region'].replace([1,2,3,4,5,6,7,8,9,10],\n",
    "                                                       ['EastEurope','LatAm','NorthAfrica','SubSaharian','WesternDem', \n",
    "                                                        'EastAsia','SouthEastAsia','SouthAsia', 'Pacific', 'Caribbean'])\n",
    "subsample.head()\n"
   ]
  },
  {
   "cell_type": "markdown",
   "metadata": {
    "id": "_CCT7gwEhbG-"
   },
   "source": [
    "# 2. Genere una función que ingrese su objeto y devuelva:\n",
    "\n",
    "Por cada variable existente en su objeto, calcule las medidas descriptivas para los casos continuos.\n",
    "  * Para cada variable discreta, que calcule la frecuencia.\n",
    "  * Reporte las estadísticas descriptivas para gle_cgdpc, undp_hdi, imf_pop.\n",
    "Compare las estadísticas con algún compañero. ¿Ve alguna diferencia sustancial en alguna de ellas?\n",
    "\n",
    "RP. No pude comparar las variables del modulo salud con mi compañero (Pablo Maluenda) porque teníamos los set cambiados, pero que las en común estaban similares, no se notaban diferencias sustanciales.\n"
   ]
  },
  {
   "cell_type": "code",
   "execution_count": 4,
   "metadata": {
    "colab": {
     "base_uri": "https://localhost:8080/"
    },
    "id": "75ZPSkiciQvH",
    "outputId": "f0422a1c-4988-4327-950b-a57e5df7c1d2"
   },
   "outputs": [
    {
     "name": "stdout",
     "output_type": "stream",
     "text": [
      "\n",
      "UNDP_HDI : Variable Continua\n",
      "count    93.000000\n",
      "mean      0.672441\n",
      "std       0.150739\n",
      "min       0.347000\n",
      "25%       0.555000\n",
      "50%       0.701000\n",
      "75%       0.779000\n",
      "max       0.948000\n",
      "Name: undp_hdi, dtype: float64\n",
      "\n",
      "CCODEALP : Variable Discreta\n",
      "DZA    1\n",
      "ECU    1\n",
      "KEN    1\n",
      "QAT    1\n",
      "THA    1\n",
      "      ..\n",
      "TWN    1\n",
      "ARG    1\n",
      "SRB    1\n",
      "MNE    1\n",
      "IDN    1\n",
      "Name: ccodealp, Length: 97, dtype: int64\n",
      "\n",
      "HT_REGION : Variable Discreta\n",
      "SubSaharian      23\n",
      "EastEurope       15\n",
      "WesternDem       10\n",
      "NorthAfrica       9\n",
      "LatAm             9\n",
      "SouthAsia         8\n",
      "Caribbean         7\n",
      "SouthEastAsia     7\n",
      "Pacific           6\n",
      "EastAsia          3\n",
      "Name: ht_region, dtype: int64\n",
      "\n",
      "GLE_CGDPC : Variable Continua\n",
      "count        97.000000\n",
      "mean      12484.472096\n",
      "std       18005.530733\n",
      "min         644.539980\n",
      "25%        2246.820100\n",
      "50%        5639.020000\n",
      "75%       14711.970000\n",
      "max      108481.130000\n",
      "Name: gle_cgdpc, dtype: float64\n",
      "\n",
      "IMF_POP : Variable Continua\n",
      "count     74.000000\n",
      "mean      24.706000\n",
      "std       46.704288\n",
      "min        0.012000\n",
      "25%        1.116000\n",
      "50%        6.565000\n",
      "75%       22.710750\n",
      "max      252.164993\n",
      "Name: imf_pop, dtype: float64\n",
      "\n",
      "WEF_IMORT : Variable Continua\n",
      "count     76.000000\n",
      "mean      27.632034\n",
      "std       25.624386\n",
      "min        2.200000\n",
      "25%        7.800000\n",
      "50%       17.849999\n",
      "75%       45.250001\n",
      "max      117.400002\n",
      "Name: wef_imort, dtype: float64\n",
      "\n",
      "WHO_ALC2000 : Variable Continua\n",
      "count    91.000000\n",
      "mean      4.304835\n",
      "std       3.450255\n",
      "min       0.010000\n",
      "25%       1.190000\n",
      "50%       3.620000\n",
      "75%       6.975000\n",
      "max      12.030000\n",
      "Name: who_alc2000, dtype: float64\n",
      "\n",
      "WHO_TOBT : Variable Continua\n",
      "count    61.000000\n",
      "mean     24.550820\n",
      "std       9.818276\n",
      "min       8.400000\n",
      "25%      17.600000\n",
      "50%      24.100000\n",
      "75%      30.299999\n",
      "max      54.000000\n",
      "Name: who_tobt, dtype: float64\n",
      "\n",
      "WDI_EXPH : Variable Continua\n",
      "count    96.000000\n",
      "mean      6.561306\n",
      "std       2.657397\n",
      "min       1.475303\n",
      "25%       4.725253\n",
      "50%       6.082964\n",
      "75%       8.247434\n",
      "max      13.733521\n",
      "Name: wdi_exph, dtype: float64\n"
     ]
    }
   ],
   "source": [
    "def descrive_obj(df):\n",
    "\n",
    "  for column in df.columns:\n",
    "    if df[column].dtype == 'float64':\n",
    "      print('')\n",
    "      print(column.upper(),': Variable Continua')\n",
    "      print(df[column].describe())\n",
    "      \n",
    "\n",
    "    elif (df[column].dtype == 'object') or (df[column].dtype == 'int64'):\n",
    "      print('')\n",
    "      print(column.upper(),': Variable Discreta')\n",
    "      print(df[column].value_counts())\n",
    "\n",
    "    else:\n",
    "      print('Error en tipo de dato')\n",
    "\n",
    "descrive_obj(subsample)\n",
    "#subsample."
   ]
  },
  {
   "cell_type": "markdown",
   "metadata": {
    "id": "8yQH3ccYtBnt"
   },
   "source": [
    "3. Genere una función que liste las observaciones perdidas de una\n",
    "variable\n",
    "* La función debe contener los siguientes argumentos:\n",
    "  * dataframe: La función debe ingresar un objeto DataFrame.\n",
    "  * var: Variable a inspeccionar.\n",
    "  * print_list: Opción para imprimir la lista de observaciones perdidas en la\n",
    "  variable. Debe ser False por defecto.\n",
    "* La función debe retornar la cantidad de casos perdidos y el porcentaje\n",
    "correspondiente.\n",
    "* Cuando print_list = True, debe retornar la lista de casos.\n",
    "* Analice todas las variables y sus casos perdidos.\n",
    "Para las 3 variables con un mayor porcentaje de casos perdidos, solicite la lista de países con ausencia de datos.\n"
   ]
  },
  {
   "cell_type": "code",
   "execution_count": 5,
   "metadata": {
    "colab": {
     "base_uri": "https://localhost:8080/"
    },
    "id": "xfkIMQi_tOhY",
    "outputId": "d1262973-78f5-4f1b-dc38-7f01a879d49b"
   },
   "outputs": [
    {
     "name": "stdout",
     "output_type": "stream",
     "text": [
      "{'undp_hdi': 0.041237113402061855, 'ccodealp': 0.0, 'ht_region': 0.0, 'gle_cgdpc': 0.0, 'imf_pop': 0.23711340206185566, 'wef_imort': 0.21649484536082475, 'who_alc2000': 0.061855670103092786, 'who_tobt': 0.3711340206185567, 'wdi_exph': 0.010309278350515464}\n",
      "Ranking: ['who_tobt', 'imf_pop', 'wef_imort', 'who_alc2000', 'undp_hdi', 'wdi_exph', 'ccodealp', 'ht_region', 'gle_cgdpc']\n",
      "\n",
      "Lista de países con ausencia de datos para las 3 variables con un mayor porcentaje de casos perdidos\n",
      "\n",
      "Variable:  WHO_TOBT\n",
      "['NorthAfrica' 'SubSaharian' 'SouthAsia' 'Caribbean' 'LatAm' 'Pacific'\n",
      " 'EastEurope' 'EastAsia' 'SouthEastAsia' 'WesternDem']\n",
      "\n",
      "Variable:  IMF_POP\n",
      "['SubSaharian' 'NorthAfrica' 'SouthAsia' 'LatAm' 'WesternDem' 'EastAsia'\n",
      " 'EastEurope']\n",
      "\n",
      "Variable:  WEF_IMORT\n",
      "['SouthAsia' 'Pacific' 'SubSaharian' 'Caribbean' 'WesternDem' 'LatAm']\n"
     ]
    }
   ],
   "source": [
    "def list_nan(df , var, print_list = False):\n",
    "\n",
    "  filter = df[var].isna()\n",
    "\n",
    "  if print_list:\n",
    "    return df[filter]\n",
    "  else:\n",
    "    return filter.sum() , filter.sum()/len(df[var])\n",
    "\n",
    "\n",
    "\n",
    "nans = {}\n",
    "for column in subsample.columns:\n",
    "  _ , perc = list_nan(subsample,column)\n",
    "  nans[column] = perc\n",
    "\n",
    "print(nans)\n",
    "nans = sorted(nans, key=nans.get, reverse=True)\n",
    "print('Ranking:',nans)\n",
    "\n",
    "print('\\nLista de países con ausencia de datos para las 3 variables con un mayor porcentaje de casos perdidos')\n",
    "for var in nans[:3]:\n",
    "  print(\"\")\n",
    "  print('Variable: ', var.upper())\n",
    "  print(list_nan(subsample, var, print_list = True)['ht_region'].unique())"
   ]
  },
  {
   "cell_type": "markdown",
   "metadata": {
    "id": "NMGqlJFT_2d4"
   },
   "source": [
    "# 4. Grafique histogramas indicando medias muestral y total\n",
    "\n",
    "Genere una nueva función que grafique un histograma de una variable entregada\n",
    "para un DataFrame de muestra. El gráfico debe además señalar las medias de la\n",
    "variable entregada, tanto para el DataFrame de muestra entregado, como para el\n",
    "DataFrame completo correspondiente.\n",
    "* La función debe incluir los siguientes argumentos:\n",
    "  * sample_df: La base de datos donde se encuentran los datos específicos\n",
    "  (muestra).\n",
    "  * full_df: La base de datos donde se encuentran todos los datos (contiene\n",
    "  los datos de la muestra).\n",
    "  * var: La variable a graficar.\n",
    "  * sample_mean: Booleano. Si es verdadero, debe generar una recta vertical\n",
    "  indicando la media de la variable en la selección muestral (sample_df). Por\n",
    "  defecto debe ser False.\n",
    "  * true_mean: Booleano. Si es verdadero, debe generar una recta vertical\n",
    "  indicando la media de variable en la base de datos completa (full_df).\n",
    "* Implemente las funciones para las 4 variables seleccionadas según su grupo.\n",
    "¿En qué variables la media de la muestra es mayor a la de los datos completos?\n",
    "\n"
   ]
  },
  {
   "cell_type": "code",
   "execution_count": 6,
   "metadata": {
    "id": "F-04wy3smp5K"
   },
   "outputs": [],
   "source": [
    "%matplotlib inline\n",
    "# importamos la triada de Data Science\n",
    "import pandas as pd\n",
    "import numpy as np\n",
    "import matplotlib.pyplot as plt\n",
    "# importamos scipy.stats que ayudará a generar distribuciones\n",
    "import scipy.stats as stats\n",
    "\n",
    "plt.style.use('seaborn-whitegrid') # Gráficos estilo seaborn\n",
    "plt.rcParams[\"figure.figsize\"] = (10, 20) # Tamaño gráficos\n"
   ]
  },
  {
   "cell_type": "code",
   "execution_count": 7,
   "metadata": {
    "id": "WSfGFVVhAuHt"
   },
   "outputs": [],
   "source": [
    "def histogram (sample_df, full_df, var, true_mean, sample_mean = False):\n",
    "  # vamos a eliminar los datos perdidos en la columna con dropna()\n",
    "  var_dropna = sample_df[var].dropna()\n",
    "  \n",
    "  plt.hist(var_dropna, color='blue', alpha=.4, bins=30)\n",
    "  if sample_mean:\n",
    "    plt.axvline(var_dropna.mean(), color = 'dodgerblue', linestyle ='--')\n",
    "    \n",
    "  if true_mean:\n",
    "    plt.axvline(full_df[var].dropna().mean(), color = 'tomato', linestyle ='--');\n",
    "    \n",
    "  plt.title('Distribución empírica de la variable {} {}'.format(('continua' if sample_df[var].dtype == 'float64' else 'discreta'),var.upper()));\n",
    "    \n",
    "  return 1"
   ]
  },
  {
   "cell_type": "code",
   "execution_count": 8,
   "metadata": {
    "colab": {
     "base_uri": "https://localhost:8080/",
     "height": 1000
    },
    "id": "oTIvpmHjKkeC",
    "outputId": "18ffc51f-17cf-47c5-f9fc-c7153a26eef3"
   },
   "outputs": [
    {
     "data": {
      "image/png": "[encoded data removed]",
      "text/plain": [
       "<Figure size 720x1440 with 4 Axes>"
      ]
     },
     "metadata": {},
     "output_type": "display_data"
    }
   ],
   "source": [
    "vars = ['wef_imort', 'who_alc2000', 'who_tobt', 'wdi_exph']\n",
    "\n",
    "row = 1\n",
    "for var in vars:\n",
    "  plt.subplot(len(vars), 1, row)\n",
    "  histogram(subsample, df, var, True, True)\n",
    "  plt.legend([\"sample_mean\", \"true_mean\"], loc =\"upper right\")\n",
    "  row += 1\n",
    "#  print(item[0])"
   ]
  },
  {
   "cell_type": "markdown",
   "metadata": {},
   "source": [
    "¿En qué variables la media de la muestra es mayor a la de los datos completos?\n",
    "RP. para WEF_IMORT y WHO_TOBT, "
   ]
  },
  {
   "cell_type": "markdown",
   "metadata": {
    "id": "qch6Ke23OHsH"
   },
   "source": [
    "# 5. Genere una función que devuelva un dotplot con las medias por región para una variable entregada\n",
    "\n",
    "* Cada “punto” del dotplot debe representar la media, o mediana, de una variable para una región específica.\n",
    "* La función debe contener los siguientes parámetros:\n",
    "    * dataframe: La tabla de datos donde buscar las variables.\n",
    "    * plot_var: Corresponde a una columna del dataframe entregado, de la cual se desea obtener la métrica (puede ser media o mediana).\n",
    "    * plot_by: Corresponde a otra columna del dataframe entregado. Es la columna por la cual se quiere agrupar el dataframe, para acceder luego a la columna entregada en plot_var. Tip: Revise el uso del método groupby de pandas.\n",
    "    * statistic: Debe presentar dos opciones; \"mean\" para la media y \"median\" para la mediana. Por defecto debe ser \"mean\".\n",
    "    * global_stat: Booleano. Si es True, debe graficar la media (o mediana, según lo indicado en statistic) de la variable plot_var entregada, sin agrupar (para todos los datos entregados en dataframe). Por defecto debe ser False.\n",
    "* Implemente la función en las 3 variables con una menor cantidad de datos perdidos.\n",
    "\n"
   ]
  },
  {
   "cell_type": "code",
   "execution_count": 9,
   "metadata": {},
   "outputs": [
    {
     "name": "stdout",
     "output_type": "stream",
     "text": [
      "Variables con menor cantidad de datos perdidos:\n",
      "  undp_hdi\n",
      "  wdi_exph\n",
      "  gle_cgdpc\n"
     ]
    }
   ],
   "source": [
    "def dotplot(df, plot_var, plot_by, statistic = 'mean', global_stat = False):\n",
    "    \n",
    "    if statistic == 'mean':\n",
    "        group = round( df.groupby(plot_by)[plot_var].mean() , 2)\n",
    "        vline = df[plot_var].mean()\n",
    "    else:\n",
    "        group = round( df.groupby(plot_by)[plot_var].median() , 2)\n",
    "        vline = df[plot_var].median()\n",
    "\n",
    "    plt.rcParams[\"figure.figsize\"] = (5, 5) # Tamaño gráficos\n",
    "    plt.title(statistic+' '+plot_var+' by '+plot_by)\n",
    "    plt.plot(group.values , group.index, 'o', color = 'blue')\n",
    "\n",
    "    if global_stat:\n",
    "        plt.axvline(vline, color = 'tomato' , linestyle = '--')\n",
    "\n",
    "# Eliminamos las variables discretas\n",
    "nans.remove('ht_region')\n",
    "nans.remove('ccodealp')\n",
    "print('Variables con menor cantidad de datos perdidos:')\n",
    "for plot_var in nans[-3:]:\n",
    "    print('  '+plot_var)"
   ]
  },
  {
   "cell_type": "code",
   "execution_count": 10,
   "metadata": {},
   "outputs": [
    {
     "data": {
      "image/png": "[encoded data removed]",
      "text/plain": [
       "<Figure size 360x360 with 1 Axes>"
      ]
     },
     "metadata": {},
     "output_type": "display_data"
    }
   ],
   "source": [
    "dotplot(df, plot_var = 'undp_hdi', plot_by = 'ht_region', statistic = 'mean', global_stat = True)"
   ]
  },
  {
   "cell_type": "code",
   "execution_count": 11,
   "metadata": {},
   "outputs": [
    {
     "data": {
      "image/png": "[encoded data removed]",
      "text/plain": [
       "<Figure size 360x360 with 1 Axes>"
      ]
     },
     "metadata": {},
     "output_type": "display_data"
    }
   ],
   "source": [
    "dotplot(df, plot_var = 'wdi_exph', plot_by = 'ht_region', statistic = 'mean', global_stat = True)"
   ]
  },
  {
   "cell_type": "code",
   "execution_count": 12,
   "metadata": {},
   "outputs": [
    {
     "data": {
      "image/png": "[encoded data removed]",
      "text/plain": [
       "<Figure size 360x360 with 1 Axes>"
      ]
     },
     "metadata": {},
     "output_type": "display_data"
    }
   ],
   "source": [
    "dotplot(df, plot_var = 'gle_cgdpc', plot_by = 'ht_region', statistic = 'mean', global_stat = True)"
   ]
  },
  {
   "cell_type": "markdown",
   "metadata": {},
   "source": [
    "# 6. Guarde la base de datos\n",
    "● La submuestra creada tiene un método llamado to_csv. Acceda a este y guarde la base de datos con la siguiente nomenclatura:\n",
    "subsample_\\<iniciales\\>_demo.csv.\n",
    "(Subela a la plataforma, junto al desafío)\n"
   ]
  },
  {
   "cell_type": "code",
   "execution_count": 13,
   "metadata": {},
   "outputs": [],
   "source": [
    "subsample.to_csv('subsample_PCNC_demo.csv')"
   ]
  }
 ],
 "metadata": {
  "colab": {
   "name": "08_graficos.ipynb",
   "provenance": []
  },
  "kernelspec": {
   "display_name": "Python 3 (ipykernel)",
   "language": "python",
   "name": "python3"
  },
  "language_info": {
   "codemirror_mode": {
    "name": "ipython",
    "version": 3
   },
   "file_extension": ".py",
   "mimetype": "text/x-python",
   "name": "python",
   "nbconvert_exporter": "python",
   "pygments_lexer": "ipython3",
   "version": "3.8.11"
  }
 },
 "nbformat": 4,
 "nbformat_minor": 1
}
