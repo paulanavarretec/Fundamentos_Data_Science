{
  "nbformat": 4,
  "nbformat_minor": 0,
  "metadata": {
    "colab": {
      "name": "02_Control_de_Flujo.ipynb",
      "provenance": [],
      "mount_file_id": "1yiFDPIMyGLYBY8JEHc1KUO4XjvddIARv",
      "authorship_tag": "ABX9TyNWxx4KTwseD7ZKXmdr+sXw",
      "include_colab_link": true
    },
    "kernelspec": {
      "name": "python3",
      "display_name": "Python 3"
    },
    "language_info": {
      "name": "python"
    }
  },
  "cells": [
    {
      "cell_type": "markdown",
      "metadata": {
        "id": "view-in-github",
        "colab_type": "text"
      },
      "source": [
        "<a href=\"https://colab.research.google.com/github/paulanavarretec/Fundamentos_Data_Science/blob/main/Desafios/02_Control_de_Flujo/02_Control_de_Flujo.ipynb\" target=\"_parent\"><img src=\"https://colab.research.google.com/assets/colab-badge.svg\" alt=\"Open In Colab\"/></a>"
      ]
    },
    {
      "cell_type": "markdown",
      "metadata": {
        "id": "3aJ4D03pVEZK"
      },
      "source": [
        "# Desafío 1\n",
        "Generar un par de arrays ficticios con numpy.\n",
        "\n",
        "Tip: Utilice la función linspace para generar un array entre 1 y 50, y un array entre 50 y 150.\n"
      ]
    },
    {
      "cell_type": "code",
      "metadata": {
        "colab": {
          "base_uri": "https://localhost:8080/"
        },
        "id": "Y4Y83iMzUhEb",
        "outputId": "741bae0b-caf4-4843-edf5-c30bf057de60"
      },
      "source": [
        "import numpy as np\n",
        "\n",
        "arr1 = np.linspace(1,50,dtype=int)\n",
        "arr2 = np.linspace(50,150,dtype=int)\n",
        "print(arr1)\n",
        "print(arr2)"
      ],
      "execution_count": 1,
      "outputs": [
        {
          "output_type": "stream",
          "name": "stdout",
          "text": [
            "[ 1  2  3  4  5  6  7  8  9 10 11 12 13 14 15 16 17 18 19 20 21 22 23 24\n",
            " 25 26 27 28 29 30 31 32 33 34 35 36 37 38 39 40 41 42 43 44 45 46 47 48\n",
            " 49 50]\n",
            "[ 50  52  54  56  58  60  62  64  66  68  70  72  74  76  78  80  82  84\n",
            "  86  88  90  92  94  96  98 101 103 105 107 109 111 113 115 117 119 121\n",
            " 123 125 127 129 131 133 135 137 139 141 143 145 147 150]\n"
          ]
        }
      ]
    },
    {
      "cell_type": "markdown",
      "metadata": {
        "id": "gLkFCpnMVlYA"
      },
      "source": [
        "# Desafío 2\n",
        "\n",
        "Ejecute un loop que devuelva si el número en el primer array es par o impar.\n",
        "\n",
        "Tip: Utilice la función módulo para encontrar si el número es divisible por 2.\n"
      ]
    },
    {
      "cell_type": "code",
      "metadata": {
        "colab": {
          "base_uri": "https://localhost:8080/"
        },
        "id": "ZgaC7aRxVq3P",
        "outputId": "bbd30205-4f97-4779-c445-319681c8bca4"
      },
      "source": [
        "# Utilizando Comprensiones\n",
        "es_par = [ (str(i)+' es par') if i%2==0 else (str(i)+' es impar') for i in arr1]\n",
        "print(es_par)  "
      ],
      "execution_count": 2,
      "outputs": [
        {
          "output_type": "stream",
          "name": "stdout",
          "text": [
            "['1 es impar', '2 es par', '3 es impar', '4 es par', '5 es impar', '6 es par', '7 es impar', '8 es par', '9 es impar', '10 es par', '11 es impar', '12 es par', '13 es impar', '14 es par', '15 es impar', '16 es par', '17 es impar', '18 es par', '19 es impar', '20 es par', '21 es impar', '22 es par', '23 es impar', '24 es par', '25 es impar', '26 es par', '27 es impar', '28 es par', '29 es impar', '30 es par', '31 es impar', '32 es par', '33 es impar', '34 es par', '35 es impar', '36 es par', '37 es impar', '38 es par', '39 es impar', '40 es par', '41 es impar', '42 es par', '43 es impar', '44 es par', '45 es impar', '46 es par', '47 es impar', '48 es par', '49 es impar', '50 es par']\n"
          ]
        }
      ]
    },
    {
      "cell_type": "code",
      "metadata": {
        "colab": {
          "base_uri": "https://localhost:8080/"
        },
        "id": "_GjrU4sbXDz8",
        "outputId": "6dd10844-0f02-4400-d656-fe3d2581d03e"
      },
      "source": [
        "# Utilizando loops\n",
        "for i in arr1:\n",
        "  print((str(i)+' es par') if i%2==0 else (str(i)+' es impar'))  "
      ],
      "execution_count": 3,
      "outputs": [
        {
          "output_type": "stream",
          "name": "stdout",
          "text": [
            "1 es impar\n",
            "2 es par\n",
            "3 es impar\n",
            "4 es par\n",
            "5 es impar\n",
            "6 es par\n",
            "7 es impar\n",
            "8 es par\n",
            "9 es impar\n",
            "10 es par\n",
            "11 es impar\n",
            "12 es par\n",
            "13 es impar\n",
            "14 es par\n",
            "15 es impar\n",
            "16 es par\n",
            "17 es impar\n",
            "18 es par\n",
            "19 es impar\n",
            "20 es par\n",
            "21 es impar\n",
            "22 es par\n",
            "23 es impar\n",
            "24 es par\n",
            "25 es impar\n",
            "26 es par\n",
            "27 es impar\n",
            "28 es par\n",
            "29 es impar\n",
            "30 es par\n",
            "31 es impar\n",
            "32 es par\n",
            "33 es impar\n",
            "34 es par\n",
            "35 es impar\n",
            "36 es par\n",
            "37 es impar\n",
            "38 es par\n",
            "39 es impar\n",
            "40 es par\n",
            "41 es impar\n",
            "42 es par\n",
            "43 es impar\n",
            "44 es par\n",
            "45 es impar\n",
            "46 es par\n",
            "47 es impar\n",
            "48 es par\n",
            "49 es impar\n",
            "50 es par\n"
          ]
        }
      ]
    },
    {
      "cell_type": "markdown",
      "metadata": {
        "id": "3oLVo9FyXbgi"
      },
      "source": [
        "# Desafío 3\n",
        "Genere un loop con el segundo array que cuente las siguientes condiciones:\n",
        "\n",
        "* Si el número es divisible por 2 o 3.\n",
        "* Si el número es divisible por 2 y 3.\n",
        "* Si el número es divisible por 3 pero no por 2.\n",
        "* si el número no es divisible por 2 ni 3.\n"
      ]
    },
    {
      "cell_type": "code",
      "metadata": {
        "colab": {
          "base_uri": "https://localhost:8080/"
        },
        "id": "1GRj_UkPYBzI",
        "outputId": "4cfac6e8-bf4b-4365-b5ea-586545cecf04"
      },
      "source": [
        "condiciones = {0 :'ser divisible por 2 o 3.',\n",
        "               1 :'ser divisible por 2 y 3.',\n",
        "               2 :'ser divisible por 3 pero no por 2.',\n",
        "               3 :'no ser divisible por 2 ni 3.'\n",
        "               }\n",
        "contador = {0 : 0, \n",
        "            1 : 0,\n",
        "            2 : 0,\n",
        "            3 : 0 \n",
        "            }\n",
        "              \n",
        "for i in arr2:\n",
        "  if (i%2==0) | (i%3==0):\n",
        "    contador[0] = contador[0] + 1\n",
        "\n",
        "  if (i%2==0) & (i%3==0):\n",
        "    contador[1] = contador[1] + 1\n",
        "  \n",
        "  if (not(i%2==0)) & (i%3==0):\n",
        "    contador[2] = contador[2] + 1\n",
        "\n",
        "  if (not(i%2==0)) & (not(i%3==0)):\n",
        "    contador[3] = contador[3] + 1\n",
        "\n",
        "for idx, enunciado in condiciones.items():\n",
        "  print('- {} números en el arr2 cumplen con {}'.format(contador[idx],enunciado))\n"
      ],
      "execution_count": 4,
      "outputs": [
        {
          "output_type": "stream",
          "name": "stdout",
          "text": [
            "- 34 números en el arr2 cumplen con ser divisible por 2 o 3.\n",
            "- 9 números en el arr2 cumplen con ser divisible por 2 y 3.\n",
            "- 8 números en el arr2 cumplen con ser divisible por 3 pero no por 2.\n",
            "- 16 números en el arr2 cumplen con no ser divisible por 2 ni 3.\n"
          ]
        }
      ]
    },
    {
      "cell_type": "markdown",
      "metadata": {
        "id": "xZZVs8x-jbia"
      },
      "source": [
        "# Desafío 4\n",
        "\n",
        "Corrección de errores.\n"
      ]
    },
    {
      "cell_type": "code",
      "metadata": {
        "colab": {
          "base_uri": "https://localhost:8080/",
          "height": 180
        },
        "id": "IC-jZiyQaARu",
        "outputId": "5f3157d3-64f6-434e-845c-9a0f7013b7a6"
      },
      "source": [
        "for i in range(100):\n",
        "  print(I**2)"
      ],
      "execution_count": 6,
      "outputs": [
        {
          "output_type": "error",
          "ename": "NameError",
          "evalue": "ignored",
          "traceback": [
            "\u001b[0;31m---------------------------------------------------------------------------\u001b[0m",
            "\u001b[0;31mNameError\u001b[0m                                 Traceback (most recent call last)",
            "\u001b[0;32m<ipython-input-6-688883170f28>\u001b[0m in \u001b[0;36m<module>\u001b[0;34m()\u001b[0m\n\u001b[1;32m      1\u001b[0m \u001b[0;32mfor\u001b[0m \u001b[0mi\u001b[0m \u001b[0;32min\u001b[0m \u001b[0mrange\u001b[0m\u001b[0;34m(\u001b[0m\u001b[0;36m100\u001b[0m\u001b[0;34m)\u001b[0m\u001b[0;34m:\u001b[0m\u001b[0;34m\u001b[0m\u001b[0;34m\u001b[0m\u001b[0m\n\u001b[0;32m----> 2\u001b[0;31m   \u001b[0mprint\u001b[0m\u001b[0;34m(\u001b[0m\u001b[0mI\u001b[0m\u001b[0;34m**\u001b[0m\u001b[0;36m2\u001b[0m\u001b[0;34m)\u001b[0m\u001b[0;34m\u001b[0m\u001b[0;34m\u001b[0m\u001b[0m\n\u001b[0m",
            "\u001b[0;31mNameError\u001b[0m: name 'I' is not defined"
          ]
        }
      ]
    },
    {
      "cell_type": "markdown",
      "metadata": {
        "id": "zea-TEmMjmAR"
      },
      "source": [
        "Rp: La variable 'I' no se reconoce, Python es case sensitive por lo que debemos llamar a las variables tal como las declaramos"
      ]
    },
    {
      "cell_type": "code",
      "metadata": {
        "colab": {
          "base_uri": "https://localhost:8080/"
        },
        "id": "ZaBoVfXMkk8o",
        "outputId": "805ee922-0869-4e93-d998-343e9558b8dd"
      },
      "source": [
        "for i in range(100):\n",
        "  print(i**2)"
      ],
      "execution_count": 7,
      "outputs": [
        {
          "output_type": "stream",
          "name": "stdout",
          "text": [
            "0\n",
            "1\n",
            "4\n",
            "9\n",
            "16\n",
            "25\n",
            "36\n",
            "49\n",
            "64\n",
            "81\n",
            "100\n",
            "121\n",
            "144\n",
            "169\n",
            "196\n",
            "225\n",
            "256\n",
            "289\n",
            "324\n",
            "361\n",
            "400\n",
            "441\n",
            "484\n",
            "529\n",
            "576\n",
            "625\n",
            "676\n",
            "729\n",
            "784\n",
            "841\n",
            "900\n",
            "961\n",
            "1024\n",
            "1089\n",
            "1156\n",
            "1225\n",
            "1296\n",
            "1369\n",
            "1444\n",
            "1521\n",
            "1600\n",
            "1681\n",
            "1764\n",
            "1849\n",
            "1936\n",
            "2025\n",
            "2116\n",
            "2209\n",
            "2304\n",
            "2401\n",
            "2500\n",
            "2601\n",
            "2704\n",
            "2809\n",
            "2916\n",
            "3025\n",
            "3136\n",
            "3249\n",
            "3364\n",
            "3481\n",
            "3600\n",
            "3721\n",
            "3844\n",
            "3969\n",
            "4096\n",
            "4225\n",
            "4356\n",
            "4489\n",
            "4624\n",
            "4761\n",
            "4900\n",
            "5041\n",
            "5184\n",
            "5329\n",
            "5476\n",
            "5625\n",
            "5776\n",
            "5929\n",
            "6084\n",
            "6241\n",
            "6400\n",
            "6561\n",
            "6724\n",
            "6889\n",
            "7056\n",
            "7225\n",
            "7396\n",
            "7569\n",
            "7744\n",
            "7921\n",
            "8100\n",
            "8281\n",
            "8464\n",
            "8649\n",
            "8836\n",
            "9025\n",
            "9216\n",
            "9409\n",
            "9604\n",
            "9801\n"
          ]
        }
      ]
    },
    {
      "cell_type": "markdown",
      "metadata": {
        "id": "NrckF_kKk2gW"
      },
      "source": [
        "# Desafío 5\n",
        "\n",
        "Utilizando la misma base flights.csv hacer un loop y clasificar los meses con una cantidad de pasajeros menor a la media"
      ]
    },
    {
      "cell_type": "markdown",
      "metadata": {
        "id": "Omu_emnblClG"
      },
      "source": [
        "* Para ello, generen un nuevo objeto que represente la media de passenger"
      ]
    },
    {
      "cell_type": "code",
      "metadata": {
        "colab": {
          "base_uri": "https://localhost:8080/"
        },
        "id": "0jcsyxCLlKIe",
        "outputId": "47db6ee9-c609-4f4f-d412-828fb0601362"
      },
      "source": [
        "# Connections & imports\n",
        "from google.colab import drive \n",
        "import pandas as pd\n",
        "import numpy as np\n",
        "\n",
        "drive.mount(\"/content/gdrive\")\n",
        "\n",
        "# specify the file names\n",
        "file_name = 'gdrive/My Drive/Colab Notebooks/Desafio_Latam/flights.csv'# <- Periodo 0\n",
        "df = pd.read_csv(file_name)"
      ],
      "execution_count": 8,
      "outputs": [
        {
          "output_type": "stream",
          "name": "stdout",
          "text": [
            "Mounted at /content/gdrive\n"
          ]
        }
      ]
    },
    {
      "cell_type": "markdown",
      "metadata": {
        "id": "EIZ0hhAflKUt"
      },
      "source": [
        "* Generen una columna en la base de datos que se llame $underperforming$ y asígnele 0.\n"
      ]
    },
    {
      "cell_type": "code",
      "metadata": {
        "colab": {
          "base_uri": "https://localhost:8080/",
          "height": 204
        },
        "id": "wih1suoFlQ1n",
        "outputId": "d6d4114f-6c7e-480f-f31d-05acb2e7ff72"
      },
      "source": [
        "df['underperforming'] = 0\n",
        "df.head()"
      ],
      "execution_count": 9,
      "outputs": [
        {
          "output_type": "execute_result",
          "data": {
            "text/html": [
              "<div>\n",
              "<style scoped>\n",
              "    .dataframe tbody tr th:only-of-type {\n",
              "        vertical-align: middle;\n",
              "    }\n",
              "\n",
              "    .dataframe tbody tr th {\n",
              "        vertical-align: top;\n",
              "    }\n",
              "\n",
              "    .dataframe thead th {\n",
              "        text-align: right;\n",
              "    }\n",
              "</style>\n",
              "<table border=\"1\" class=\"dataframe\">\n",
              "  <thead>\n",
              "    <tr style=\"text-align: right;\">\n",
              "      <th></th>\n",
              "      <th>year</th>\n",
              "      <th>month</th>\n",
              "      <th>passengers</th>\n",
              "      <th>underperforming</th>\n",
              "    </tr>\n",
              "  </thead>\n",
              "  <tbody>\n",
              "    <tr>\n",
              "      <th>0</th>\n",
              "      <td>1949</td>\n",
              "      <td>January</td>\n",
              "      <td>112</td>\n",
              "      <td>0</td>\n",
              "    </tr>\n",
              "    <tr>\n",
              "      <th>1</th>\n",
              "      <td>1949</td>\n",
              "      <td>February</td>\n",
              "      <td>118</td>\n",
              "      <td>0</td>\n",
              "    </tr>\n",
              "    <tr>\n",
              "      <th>2</th>\n",
              "      <td>1949</td>\n",
              "      <td>March</td>\n",
              "      <td>132</td>\n",
              "      <td>0</td>\n",
              "    </tr>\n",
              "    <tr>\n",
              "      <th>3</th>\n",
              "      <td>1949</td>\n",
              "      <td>April</td>\n",
              "      <td>129</td>\n",
              "      <td>0</td>\n",
              "    </tr>\n",
              "    <tr>\n",
              "      <th>4</th>\n",
              "      <td>1949</td>\n",
              "      <td>May</td>\n",
              "      <td>121</td>\n",
              "      <td>0</td>\n",
              "    </tr>\n",
              "  </tbody>\n",
              "</table>\n",
              "</div>"
            ],
            "text/plain": [
              "   year     month  passengers  underperforming\n",
              "0  1949   January         112                0\n",
              "1  1949  February         118                0\n",
              "2  1949     March         132                0\n",
              "3  1949     April         129                0\n",
              "4  1949       May         121                0"
            ]
          },
          "metadata": {},
          "execution_count": 9
        }
      ]
    },
    {
      "cell_type": "markdown",
      "metadata": {
        "id": "GzLJnnIPlRRt"
      },
      "source": [
        "* Ejecuten un loop que recorra cada observación de passengers, donde si la observación es menor a la media de passengers se le asigne a $underperforming$ un 1. \n",
        "\n",
        "    Para asignar unos en la columna underperforming ya creada, para ello utilice la función at de pandas.\n"
      ]
    },
    {
      "cell_type": "code",
      "metadata": {
        "colab": {
          "base_uri": "https://localhost:8080/",
          "height": 419
        },
        "id": "nY9ok_LMl452",
        "outputId": "1cbb19ad-483a-4324-9ab5-e7edc5d75b5a"
      },
      "source": [
        " passengers_mean = np.mean(df['passengers'])\n",
        " \n",
        " for row in df.iterrows():\n",
        "   if row[1]['passengers'] < passengers_mean: \n",
        "     df.at[row[0], 'underperforming'] = 1 \n",
        "  \n",
        "df"
      ],
      "execution_count": 10,
      "outputs": [
        {
          "output_type": "execute_result",
          "data": {
            "text/html": [
              "<div>\n",
              "<style scoped>\n",
              "    .dataframe tbody tr th:only-of-type {\n",
              "        vertical-align: middle;\n",
              "    }\n",
              "\n",
              "    .dataframe tbody tr th {\n",
              "        vertical-align: top;\n",
              "    }\n",
              "\n",
              "    .dataframe thead th {\n",
              "        text-align: right;\n",
              "    }\n",
              "</style>\n",
              "<table border=\"1\" class=\"dataframe\">\n",
              "  <thead>\n",
              "    <tr style=\"text-align: right;\">\n",
              "      <th></th>\n",
              "      <th>year</th>\n",
              "      <th>month</th>\n",
              "      <th>passengers</th>\n",
              "      <th>underperforming</th>\n",
              "    </tr>\n",
              "  </thead>\n",
              "  <tbody>\n",
              "    <tr>\n",
              "      <th>0</th>\n",
              "      <td>1949</td>\n",
              "      <td>January</td>\n",
              "      <td>112</td>\n",
              "      <td>1</td>\n",
              "    </tr>\n",
              "    <tr>\n",
              "      <th>1</th>\n",
              "      <td>1949</td>\n",
              "      <td>February</td>\n",
              "      <td>118</td>\n",
              "      <td>1</td>\n",
              "    </tr>\n",
              "    <tr>\n",
              "      <th>2</th>\n",
              "      <td>1949</td>\n",
              "      <td>March</td>\n",
              "      <td>132</td>\n",
              "      <td>1</td>\n",
              "    </tr>\n",
              "    <tr>\n",
              "      <th>3</th>\n",
              "      <td>1949</td>\n",
              "      <td>April</td>\n",
              "      <td>129</td>\n",
              "      <td>1</td>\n",
              "    </tr>\n",
              "    <tr>\n",
              "      <th>4</th>\n",
              "      <td>1949</td>\n",
              "      <td>May</td>\n",
              "      <td>121</td>\n",
              "      <td>1</td>\n",
              "    </tr>\n",
              "    <tr>\n",
              "      <th>...</th>\n",
              "      <td>...</td>\n",
              "      <td>...</td>\n",
              "      <td>...</td>\n",
              "      <td>...</td>\n",
              "    </tr>\n",
              "    <tr>\n",
              "      <th>139</th>\n",
              "      <td>1960</td>\n",
              "      <td>August</td>\n",
              "      <td>606</td>\n",
              "      <td>0</td>\n",
              "    </tr>\n",
              "    <tr>\n",
              "      <th>140</th>\n",
              "      <td>1960</td>\n",
              "      <td>September</td>\n",
              "      <td>508</td>\n",
              "      <td>0</td>\n",
              "    </tr>\n",
              "    <tr>\n",
              "      <th>141</th>\n",
              "      <td>1960</td>\n",
              "      <td>October</td>\n",
              "      <td>461</td>\n",
              "      <td>0</td>\n",
              "    </tr>\n",
              "    <tr>\n",
              "      <th>142</th>\n",
              "      <td>1960</td>\n",
              "      <td>November</td>\n",
              "      <td>390</td>\n",
              "      <td>0</td>\n",
              "    </tr>\n",
              "    <tr>\n",
              "      <th>143</th>\n",
              "      <td>1960</td>\n",
              "      <td>December</td>\n",
              "      <td>432</td>\n",
              "      <td>0</td>\n",
              "    </tr>\n",
              "  </tbody>\n",
              "</table>\n",
              "<p>144 rows × 4 columns</p>\n",
              "</div>"
            ],
            "text/plain": [
              "     year      month  passengers  underperforming\n",
              "0    1949    January         112                1\n",
              "1    1949   February         118                1\n",
              "2    1949      March         132                1\n",
              "3    1949      April         129                1\n",
              "4    1949        May         121                1\n",
              "..    ...        ...         ...              ...\n",
              "139  1960     August         606                0\n",
              "140  1960  September         508                0\n",
              "141  1960    October         461                0\n",
              "142  1960   November         390                0\n",
              "143  1960   December         432                0\n",
              "\n",
              "[144 rows x 4 columns]"
            ]
          },
          "metadata": {},
          "execution_count": 10
        }
      ]
    },
    {
      "cell_type": "markdown",
      "metadata": {
        "id": "bMGsnopml5ML"
      },
      "source": [
        "# Desafío 6\n",
        "\n",
        "Hacer un loop que clasifique los meses donde la cantidad de pasajeros se escapa de la tendencia.\n"
      ]
    },
    {
      "cell_type": "markdown",
      "metadata": {
        "id": "ft1oUYqBDDtg"
      },
      "source": [
        "* Para ello, genere dos objetos que guarden la media general y la desviación estándar general de passengers.\n"
      ]
    },
    {
      "cell_type": "code",
      "metadata": {
        "id": "EQC0XYOODKTR"
      },
      "source": [
        "passengers_mean = np.mean(df['passengers'])\n",
        "passengers_std = np.std(df['passengers'])"
      ],
      "execution_count": 11,
      "outputs": []
    },
    {
      "cell_type": "markdown",
      "metadata": {
        "id": "-Xqkl0pcDJyQ"
      },
      "source": [
        "* Genere una nueva columna en la tabla de datos que se llame outlier y asignele 0.\n"
      ]
    },
    {
      "cell_type": "code",
      "metadata": {
        "colab": {
          "base_uri": "https://localhost:8080/",
          "height": 204
        },
        "id": "-DojjnrTDZ73",
        "outputId": "d6145025-ce04-4905-e15a-a11a379894a0"
      },
      "source": [
        "df['outlier'] = 0\n",
        "df.head()"
      ],
      "execution_count": 12,
      "outputs": [
        {
          "output_type": "execute_result",
          "data": {
            "text/html": [
              "<div>\n",
              "<style scoped>\n",
              "    .dataframe tbody tr th:only-of-type {\n",
              "        vertical-align: middle;\n",
              "    }\n",
              "\n",
              "    .dataframe tbody tr th {\n",
              "        vertical-align: top;\n",
              "    }\n",
              "\n",
              "    .dataframe thead th {\n",
              "        text-align: right;\n",
              "    }\n",
              "</style>\n",
              "<table border=\"1\" class=\"dataframe\">\n",
              "  <thead>\n",
              "    <tr style=\"text-align: right;\">\n",
              "      <th></th>\n",
              "      <th>year</th>\n",
              "      <th>month</th>\n",
              "      <th>passengers</th>\n",
              "      <th>underperforming</th>\n",
              "      <th>outlier</th>\n",
              "    </tr>\n",
              "  </thead>\n",
              "  <tbody>\n",
              "    <tr>\n",
              "      <th>0</th>\n",
              "      <td>1949</td>\n",
              "      <td>January</td>\n",
              "      <td>112</td>\n",
              "      <td>1</td>\n",
              "      <td>0</td>\n",
              "    </tr>\n",
              "    <tr>\n",
              "      <th>1</th>\n",
              "      <td>1949</td>\n",
              "      <td>February</td>\n",
              "      <td>118</td>\n",
              "      <td>1</td>\n",
              "      <td>0</td>\n",
              "    </tr>\n",
              "    <tr>\n",
              "      <th>2</th>\n",
              "      <td>1949</td>\n",
              "      <td>March</td>\n",
              "      <td>132</td>\n",
              "      <td>1</td>\n",
              "      <td>0</td>\n",
              "    </tr>\n",
              "    <tr>\n",
              "      <th>3</th>\n",
              "      <td>1949</td>\n",
              "      <td>April</td>\n",
              "      <td>129</td>\n",
              "      <td>1</td>\n",
              "      <td>0</td>\n",
              "    </tr>\n",
              "    <tr>\n",
              "      <th>4</th>\n",
              "      <td>1949</td>\n",
              "      <td>May</td>\n",
              "      <td>121</td>\n",
              "      <td>1</td>\n",
              "      <td>0</td>\n",
              "    </tr>\n",
              "  </tbody>\n",
              "</table>\n",
              "</div>"
            ],
            "text/plain": [
              "   year     month  passengers  underperforming  outlier\n",
              "0  1949   January         112                1        0\n",
              "1  1949  February         118                1        0\n",
              "2  1949     March         132                1        0\n",
              "3  1949     April         129                1        0\n",
              "4  1949       May         121                1        0"
            ]
          },
          "metadata": {},
          "execution_count": 12
        }
      ]
    },
    {
      "cell_type": "markdown",
      "metadata": {
        "id": "QxcKLXtcDgDw"
      },
      "source": [
        "\n",
        "* Ejecuten un loop que recorra cada observación de passengers, donde si la observación se escapa de la tendencia sea 1, de lo contrario 0.\n",
        "\n",
        "* Para clasificar los casos que se escapen la tendencia, la observación debe satisfacer una de las siguientes condiciones:\n",
        "\n",
        "     * La observación debe ser menor a la media menos la desviación estándar,\n",
        "     * La observación debe ser mayor a la media más la desviación estándar.\n",
        "     * ¿Cuántas observaciones se pueden clasificar como casos extremos?\n",
        "\n"
      ]
    },
    {
      "cell_type": "code",
      "metadata": {
        "colab": {
          "base_uri": "https://localhost:8080/"
        },
        "id": "Y4E9oUZmDuYP",
        "outputId": "7cef5f0b-4795-4bf9-b87f-8b62b5ae8781"
      },
      "source": [
        "for row in df.iterrows():\n",
        "  if ( (row[1]['passengers'] < passengers_mean - passengers_std) \n",
        "   | (row[1]['passengers'] > passengers_mean + passengers_std) ): \n",
        "    df.at[row[0], 'outlier'] = 1 \n",
        "  \n",
        "print('Se encontraron {} observaciones atípicas (outliers).'.format(df['outlier'].sum()))"
      ],
      "execution_count": 13,
      "outputs": [
        {
          "output_type": "stream",
          "name": "stdout",
          "text": [
            "Se encontraron 53 observaciones atípicas (outliers).\n"
          ]
        }
      ]
    }
  ]
}