{
 "cells": [
  {
   "cell_type": "markdown",
   "id": "77cde47e",
   "metadata": {},
   "source": [
    "# Desafío 1: Hola Mundo\n",
    "\n",
    "   ● Utilice el método print para mostrar en pantalla la siguiente línea:\n",
    "   \n",
    "Hola Mundo, esta es mi primera incursión en Python\n"
   ]
  },
  {
   "cell_type": "code",
   "execution_count": 1,
   "id": "3dcb9c08",
   "metadata": {},
   "outputs": [
    {
     "name": "stdout",
     "output_type": "stream",
     "text": [
      "Hola Mundo, esta es mi primera incursión en Python\n"
     ]
    }
   ],
   "source": [
    "print('Hola Mundo, esta es mi primera incursión en Python')"
   ]
  },
  {
   "cell_type": "markdown",
   "id": "1c3f0e3e",
   "metadata": {},
   "source": [
    "# Desafío 2: Ingreso de variables\n",
    "\n",
    "Ingrese una serie de datos respecto a su información personal. Esta información debe estar\n",
    "ingresada en variables para su posterior uso. Ingrese los siguientes datos:\n",
    "\n",
    "    ● Su nombre.\n",
    "    ● Edad.\n",
    "    ● Una lista con sus 3 actividades favoritas.\n",
    "    ● ¿Tiene mascotas?"
   ]
  },
  {
   "cell_type": "code",
   "execution_count": 2,
   "id": "d879d141",
   "metadata": {},
   "outputs": [],
   "source": [
    "nombre = 'Paula Cristina Navarrete Campos'\n",
    "edad = 37\n",
    "actividades = ['treking', 'ajedrez' , 'leer']\n",
    "mascotas = True\n"
   ]
  },
  {
   "cell_type": "markdown",
   "id": "23031cb6",
   "metadata": {},
   "source": [
    "# Desafío 3: Imprimiendo Variables\n",
    "\n",
    "    ● Imprima cada variable creada.\n",
    "        ○ Acceda al segundo elemento de su lista.\n",
    "    ● Pida los tipos de datos asociados.\n",
    "    ● Interpole los datos en un método print para generar una presentación sobre usted.\n"
   ]
  },
  {
   "cell_type": "code",
   "execution_count": 3,
   "id": "c554ca82",
   "metadata": {},
   "outputs": [
    {
     "name": "stdout",
     "output_type": "stream",
     "text": [
      "Nombre: Paula Cristina Navarrete Campos\n",
      "Edad: 37\n",
      "Actividad Favorita: ajedrez\n",
      "¿Tiene mascotas?: Si\n"
     ]
    }
   ],
   "source": [
    "print('Nombre:',nombre)\n",
    "print('Edad:',edad)\n",
    "print('Actividad Favorita:',actividades[1])\n",
    "print('¿Tiene mascotas?:', 'Si' if mascotas else 'No')"
   ]
  },
  {
   "cell_type": "code",
   "execution_count": 4,
   "id": "715ed649",
   "metadata": {},
   "outputs": [
    {
     "name": "stdout",
     "output_type": "stream",
     "text": [
      "El tipo de datos de la variable nombre es: <class 'str'>\n",
      "El tipo de datos de la variable edad: <class 'int'>\n",
      "El tipo de datos de la variable actividades Favorita: <class 'list'>\n",
      "El tipo de datos de la variable mascotas: <class 'bool'>\n"
     ]
    }
   ],
   "source": [
    "print('El tipo de datos de la variable nombre es:',type(nombre))\n",
    "print('El tipo de datos de la variable edad:',type(edad))\n",
    "print('El tipo de datos de la variable actividades Favorita:',type(actividades))\n",
    "print('El tipo de datos de la variable mascotas:', type(mascotas))"
   ]
  },
  {
   "cell_type": "code",
   "execution_count": 5,
   "id": "b35632aa",
   "metadata": {},
   "outputs": [
    {
     "name": "stdout",
     "output_type": "stream",
     "text": [
      "Hola! Mi nombre es Paula Cristina Navarrete Campos, tengo 37 años, me encanta pasar tiempo con mis mascotas, mis actividades favoritas son treking, ajedrez y leer.\n"
     ]
    }
   ],
   "source": [
    "print('Hola! Mi nombre es {}, tengo {} años,{} mis actividades favoritas son {}, {} y {}.'\n",
    "      .format(nombre, edad, mascotas*' me encanta pasar tiempo con mis mascotas,', actividades[0],actividades[1], actividades[2]))"
   ]
  },
  {
   "cell_type": "markdown",
   "id": "1a9d0957",
   "metadata": {},
   "source": [
    "# Desafío 4\n",
    "\n",
    "A continuación se presenta una serie de códigos que generan errores. Corríjalos y comente\n",
    "cuáles fueron las fallas.\n"
   ]
  },
  {
   "cell_type": "markdown",
   "id": "7efc7444",
   "metadata": {},
   "source": [
    "## 4.1"
   ]
  },
  {
   "cell_type": "code",
   "execution_count": 6,
   "id": "672f2b0b",
   "metadata": {},
   "outputs": [
    {
     "ename": "SyntaxError",
     "evalue": "EOL while scanning string literal (Temp/ipykernel_22356/1236003848.py, line 1)",
     "output_type": "error",
     "traceback": [
      "\u001b[1;36m  File \u001b[1;32m\"C:\\Users\\pcnav\\AppData\\Local\\Temp/ipykernel_22356/1236003848.py\"\u001b[1;36m, line \u001b[1;32m1\u001b[0m\n\u001b[1;33m    print('Estaba la pájara pinta sentada en el verde limón)\u001b[0m\n\u001b[1;37m                                                            ^\u001b[0m\n\u001b[1;31mSyntaxError\u001b[0m\u001b[1;31m:\u001b[0m EOL while scanning string literal\n"
     ]
    }
   ],
   "source": [
    "print('Estaba la pájara pinta sentada en el verde limón)"
   ]
  },
  {
   "cell_type": "markdown",
   "id": "2e19a9d0",
   "metadata": {},
   "source": [
    "### Rp: Error de sintaxis, falla porque falta el cierre de comillas de término de string antes del cierre del paréntesis del print."
   ]
  },
  {
   "cell_type": "code",
   "execution_count": 7,
   "id": "18cfc952",
   "metadata": {},
   "outputs": [
    {
     "name": "stdout",
     "output_type": "stream",
     "text": [
      "Estaba la pájara pinta sentada en el verde limón\n"
     ]
    }
   ],
   "source": [
    "print('Estaba la pájara pinta sentada en el verde limón')"
   ]
  },
  {
   "cell_type": "markdown",
   "id": "8f22cb3e",
   "metadata": {},
   "source": [
    "## 4.2"
   ]
  },
  {
   "cell_type": "code",
   "execution_count": 8,
   "id": "1465ec48",
   "metadata": {},
   "outputs": [
    {
     "ename": "SyntaxError",
     "evalue": "invalid syntax (Temp/ipykernel_22356/1605563620.py, line 1)",
     "output_type": "error",
     "traceback": [
      "\u001b[1;36m  File \u001b[1;32m\"C:\\Users\\pcnav\\AppData\\Local\\Temp/ipykernel_22356/1605563620.py\"\u001b[1;36m, line \u001b[1;32m1\u001b[0m\n\u001b[1;33m    print('Mi nombre es' name 'y tengo' edad, 'años')\u001b[0m\n\u001b[1;37m                         ^\u001b[0m\n\u001b[1;31mSyntaxError\u001b[0m\u001b[1;31m:\u001b[0m invalid syntax\n"
     ]
    }
   ],
   "source": [
    "print('Mi nombre es' name 'y tengo' edad, 'años')"
   ]
  },
  {
   "cell_type": "code",
   "execution_count": 9,
   "id": "43397792",
   "metadata": {},
   "outputs": [
    {
     "name": "stdout",
     "output_type": "stream",
     "text": [
      "Mi nombre es Paula Cristina Navarrete Campos y tengo 37 años\n"
     ]
    }
   ],
   "source": [
    "name=nombre\n",
    "print('Mi nombre es', name, 'y tengo', edad, 'años')\n"
   ]
  },
  {
   "cell_type": "markdown",
   "id": "cf0183b1",
   "metadata": {},
   "source": [
    "### Rp: Error de sintaxis, falla porque falta insertar coma antes y después de las variables name y edad antes en el output del print."
   ]
  },
  {
   "cell_type": "markdown",
   "id": "b5c758a8",
   "metadata": {},
   "source": [
    "## 4.3"
   ]
  },
  {
   "cell_type": "code",
   "execution_count": 10,
   "id": "eb67404d",
   "metadata": {},
   "outputs": [
    {
     "ename": "ModuleNotFoundError",
     "evalue": "No module named 'padnas'",
     "output_type": "error",
     "traceback": [
      "\u001b[1;31m---------------------------------------------------------------------------\u001b[0m",
      "\u001b[1;31mModuleNotFoundError\u001b[0m                       Traceback (most recent call last)",
      "\u001b[1;32m~\\AppData\\Local\\Temp/ipykernel_22356/869421781.py\u001b[0m in \u001b[0;36m<module>\u001b[1;34m\u001b[0m\n\u001b[1;32m----> 1\u001b[1;33m \u001b[1;32mimport\u001b[0m \u001b[0mpadnas\u001b[0m \u001b[1;32mas\u001b[0m \u001b[0mpd\u001b[0m\u001b[1;33m\u001b[0m\u001b[1;33m\u001b[0m\u001b[0m\n\u001b[0m\u001b[0;32m      2\u001b[0m \u001b[1;32mimport\u001b[0m \u001b[0mnunnpy\u001b[0m \u001b[1;32mas\u001b[0m \u001b[0mnp\u001b[0m\u001b[1;33m\u001b[0m\u001b[1;33m\u001b[0m\u001b[0m\n",
      "\u001b[1;31mModuleNotFoundError\u001b[0m: No module named 'padnas'"
     ]
    }
   ],
   "source": [
    "import padnas as pd\n",
    "import nunnpy as np"
   ]
  },
  {
   "cell_type": "code",
   "execution_count": 11,
   "id": "73bf9edf",
   "metadata": {},
   "outputs": [],
   "source": [
    "import pandas as pd\n",
    "import numpy as np\n"
   ]
  },
  {
   "cell_type": "markdown",
   "id": "7a322998",
   "metadata": {},
   "source": [
    "### Rp: Falla porque no encuentra el módulo 'padnas' o 'nunnpy', porque no existen con ese nombre, ya que se encuentan mal escritos."
   ]
  },
  {
   "cell_type": "markdown",
   "id": "e72ca565",
   "metadata": {},
   "source": [
    "## 4.4"
   ]
  },
  {
   "cell_type": "code",
   "execution_count": 12,
   "id": "59fb6382",
   "metadata": {},
   "outputs": [
    {
     "ename": "TypeError",
     "evalue": "can only concatenate str (not \"int\") to str",
     "output_type": "error",
     "traceback": [
      "\u001b[1;31m---------------------------------------------------------------------------\u001b[0m",
      "\u001b[1;31mTypeError\u001b[0m                                 Traceback (most recent call last)",
      "\u001b[1;32m~\\AppData\\Local\\Temp/ipykernel_22356/1357610482.py\u001b[0m in \u001b[0;36m<module>\u001b[1;34m\u001b[0m\n\u001b[1;32m----> 1\u001b[1;33m \u001b[1;34m\"Ornitorrinco\"\u001b[0m \u001b[1;33m+\u001b[0m \u001b[1;36m45\u001b[0m\u001b[1;33m\u001b[0m\u001b[1;33m\u001b[0m\u001b[0m\n\u001b[0m",
      "\u001b[1;31mTypeError\u001b[0m: can only concatenate str (not \"int\") to str"
     ]
    }
   ],
   "source": [
    "\"Ornitorrinco\" + 45"
   ]
  },
  {
   "cell_type": "code",
   "execution_count": 13,
   "id": "d7c50020",
   "metadata": {},
   "outputs": [
    {
     "data": {
      "text/plain": [
       "'Ornitorrinco45'"
      ]
     },
     "execution_count": 13,
     "metadata": {},
     "output_type": "execute_result"
    }
   ],
   "source": [
    "\"Ornitorrinco\" + '45'"
   ]
  },
  {
   "cell_type": "markdown",
   "id": "9976c3ee",
   "metadata": {},
   "source": [
    "### Rp. Error de tipo de datos, falla porque no puede sumar números con palabras. Para evitarlo habría que homogeneizar los tipos de datos convirtiendo a string el número 45."
   ]
  },
  {
   "cell_type": "markdown",
   "id": "8f7b6a64",
   "metadata": {},
   "source": [
    "# Desafío 5: Utilizando pandas y numpy"
   ]
  },
  {
   "cell_type": "markdown",
   "id": "e1f919ff",
   "metadata": {},
   "source": [
    "## 5.1 Importe pandas y numpy.\n"
   ]
  },
  {
   "cell_type": "code",
   "execution_count": 14,
   "id": "58d6d768",
   "metadata": {},
   "outputs": [],
   "source": [
    "import pandas as pd\n",
    "import numpy as np"
   ]
  },
  {
   "cell_type": "markdown",
   "id": "1e47b0b3",
   "metadata": {},
   "source": [
    "## 5.2  Posteriormente importe el archivo flights.csv."
   ]
  },
  {
   "cell_type": "code",
   "execution_count": 15,
   "id": "2c7e18d9",
   "metadata": {},
   "outputs": [],
   "source": [
    "df = pd.read_csv('flights.csv')"
   ]
  },
  {
   "cell_type": "markdown",
   "id": "d85ef012",
   "metadata": {},
   "source": [
    "## 5.3 Solicite las primeras y últimas 5 observaciones de la tabla de datos.\n",
    "\n"
   ]
  },
  {
   "cell_type": "code",
   "execution_count": 16,
   "id": "f00a6597",
   "metadata": {},
   "outputs": [
    {
     "name": "stdout",
     "output_type": "stream",
     "text": [
      "   year     month  passengers\n",
      "0  1949   January         112\n",
      "1  1949  February         118\n",
      "2  1949     March         132\n",
      "3  1949     April         129\n",
      "4  1949       May         121\n",
      "     year      month  passengers\n",
      "139  1960     August         606\n",
      "140  1960  September         508\n",
      "141  1960    October         461\n",
      "142  1960   November         390\n",
      "143  1960   December         432\n"
     ]
    }
   ],
   "source": [
    "print(df.head(5))\n",
    "print(df.tail(5))"
   ]
  },
  {
   "cell_type": "markdown",
   "id": "eb20f350",
   "metadata": {},
   "source": [
    "## 5.4 Utilice describe para obtener las medidas univariadas de la columna year."
   ]
  },
  {
   "cell_type": "code",
   "execution_count": 17,
   "id": "5cfabfc3",
   "metadata": {},
   "outputs": [
    {
     "data": {
      "text/plain": [
       "count     144.000000\n",
       "mean     1954.500000\n",
       "std         3.464102\n",
       "min      1949.000000\n",
       "25%      1951.750000\n",
       "50%      1954.500000\n",
       "75%      1957.250000\n",
       "max      1960.000000\n",
       "Name: year, dtype: float64"
      ]
     },
     "execution_count": 17,
     "metadata": {},
     "output_type": "execute_result"
    }
   ],
   "source": [
    "(df['year'].describe())"
   ]
  },
  {
   "cell_type": "markdown",
   "id": "e37f8fa7",
   "metadata": {},
   "source": [
    "## 5.5 Utilice value_counts para obtener la frecuencia de meses y años de la tabla."
   ]
  },
  {
   "cell_type": "code",
   "execution_count": 18,
   "id": "68321d91",
   "metadata": {},
   "outputs": [
    {
     "name": "stdout",
     "output_type": "stream",
     "text": [
      "1949    12\n",
      "1950    12\n",
      "1951    12\n",
      "1952    12\n",
      "1953    12\n",
      "1954    12\n",
      "1955    12\n",
      "1956    12\n",
      "1957    12\n",
      "1958    12\n",
      "1959    12\n",
      "1960    12\n",
      "Name: year, dtype: int64\n",
      "January      12\n",
      "February     12\n",
      "March        12\n",
      "April        12\n",
      "May          12\n",
      "June         12\n",
      "July         12\n",
      "August       12\n",
      "September    12\n",
      "October      12\n",
      "November     12\n",
      "December     12\n",
      "Name: month, dtype: int64\n"
     ]
    }
   ],
   "source": [
    "print(df['year'].value_counts())\n",
    "print(df['month'].value_counts())"
   ]
  },
  {
   "cell_type": "markdown",
   "id": "33f28128",
   "metadata": {},
   "source": [
    "## 5.6 Guarde en variables las primeras y últimas 15 observaciones de la tabla.\n"
   ]
  },
  {
   "cell_type": "code",
   "execution_count": 19,
   "id": "2aaa4a29",
   "metadata": {},
   "outputs": [],
   "source": [
    "head = df.head(5)\n",
    "tail = df.tail(15)"
   ]
  },
  {
   "cell_type": "markdown",
   "id": "919df058",
   "metadata": {},
   "source": [
    "## 5.7 Solicite la media, mediana y desviación estándar de la cantidad de pasajeros utilizando los métodos de numpy. Replique el procedimiento para las últimas y primeras 15 observaciones. Comente brevemente los resultados.\n"
   ]
  },
  {
   "cell_type": "code",
   "execution_count": 20,
   "id": "b17c65db",
   "metadata": {},
   "outputs": [
    {
     "name": "stdout",
     "output_type": "stream",
     "text": [
      "280.2986111111111 265.5 119.54904153277148\n"
     ]
    }
   ],
   "source": [
    "passengers_mean = np.mean(df['passengers'])\n",
    "passengers_median = np.median(df['passengers'])\n",
    "passengers_std = np.std(df['passengers'])\n",
    "\n",
    "print(passengers_mean,passengers_median,passengers_std)"
   ]
  },
  {
   "cell_type": "markdown",
   "id": "53b8efb4",
   "metadata": {},
   "source": [
    "Podemos ver que el promedio de pasajeros por vuelo para la muestra es de aproximadamente 280. La mediana corresponde a 265 pasajeros, menor a la media, por lo que más de la mitad de los vuelos fueron realizados con menos pasajeros que la media. La desviación estándar es de aproximadamente 120 pasajeros, esto implica que la gran mayoría de los vuelos transportó más de 160 pasajeros y menos de 400."
   ]
  }
 ],
 "metadata": {
  "kernelspec": {
   "display_name": "Python 3 (ipykernel)",
   "language": "python",
   "name": "python3"
  },
  "language_info": {
   "codemirror_mode": {
    "name": "ipython",
    "version": 3
   },
   "file_extension": ".py",
   "mimetype": "text/x-python",
   "name": "python",
   "nbconvert_exporter": "python",
   "pygments_lexer": "ipython3",
   "version": "3.8.11"
  }
 },
 "nbformat": 4,
 "nbformat_minor": 5
}
