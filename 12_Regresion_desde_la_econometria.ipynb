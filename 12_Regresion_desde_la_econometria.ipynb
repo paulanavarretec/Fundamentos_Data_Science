{
  "nbformat": 4,
  "nbformat_minor": 0,
  "metadata": {
    "colab": {
      "name": "12.Regresion_desde_la_econometria.ipynb",
      "provenance": [],
      "authorship_tag": "ABX9TyPAMH/tcjSunulqvJ4KZbwj",
      "include_colab_link": true
    },
    "kernelspec": {
      "name": "python3",
      "display_name": "Python 3"
    },
    "language_info": {
      "name": "python"
    }
  },
  "cells": [
    {
      "cell_type": "markdown",
      "metadata": {
        "id": "view-in-github",
        "colab_type": "text"
      },
      "source": [
        "<a href=\"https://colab.research.google.com/github/paulanavarretec/Fundamentos_Data_Science/blob/main/12_Regresion_desde_la_econometria.ipynb\" target=\"_parent\"><img src=\"https://colab.research.google.com/assets/colab-badge.svg\" alt=\"Open In Colab\"/></a>"
      ]
    },
    {
      "cell_type": "markdown",
      "source": [
        "# Desafío \\#12 - Regresión desde la econometría"
      ],
      "metadata": {
        "id": "hOhWHrVxk0kI"
      }
    },
    {
      "cell_type": "markdown",
      "source": [
        "# Desafío 1: Prepare el ambiente de trabajo\n",
        "\n",
        "* Importe las librerías básicas para el análisis de datos.\n",
        "* Incluya los import base de statsmodels.\n",
        "* Importe la base de datos Credit.csv y elimine la columna Unnamed: 0.\n",
        "* Siguiendo las buenas prácticas, genere variables binarias para capturar el efecto del grupo minoritario en cada variable. Para el caso de Ethnicity, genere binarias para African American, Caucasian y Asian.\n",
        "  * tip: Utilice value_counts() para revisar la cantidad de casos en las variables\n",
        "categóricas."
      ],
      "metadata": {
        "id": "nHdjnQBIY_YP"
      }
    },
    {
      "cell_type": "code",
      "execution_count": 5,
      "metadata": {
        "colab": {
          "base_uri": "https://localhost:8080/",
          "height": 270
        },
        "id": "w7c-1Zo8YyH-",
        "outputId": "9f21b46a-44ad-4905-b818-17d8c2f9a945"
      },
      "outputs": [
        {
          "output_type": "execute_result",
          "data": {
            "text/html": [
              "\n",
              "  <div id=\"df-3a287b4b-d927-4545-844f-6e7e98c2b4e5\">\n",
              "    <div class=\"colab-df-container\">\n",
              "      <div>\n",
              "<style scoped>\n",
              "    .dataframe tbody tr th:only-of-type {\n",
              "        vertical-align: middle;\n",
              "    }\n",
              "\n",
              "    .dataframe tbody tr th {\n",
              "        vertical-align: top;\n",
              "    }\n",
              "\n",
              "    .dataframe thead th {\n",
              "        text-align: right;\n",
              "    }\n",
              "</style>\n",
              "<table border=\"1\" class=\"dataframe\">\n",
              "  <thead>\n",
              "    <tr style=\"text-align: right;\">\n",
              "      <th></th>\n",
              "      <th>Income</th>\n",
              "      <th>Limit</th>\n",
              "      <th>Rating</th>\n",
              "      <th>Cards</th>\n",
              "      <th>Age</th>\n",
              "      <th>Education</th>\n",
              "      <th>Gender</th>\n",
              "      <th>Student</th>\n",
              "      <th>Married</th>\n",
              "      <th>Ethnicity</th>\n",
              "      <th>Balance</th>\n",
              "      <th>African_American</th>\n",
              "      <th>Asian</th>\n",
              "      <th>Caucasian</th>\n",
              "    </tr>\n",
              "  </thead>\n",
              "  <tbody>\n",
              "    <tr>\n",
              "      <th>0</th>\n",
              "      <td>14.89</td>\n",
              "      <td>3606</td>\n",
              "      <td>283</td>\n",
              "      <td>2</td>\n",
              "      <td>34</td>\n",
              "      <td>11</td>\n",
              "      <td>Male</td>\n",
              "      <td>No</td>\n",
              "      <td>Yes</td>\n",
              "      <td>Caucasian</td>\n",
              "      <td>333</td>\n",
              "      <td>0</td>\n",
              "      <td>0</td>\n",
              "      <td>1</td>\n",
              "    </tr>\n",
              "    <tr>\n",
              "      <th>1</th>\n",
              "      <td>106.03</td>\n",
              "      <td>6645</td>\n",
              "      <td>483</td>\n",
              "      <td>3</td>\n",
              "      <td>82</td>\n",
              "      <td>15</td>\n",
              "      <td>Female</td>\n",
              "      <td>Yes</td>\n",
              "      <td>Yes</td>\n",
              "      <td>Asian</td>\n",
              "      <td>903</td>\n",
              "      <td>0</td>\n",
              "      <td>1</td>\n",
              "      <td>0</td>\n",
              "    </tr>\n",
              "    <tr>\n",
              "      <th>2</th>\n",
              "      <td>104.59</td>\n",
              "      <td>7075</td>\n",
              "      <td>514</td>\n",
              "      <td>4</td>\n",
              "      <td>71</td>\n",
              "      <td>11</td>\n",
              "      <td>Male</td>\n",
              "      <td>No</td>\n",
              "      <td>No</td>\n",
              "      <td>Asian</td>\n",
              "      <td>580</td>\n",
              "      <td>0</td>\n",
              "      <td>1</td>\n",
              "      <td>0</td>\n",
              "    </tr>\n",
              "    <tr>\n",
              "      <th>3</th>\n",
              "      <td>148.92</td>\n",
              "      <td>9504</td>\n",
              "      <td>681</td>\n",
              "      <td>3</td>\n",
              "      <td>36</td>\n",
              "      <td>11</td>\n",
              "      <td>Female</td>\n",
              "      <td>No</td>\n",
              "      <td>No</td>\n",
              "      <td>Asian</td>\n",
              "      <td>964</td>\n",
              "      <td>0</td>\n",
              "      <td>1</td>\n",
              "      <td>0</td>\n",
              "    </tr>\n",
              "    <tr>\n",
              "      <th>4</th>\n",
              "      <td>55.88</td>\n",
              "      <td>4897</td>\n",
              "      <td>357</td>\n",
              "      <td>2</td>\n",
              "      <td>68</td>\n",
              "      <td>16</td>\n",
              "      <td>Male</td>\n",
              "      <td>No</td>\n",
              "      <td>Yes</td>\n",
              "      <td>Caucasian</td>\n",
              "      <td>331</td>\n",
              "      <td>0</td>\n",
              "      <td>0</td>\n",
              "      <td>1</td>\n",
              "    </tr>\n",
              "  </tbody>\n",
              "</table>\n",
              "</div>\n",
              "      <button class=\"colab-df-convert\" onclick=\"convertToInteractive('df-3a287b4b-d927-4545-844f-6e7e98c2b4e5')\"\n",
              "              title=\"Convert this dataframe to an interactive table.\"\n",
              "              style=\"display:none;\">\n",
              "        \n",
              "  <svg xmlns=\"http://www.w3.org/2000/svg\" height=\"24px\"viewBox=\"0 0 24 24\"\n",
              "       width=\"24px\">\n",
              "    <path d=\"M0 0h24v24H0V0z\" fill=\"none\"/>\n",
              "    <path d=\"M18.56 5.44l.94 2.06.94-2.06 2.06-.94-2.06-.94-.94-2.06-.94 2.06-2.06.94zm-11 1L8.5 8.5l.94-2.06 2.06-.94-2.06-.94L8.5 2.5l-.94 2.06-2.06.94zm10 10l.94 2.06.94-2.06 2.06-.94-2.06-.94-.94-2.06-.94 2.06-2.06.94z\"/><path d=\"M17.41 7.96l-1.37-1.37c-.4-.4-.92-.59-1.43-.59-.52 0-1.04.2-1.43.59L10.3 9.45l-7.72 7.72c-.78.78-.78 2.05 0 2.83L4 21.41c.39.39.9.59 1.41.59.51 0 1.02-.2 1.41-.59l7.78-7.78 2.81-2.81c.8-.78.8-2.07 0-2.86zM5.41 20L4 18.59l7.72-7.72 1.47 1.35L5.41 20z\"/>\n",
              "  </svg>\n",
              "      </button>\n",
              "      \n",
              "  <style>\n",
              "    .colab-df-container {\n",
              "      display:flex;\n",
              "      flex-wrap:wrap;\n",
              "      gap: 12px;\n",
              "    }\n",
              "\n",
              "    .colab-df-convert {\n",
              "      background-color: #E8F0FE;\n",
              "      border: none;\n",
              "      border-radius: 50%;\n",
              "      cursor: pointer;\n",
              "      display: none;\n",
              "      fill: #1967D2;\n",
              "      height: 32px;\n",
              "      padding: 0 0 0 0;\n",
              "      width: 32px;\n",
              "    }\n",
              "\n",
              "    .colab-df-convert:hover {\n",
              "      background-color: #E2EBFA;\n",
              "      box-shadow: 0px 1px 2px rgba(60, 64, 67, 0.3), 0px 1px 3px 1px rgba(60, 64, 67, 0.15);\n",
              "      fill: #174EA6;\n",
              "    }\n",
              "\n",
              "    [theme=dark] .colab-df-convert {\n",
              "      background-color: #3B4455;\n",
              "      fill: #D2E3FC;\n",
              "    }\n",
              "\n",
              "    [theme=dark] .colab-df-convert:hover {\n",
              "      background-color: #434B5C;\n",
              "      box-shadow: 0px 1px 3px 1px rgba(0, 0, 0, 0.15);\n",
              "      filter: drop-shadow(0px 1px 2px rgba(0, 0, 0, 0.3));\n",
              "      fill: #FFFFFF;\n",
              "    }\n",
              "  </style>\n",
              "\n",
              "      <script>\n",
              "        const buttonEl =\n",
              "          document.querySelector('#df-3a287b4b-d927-4545-844f-6e7e98c2b4e5 button.colab-df-convert');\n",
              "        buttonEl.style.display =\n",
              "          google.colab.kernel.accessAllowed ? 'block' : 'none';\n",
              "\n",
              "        async function convertToInteractive(key) {\n",
              "          const element = document.querySelector('#df-3a287b4b-d927-4545-844f-6e7e98c2b4e5');\n",
              "          const dataTable =\n",
              "            await google.colab.kernel.invokeFunction('convertToInteractive',\n",
              "                                                     [key], {});\n",
              "          if (!dataTable) return;\n",
              "\n",
              "          const docLinkHtml = 'Like what you see? Visit the ' +\n",
              "            '<a target=\"_blank\" href=https://colab.research.google.com/notebooks/data_table.ipynb>data table notebook</a>'\n",
              "            + ' to learn more about interactive tables.';\n",
              "          element.innerHTML = '';\n",
              "          dataTable['output_type'] = 'display_data';\n",
              "          await google.colab.output.renderOutput(dataTable, element);\n",
              "          const docLink = document.createElement('div');\n",
              "          docLink.innerHTML = docLinkHtml;\n",
              "          element.appendChild(docLink);\n",
              "        }\n",
              "      </script>\n",
              "    </div>\n",
              "  </div>\n",
              "  "
            ],
            "text/plain": [
              "   Income  Limit  Rating  Cards  ...  Balance  African_American Asian Caucasian\n",
              "0   14.89   3606     283      2  ...      333                 0     0         1\n",
              "1  106.03   6645     483      3  ...      903                 0     1         0\n",
              "2  104.59   7075     514      4  ...      580                 0     1         0\n",
              "3  148.92   9504     681      3  ...      964                 0     1         0\n",
              "4   55.88   4897     357      2  ...      331                 0     0         1\n",
              "\n",
              "[5 rows x 14 columns]"
            ]
          },
          "metadata": {},
          "execution_count": 5
        }
      ],
      "source": [
        "import pandas as pd\n",
        "import seaborn as sns\n",
        "import matplotlib.pyplot as plt\n",
        "import statsmodels.api as sm\n",
        "import statsmodels.formula.api as smf\n",
        "import scipy.stats as stats\n",
        "import statsmodels as sm\n",
        "import warnings\n",
        "warnings.filterwarnings(action='ignore')\n",
        "\n",
        "pd.set_option(\"display.precision\", 2)\n",
        "\n",
        "df = pd.read_csv('Credit.csv').drop(columns='Unnamed: 0')\n",
        "df = pd.concat([df, pd.get_dummies(df.Ethnicity)], axis=1)\n",
        "\n",
        "df.columns = df.columns.str.replace(' ', '_') # remove space character from column names\n",
        "df.head()"
      ]
    },
    {
      "cell_type": "code",
      "source": [
        "df.info()"
      ],
      "metadata": {
        "colab": {
          "base_uri": "https://localhost:8080/"
        },
        "id": "N2k5nJbIBbo0",
        "outputId": "d63e6a36-1041-40a4-b7b3-7822bd353163"
      },
      "execution_count": 6,
      "outputs": [
        {
          "output_type": "stream",
          "name": "stdout",
          "text": [
            "<class 'pandas.core.frame.DataFrame'>\n",
            "RangeIndex: 400 entries, 0 to 399\n",
            "Data columns (total 14 columns):\n",
            " #   Column            Non-Null Count  Dtype  \n",
            "---  ------            --------------  -----  \n",
            " 0   Income            400 non-null    float64\n",
            " 1   Limit             400 non-null    int64  \n",
            " 2   Rating            400 non-null    int64  \n",
            " 3   Cards             400 non-null    int64  \n",
            " 4   Age               400 non-null    int64  \n",
            " 5   Education         400 non-null    int64  \n",
            " 6   Gender            400 non-null    object \n",
            " 7   Student           400 non-null    object \n",
            " 8   Married           400 non-null    object \n",
            " 9   Ethnicity         400 non-null    object \n",
            " 10  Balance           400 non-null    int64  \n",
            " 11  African_American  400 non-null    uint8  \n",
            " 12  Asian             400 non-null    uint8  \n",
            " 13  Caucasian         400 non-null    uint8  \n",
            "dtypes: float64(1), int64(6), object(4), uint8(3)\n",
            "memory usage: 35.7+ KB\n"
          ]
        }
      ]
    },
    {
      "cell_type": "code",
      "source": [
        "df.describe(include=[object])"
      ],
      "metadata": {
        "colab": {
          "base_uri": "https://localhost:8080/",
          "height": 174
        },
        "id": "IRNdah0FeMWb",
        "outputId": "c51256e9-dc8c-4a79-8876-4c9a1cceee2a"
      },
      "execution_count": 7,
      "outputs": [
        {
          "output_type": "execute_result",
          "data": {
            "text/html": [
              "\n",
              "  <div id=\"df-5f272132-8053-48a6-a5de-8287bf0a4c1e\">\n",
              "    <div class=\"colab-df-container\">\n",
              "      <div>\n",
              "<style scoped>\n",
              "    .dataframe tbody tr th:only-of-type {\n",
              "        vertical-align: middle;\n",
              "    }\n",
              "\n",
              "    .dataframe tbody tr th {\n",
              "        vertical-align: top;\n",
              "    }\n",
              "\n",
              "    .dataframe thead th {\n",
              "        text-align: right;\n",
              "    }\n",
              "</style>\n",
              "<table border=\"1\" class=\"dataframe\">\n",
              "  <thead>\n",
              "    <tr style=\"text-align: right;\">\n",
              "      <th></th>\n",
              "      <th>Gender</th>\n",
              "      <th>Student</th>\n",
              "      <th>Married</th>\n",
              "      <th>Ethnicity</th>\n",
              "    </tr>\n",
              "  </thead>\n",
              "  <tbody>\n",
              "    <tr>\n",
              "      <th>count</th>\n",
              "      <td>400</td>\n",
              "      <td>400</td>\n",
              "      <td>400</td>\n",
              "      <td>400</td>\n",
              "    </tr>\n",
              "    <tr>\n",
              "      <th>unique</th>\n",
              "      <td>2</td>\n",
              "      <td>2</td>\n",
              "      <td>2</td>\n",
              "      <td>3</td>\n",
              "    </tr>\n",
              "    <tr>\n",
              "      <th>top</th>\n",
              "      <td>Female</td>\n",
              "      <td>No</td>\n",
              "      <td>Yes</td>\n",
              "      <td>Caucasian</td>\n",
              "    </tr>\n",
              "    <tr>\n",
              "      <th>freq</th>\n",
              "      <td>207</td>\n",
              "      <td>360</td>\n",
              "      <td>245</td>\n",
              "      <td>199</td>\n",
              "    </tr>\n",
              "  </tbody>\n",
              "</table>\n",
              "</div>\n",
              "      <button class=\"colab-df-convert\" onclick=\"convertToInteractive('df-5f272132-8053-48a6-a5de-8287bf0a4c1e')\"\n",
              "              title=\"Convert this dataframe to an interactive table.\"\n",
              "              style=\"display:none;\">\n",
              "        \n",
              "  <svg xmlns=\"http://www.w3.org/2000/svg\" height=\"24px\"viewBox=\"0 0 24 24\"\n",
              "       width=\"24px\">\n",
              "    <path d=\"M0 0h24v24H0V0z\" fill=\"none\"/>\n",
              "    <path d=\"M18.56 5.44l.94 2.06.94-2.06 2.06-.94-2.06-.94-.94-2.06-.94 2.06-2.06.94zm-11 1L8.5 8.5l.94-2.06 2.06-.94-2.06-.94L8.5 2.5l-.94 2.06-2.06.94zm10 10l.94 2.06.94-2.06 2.06-.94-2.06-.94-.94-2.06-.94 2.06-2.06.94z\"/><path d=\"M17.41 7.96l-1.37-1.37c-.4-.4-.92-.59-1.43-.59-.52 0-1.04.2-1.43.59L10.3 9.45l-7.72 7.72c-.78.78-.78 2.05 0 2.83L4 21.41c.39.39.9.59 1.41.59.51 0 1.02-.2 1.41-.59l7.78-7.78 2.81-2.81c.8-.78.8-2.07 0-2.86zM5.41 20L4 18.59l7.72-7.72 1.47 1.35L5.41 20z\"/>\n",
              "  </svg>\n",
              "      </button>\n",
              "      \n",
              "  <style>\n",
              "    .colab-df-container {\n",
              "      display:flex;\n",
              "      flex-wrap:wrap;\n",
              "      gap: 12px;\n",
              "    }\n",
              "\n",
              "    .colab-df-convert {\n",
              "      background-color: #E8F0FE;\n",
              "      border: none;\n",
              "      border-radius: 50%;\n",
              "      cursor: pointer;\n",
              "      display: none;\n",
              "      fill: #1967D2;\n",
              "      height: 32px;\n",
              "      padding: 0 0 0 0;\n",
              "      width: 32px;\n",
              "    }\n",
              "\n",
              "    .colab-df-convert:hover {\n",
              "      background-color: #E2EBFA;\n",
              "      box-shadow: 0px 1px 2px rgba(60, 64, 67, 0.3), 0px 1px 3px 1px rgba(60, 64, 67, 0.15);\n",
              "      fill: #174EA6;\n",
              "    }\n",
              "\n",
              "    [theme=dark] .colab-df-convert {\n",
              "      background-color: #3B4455;\n",
              "      fill: #D2E3FC;\n",
              "    }\n",
              "\n",
              "    [theme=dark] .colab-df-convert:hover {\n",
              "      background-color: #434B5C;\n",
              "      box-shadow: 0px 1px 3px 1px rgba(0, 0, 0, 0.15);\n",
              "      filter: drop-shadow(0px 1px 2px rgba(0, 0, 0, 0.3));\n",
              "      fill: #FFFFFF;\n",
              "    }\n",
              "  </style>\n",
              "\n",
              "      <script>\n",
              "        const buttonEl =\n",
              "          document.querySelector('#df-5f272132-8053-48a6-a5de-8287bf0a4c1e button.colab-df-convert');\n",
              "        buttonEl.style.display =\n",
              "          google.colab.kernel.accessAllowed ? 'block' : 'none';\n",
              "\n",
              "        async function convertToInteractive(key) {\n",
              "          const element = document.querySelector('#df-5f272132-8053-48a6-a5de-8287bf0a4c1e');\n",
              "          const dataTable =\n",
              "            await google.colab.kernel.invokeFunction('convertToInteractive',\n",
              "                                                     [key], {});\n",
              "          if (!dataTable) return;\n",
              "\n",
              "          const docLinkHtml = 'Like what you see? Visit the ' +\n",
              "            '<a target=\"_blank\" href=https://colab.research.google.com/notebooks/data_table.ipynb>data table notebook</a>'\n",
              "            + ' to learn more about interactive tables.';\n",
              "          element.innerHTML = '';\n",
              "          dataTable['output_type'] = 'display_data';\n",
              "          await google.colab.output.renderOutput(dataTable, element);\n",
              "          const docLink = document.createElement('div');\n",
              "          docLink.innerHTML = docLinkHtml;\n",
              "          element.appendChild(docLink);\n",
              "        }\n",
              "      </script>\n",
              "    </div>\n",
              "  </div>\n",
              "  "
            ],
            "text/plain": [
              "        Gender Student Married  Ethnicity\n",
              "count      400     400     400        400\n",
              "unique       2       2       2          3\n",
              "top     Female      No     Yes  Caucasian\n",
              "freq       207     360     245        199"
            ]
          },
          "metadata": {},
          "execution_count": 7
        }
      ]
    },
    {
      "cell_type": "code",
      "source": [
        "df.describe()"
      ],
      "metadata": {
        "colab": {
          "base_uri": "https://localhost:8080/",
          "height": 300
        },
        "id": "_abYg0jtLbCW",
        "outputId": "2a2b5471-2063-461e-8095-b6af34455d06"
      },
      "execution_count": 8,
      "outputs": [
        {
          "output_type": "execute_result",
          "data": {
            "text/html": [
              "\n",
              "  <div id=\"df-6e583bc3-bf95-410e-917e-febd9474c0e4\">\n",
              "    <div class=\"colab-df-container\">\n",
              "      <div>\n",
              "<style scoped>\n",
              "    .dataframe tbody tr th:only-of-type {\n",
              "        vertical-align: middle;\n",
              "    }\n",
              "\n",
              "    .dataframe tbody tr th {\n",
              "        vertical-align: top;\n",
              "    }\n",
              "\n",
              "    .dataframe thead th {\n",
              "        text-align: right;\n",
              "    }\n",
              "</style>\n",
              "<table border=\"1\" class=\"dataframe\">\n",
              "  <thead>\n",
              "    <tr style=\"text-align: right;\">\n",
              "      <th></th>\n",
              "      <th>Income</th>\n",
              "      <th>Limit</th>\n",
              "      <th>Rating</th>\n",
              "      <th>Cards</th>\n",
              "      <th>Age</th>\n",
              "      <th>Education</th>\n",
              "      <th>Balance</th>\n",
              "      <th>African_American</th>\n",
              "      <th>Asian</th>\n",
              "      <th>Caucasian</th>\n",
              "    </tr>\n",
              "  </thead>\n",
              "  <tbody>\n",
              "    <tr>\n",
              "      <th>count</th>\n",
              "      <td>400.00</td>\n",
              "      <td>400.00</td>\n",
              "      <td>400.00</td>\n",
              "      <td>400.00</td>\n",
              "      <td>400.00</td>\n",
              "      <td>400.00</td>\n",
              "      <td>400.00</td>\n",
              "      <td>400.00</td>\n",
              "      <td>400.00</td>\n",
              "      <td>400.0</td>\n",
              "    </tr>\n",
              "    <tr>\n",
              "      <th>mean</th>\n",
              "      <td>45.22</td>\n",
              "      <td>4735.60</td>\n",
              "      <td>354.94</td>\n",
              "      <td>2.96</td>\n",
              "      <td>55.67</td>\n",
              "      <td>13.45</td>\n",
              "      <td>520.01</td>\n",
              "      <td>0.25</td>\n",
              "      <td>0.26</td>\n",
              "      <td>0.5</td>\n",
              "    </tr>\n",
              "    <tr>\n",
              "      <th>std</th>\n",
              "      <td>35.24</td>\n",
              "      <td>2308.20</td>\n",
              "      <td>154.72</td>\n",
              "      <td>1.37</td>\n",
              "      <td>17.25</td>\n",
              "      <td>3.13</td>\n",
              "      <td>459.76</td>\n",
              "      <td>0.43</td>\n",
              "      <td>0.44</td>\n",
              "      <td>0.5</td>\n",
              "    </tr>\n",
              "    <tr>\n",
              "      <th>min</th>\n",
              "      <td>10.35</td>\n",
              "      <td>855.00</td>\n",
              "      <td>93.00</td>\n",
              "      <td>1.00</td>\n",
              "      <td>23.00</td>\n",
              "      <td>5.00</td>\n",
              "      <td>0.00</td>\n",
              "      <td>0.00</td>\n",
              "      <td>0.00</td>\n",
              "      <td>0.0</td>\n",
              "    </tr>\n",
              "    <tr>\n",
              "      <th>25%</th>\n",
              "      <td>21.01</td>\n",
              "      <td>3088.00</td>\n",
              "      <td>247.25</td>\n",
              "      <td>2.00</td>\n",
              "      <td>41.75</td>\n",
              "      <td>11.00</td>\n",
              "      <td>68.75</td>\n",
              "      <td>0.00</td>\n",
              "      <td>0.00</td>\n",
              "      <td>0.0</td>\n",
              "    </tr>\n",
              "    <tr>\n",
              "      <th>50%</th>\n",
              "      <td>33.12</td>\n",
              "      <td>4622.50</td>\n",
              "      <td>344.00</td>\n",
              "      <td>3.00</td>\n",
              "      <td>56.00</td>\n",
              "      <td>14.00</td>\n",
              "      <td>459.50</td>\n",
              "      <td>0.00</td>\n",
              "      <td>0.00</td>\n",
              "      <td>0.0</td>\n",
              "    </tr>\n",
              "    <tr>\n",
              "      <th>75%</th>\n",
              "      <td>57.47</td>\n",
              "      <td>5872.75</td>\n",
              "      <td>437.25</td>\n",
              "      <td>4.00</td>\n",
              "      <td>70.00</td>\n",
              "      <td>16.00</td>\n",
              "      <td>863.00</td>\n",
              "      <td>0.00</td>\n",
              "      <td>1.00</td>\n",
              "      <td>1.0</td>\n",
              "    </tr>\n",
              "    <tr>\n",
              "      <th>max</th>\n",
              "      <td>186.63</td>\n",
              "      <td>13913.00</td>\n",
              "      <td>982.00</td>\n",
              "      <td>9.00</td>\n",
              "      <td>98.00</td>\n",
              "      <td>20.00</td>\n",
              "      <td>1999.00</td>\n",
              "      <td>1.00</td>\n",
              "      <td>1.00</td>\n",
              "      <td>1.0</td>\n",
              "    </tr>\n",
              "  </tbody>\n",
              "</table>\n",
              "</div>\n",
              "      <button class=\"colab-df-convert\" onclick=\"convertToInteractive('df-6e583bc3-bf95-410e-917e-febd9474c0e4')\"\n",
              "              title=\"Convert this dataframe to an interactive table.\"\n",
              "              style=\"display:none;\">\n",
              "        \n",
              "  <svg xmlns=\"http://www.w3.org/2000/svg\" height=\"24px\"viewBox=\"0 0 24 24\"\n",
              "       width=\"24px\">\n",
              "    <path d=\"M0 0h24v24H0V0z\" fill=\"none\"/>\n",
              "    <path d=\"M18.56 5.44l.94 2.06.94-2.06 2.06-.94-2.06-.94-.94-2.06-.94 2.06-2.06.94zm-11 1L8.5 8.5l.94-2.06 2.06-.94-2.06-.94L8.5 2.5l-.94 2.06-2.06.94zm10 10l.94 2.06.94-2.06 2.06-.94-2.06-.94-.94-2.06-.94 2.06-2.06.94z\"/><path d=\"M17.41 7.96l-1.37-1.37c-.4-.4-.92-.59-1.43-.59-.52 0-1.04.2-1.43.59L10.3 9.45l-7.72 7.72c-.78.78-.78 2.05 0 2.83L4 21.41c.39.39.9.59 1.41.59.51 0 1.02-.2 1.41-.59l7.78-7.78 2.81-2.81c.8-.78.8-2.07 0-2.86zM5.41 20L4 18.59l7.72-7.72 1.47 1.35L5.41 20z\"/>\n",
              "  </svg>\n",
              "      </button>\n",
              "      \n",
              "  <style>\n",
              "    .colab-df-container {\n",
              "      display:flex;\n",
              "      flex-wrap:wrap;\n",
              "      gap: 12px;\n",
              "    }\n",
              "\n",
              "    .colab-df-convert {\n",
              "      background-color: #E8F0FE;\n",
              "      border: none;\n",
              "      border-radius: 50%;\n",
              "      cursor: pointer;\n",
              "      display: none;\n",
              "      fill: #1967D2;\n",
              "      height: 32px;\n",
              "      padding: 0 0 0 0;\n",
              "      width: 32px;\n",
              "    }\n",
              "\n",
              "    .colab-df-convert:hover {\n",
              "      background-color: #E2EBFA;\n",
              "      box-shadow: 0px 1px 2px rgba(60, 64, 67, 0.3), 0px 1px 3px 1px rgba(60, 64, 67, 0.15);\n",
              "      fill: #174EA6;\n",
              "    }\n",
              "\n",
              "    [theme=dark] .colab-df-convert {\n",
              "      background-color: #3B4455;\n",
              "      fill: #D2E3FC;\n",
              "    }\n",
              "\n",
              "    [theme=dark] .colab-df-convert:hover {\n",
              "      background-color: #434B5C;\n",
              "      box-shadow: 0px 1px 3px 1px rgba(0, 0, 0, 0.15);\n",
              "      filter: drop-shadow(0px 1px 2px rgba(0, 0, 0, 0.3));\n",
              "      fill: #FFFFFF;\n",
              "    }\n",
              "  </style>\n",
              "\n",
              "      <script>\n",
              "        const buttonEl =\n",
              "          document.querySelector('#df-6e583bc3-bf95-410e-917e-febd9474c0e4 button.colab-df-convert');\n",
              "        buttonEl.style.display =\n",
              "          google.colab.kernel.accessAllowed ? 'block' : 'none';\n",
              "\n",
              "        async function convertToInteractive(key) {\n",
              "          const element = document.querySelector('#df-6e583bc3-bf95-410e-917e-febd9474c0e4');\n",
              "          const dataTable =\n",
              "            await google.colab.kernel.invokeFunction('convertToInteractive',\n",
              "                                                     [key], {});\n",
              "          if (!dataTable) return;\n",
              "\n",
              "          const docLinkHtml = 'Like what you see? Visit the ' +\n",
              "            '<a target=\"_blank\" href=https://colab.research.google.com/notebooks/data_table.ipynb>data table notebook</a>'\n",
              "            + ' to learn more about interactive tables.';\n",
              "          element.innerHTML = '';\n",
              "          dataTable['output_type'] = 'display_data';\n",
              "          await google.colab.output.renderOutput(dataTable, element);\n",
              "          const docLink = document.createElement('div');\n",
              "          docLink.innerHTML = docLinkHtml;\n",
              "          element.appendChild(docLink);\n",
              "        }\n",
              "      </script>\n",
              "    </div>\n",
              "  </div>\n",
              "  "
            ],
            "text/plain": [
              "       Income     Limit  Rating  ...  African_American   Asian  Caucasian\n",
              "count  400.00    400.00  400.00  ...            400.00  400.00      400.0\n",
              "mean    45.22   4735.60  354.94  ...              0.25    0.26        0.5\n",
              "std     35.24   2308.20  154.72  ...              0.43    0.44        0.5\n",
              "min     10.35    855.00   93.00  ...              0.00    0.00        0.0\n",
              "25%     21.01   3088.00  247.25  ...              0.00    0.00        0.0\n",
              "50%     33.12   4622.50  344.00  ...              0.00    0.00        0.0\n",
              "75%     57.47   5872.75  437.25  ...              0.00    1.00        1.0\n",
              "max    186.63  13913.00  982.00  ...              1.00    1.00        1.0\n",
              "\n",
              "[8 rows x 10 columns]"
            ]
          },
          "metadata": {},
          "execution_count": 8
        }
      ]
    },
    {
      "cell_type": "code",
      "source": [
        "for var in ['Gender','Student','Married','Ethnicity']:\n",
        "  print(df.value_counts(var)/len(df[var]))\n",
        "  print('')"
      ],
      "metadata": {
        "colab": {
          "base_uri": "https://localhost:8080/"
        },
        "id": "Ha6ukkUhidiZ",
        "outputId": "e650f772-7362-430e-f940-f3c093a013a7"
      },
      "execution_count": 9,
      "outputs": [
        {
          "output_type": "stream",
          "name": "stdout",
          "text": [
            "Gender\n",
            "Female    0.52\n",
            " Male     0.48\n",
            "dtype: float64\n",
            "\n",
            "Student\n",
            "No     0.9\n",
            "Yes    0.1\n",
            "dtype: float64\n",
            "\n",
            "Married\n",
            "Yes    0.61\n",
            "No     0.39\n",
            "dtype: float64\n",
            "\n",
            "Ethnicity\n",
            "Caucasian           0.50\n",
            "Asian               0.26\n",
            "African American    0.25\n",
            "dtype: float64\n",
            "\n"
          ]
        }
      ]
    },
    {
      "cell_type": "markdown",
      "source": [
        "#Desafío 2: Genere gráficos descriptivos para las variables continuas\n",
        "\n",
        "* Genere una función llamada plot_hist que genere un histograma de la variable e\n",
        "indique la media y mediana de la misma. Agregue una leyenda para indicar qué\n",
        "representa cada línea.\n",
        "* ¿Cuál es el comportamiento de Balance, Income, Cards y Rating?\n"
      ],
      "metadata": {
        "id": "fEyolV_wBrIY"
      }
    },
    {
      "cell_type": "code",
      "source": [
        "def plot_hist(df, var):\n",
        "\n",
        "  lines = [df[var].mean(),df[var].median(),df[var].mode()[0]]\n",
        "  colors = ['tomato','blue', 'violet']\n",
        "  legend = ['Media', 'Mediana', 'moda']\n",
        "\n",
        "  sns.histplot(data=df, x=var, bins=30, color='lightgreen')\n",
        "  for i in [0,1,2]:\n",
        "    plt.axvline(lines[i], color=colors[i])\n",
        "    plt.legend(legend, loc =\"upper right\")\n",
        "  plt.show()\n",
        "\n",
        "def test_normal_dist(df, var):\n",
        "  stat, p = stats.shapiro(df[var])\n",
        "  print('Statistic=%.3f, p=%.3f' % (stat, p))\n",
        "  # interpret\n",
        "  alpha = 0.05\n",
        "  if p > alpha:\n",
        "    print('La muestra de {} Parece Gaussiana (no se rechaza H0)'.format(var))\n",
        "  else:\n",
        "    print('La muestra {} NO Parece Gaussiana (se rechaza H0)'.format(var))"
      ],
      "metadata": {
        "id": "RTOGz3uABp72"
      },
      "execution_count": 10,
      "outputs": []
    },
    {
      "cell_type": "code",
      "source": [
        "vars = [ 'Balance', 'Income', 'Cards', 'Rating']\n",
        "for var in vars:\n",
        "  plot_hist(df, var)\n",
        "  test_normal_dist(df, var)\n",
        "  print('')"
      ],
      "metadata": {
        "colab": {
          "base_uri": "https://localhost:8080/",
          "height": 1000
        },
        "id": "f2ie7XnrlyIU",
        "outputId": "cefbbe30-7a4a-44af-917b-1715123fb510"
      },
      "execution_count": 11,
      "outputs": [
        {
          "output_type": "display_data",
          "data": {
            "image/png": "[encoded data removed]",
            "text/plain": [
              "<Figure size 432x288 with 1 Axes>"
            ]
          },
          "metadata": {
            "needs_background": "light"
          }
        },
        {
          "output_type": "stream",
          "name": "stdout",
          "text": [
            "Statistic=0.917, p=0.000\n",
            "La muestra Balance NO Parece Gaussiana (se rechaza H0)\n",
            "\n"
          ]
        },
        {
          "output_type": "display_data",
          "data": {
            "image/png": "[encoded data removed]",
            "text/plain": [
              "<Figure size 432x288 with 1 Axes>"
            ]
          },
          "metadata": {
            "needs_background": "light"
          }
        },
        {
          "output_type": "stream",
          "name": "stdout",
          "text": [
            "Statistic=0.810, p=0.000\n",
            "La muestra Income NO Parece Gaussiana (se rechaza H0)\n",
            "\n"
          ]
        },
        {
          "output_type": "display_data",
          "data": {
            "image/png": "[encoded data removed]",
            "text/plain": [
              "<Figure size 432x288 with 1 Axes>"
            ]
          },
          "metadata": {
            "needs_background": "light"
          }
        },
        {
          "output_type": "stream",
          "name": "stdout",
          "text": [
            "Statistic=0.915, p=0.000\n",
            "La muestra Cards NO Parece Gaussiana (se rechaza H0)\n",
            "\n"
          ]
        },
        {
          "output_type": "display_data",
          "data": {
            "image/png": "[encoded data removed]",
            "text/plain": [
              "<Figure size 432x288 with 1 Axes>"
            ]
          },
          "metadata": {
            "needs_background": "light"
          }
        },
        {
          "output_type": "stream",
          "name": "stdout",
          "text": [
            "Statistic=0.954, p=0.000\n",
            "La muestra Rating NO Parece Gaussiana (se rechaza H0)\n",
            "\n"
          ]
        }
      ]
    },
    {
      "cell_type": "markdown",
      "source": [
        "Podemos ver de los histogramas que ninguna a simple vista demuestra el comportamiento clásico de una distribución normal. Podemos ver que las curvas no se centran en torno a un mismo punto, que en caso de que distribuyeran Normal, correspondería al mismo valor para la media, mediana y moda. \n",
        "Al administrar el test de Shapiro-Wilk, que asume que la muestra se extrajo de una distribución gaussiana (hipótesis nula o H0). Esto significa que, en general, buscamos resultados con un valor p mayor para confirmar que nuestra muestra probablemente se extrajo de una distribución gaussiana. Para el caso de todas las variables mencionadas, ninguna pasó el test de normalidad. "
      ],
      "metadata": {
        "id": "zIkJV_ZemMiX"
      }
    },
    {
      "cell_type": "markdown",
      "source": [
        "# Desafío 3: Regresión Lineal Simple\n",
        "\n",
        "* A continuación generaremos una serie de modelos simples: \n",
        "\n",
        "  * $𝐵𝑎𝑙𝑎𝑛𝑐𝑒 = \\beta_0 + \\beta_1 * Student + \\epsilon$ \n",
        "  * $𝐵𝑎𝑙𝑎𝑛𝑐𝑒 = \\beta_0 + \\beta_1 * Income + \\epsilon$ \n",
        "  * $𝐵𝑎𝑙𝑎𝑛𝑐𝑒 = \\beta_0 + \\beta_1 * Rating + \\epsilon$ \n",
        "* Utilizando statsmodels, comente brevemente los siguientes puntos:\n",
        "  * ¿Qué variable presenta un mayor poder explicativo de la variabilidad de\n",
        "Balance?\n",
        "  * ¿Qué podemos decir sobre el comportamiento de Student?\n",
        "    * ¿Qué pasa si aplicamos una prueba de hipotesis para muestras independientes de Balance entre aquellos que son y no son estudiantes?"
      ],
      "metadata": {
        "id": "hAJFIy4Bn5xX"
      }
    },
    {
      "cell_type": "code",
      "source": [
        "for predictor in ['Student', 'Income', 'Rating']:\n",
        "  model = smf.ols( 'Balance ~ '+predictor , data = df).fit()\n",
        "  print(model.summary())"
      ],
      "metadata": {
        "colab": {
          "base_uri": "https://localhost:8080/"
        },
        "id": "6gRZ4LCupTiG",
        "outputId": "157d5257-6421-4da2-943a-e2b9f22fbca2"
      },
      "execution_count": 12,
      "outputs": [
        {
          "output_type": "stream",
          "name": "stdout",
          "text": [
            "                            OLS Regression Results                            \n",
            "==============================================================================\n",
            "Dep. Variable:                Balance   R-squared:                       0.067\n",
            "Model:                            OLS   Adj. R-squared:                  0.065\n",
            "Method:                 Least Squares   F-statistic:                     28.62\n",
            "Date:                Fri, 07 Jan 2022   Prob (F-statistic):           1.49e-07\n",
            "Time:                        02:21:26   Log-Likelihood:                -3005.5\n",
            "No. Observations:                 400   AIC:                             6015.\n",
            "Df Residuals:                     398   BIC:                             6023.\n",
            "Df Model:                           1                                         \n",
            "Covariance Type:            nonrobust                                         \n",
            "==================================================================================\n",
            "                     coef    std err          t      P>|t|      [0.025      0.975]\n",
            "----------------------------------------------------------------------------------\n",
            "Intercept        480.3694     23.434     20.499      0.000     434.300     526.439\n",
            "Student[T.Yes]   396.4556     74.104      5.350      0.000     250.771     542.140\n",
            "==============================================================================\n",
            "Omnibus:                       20.866   Durbin-Watson:                   1.950\n",
            "Prob(Omnibus):                  0.000   Jarque-Bera (JB):               21.920\n",
            "Skew:                           0.544   Prob(JB):                     1.74e-05\n",
            "Kurtosis:                       2.637   Cond. No.                         3.37\n",
            "==============================================================================\n",
            "\n",
            "Warnings:\n",
            "[1] Standard Errors assume that the covariance matrix of the errors is correctly specified.\n",
            "                            OLS Regression Results                            \n",
            "==============================================================================\n",
            "Dep. Variable:                Balance   R-squared:                       0.215\n",
            "Model:                            OLS   Adj. R-squared:                  0.213\n",
            "Method:                 Least Squares   F-statistic:                     109.0\n",
            "Date:                Fri, 07 Jan 2022   Prob (F-statistic):           1.03e-22\n",
            "Time:                        02:21:27   Log-Likelihood:                -2970.9\n",
            "No. Observations:                 400   AIC:                             5946.\n",
            "Df Residuals:                     398   BIC:                             5954.\n",
            "Df Model:                           1                                         \n",
            "Covariance Type:            nonrobust                                         \n",
            "==============================================================================\n",
            "                 coef    std err          t      P>|t|      [0.025      0.975]\n",
            "------------------------------------------------------------------------------\n",
            "Intercept    246.5148     33.199      7.425      0.000     181.247     311.783\n",
            "Income         6.0484      0.579     10.440      0.000       4.909       7.187\n",
            "==============================================================================\n",
            "Omnibus:                       42.505   Durbin-Watson:                   1.951\n",
            "Prob(Omnibus):                  0.000   Jarque-Bera (JB):               20.975\n",
            "Skew:                           0.384   Prob(JB):                     2.79e-05\n",
            "Kurtosis:                       2.182   Cond. No.                         93.3\n",
            "==============================================================================\n",
            "\n",
            "Warnings:\n",
            "[1] Standard Errors assume that the covariance matrix of the errors is correctly specified.\n",
            "                            OLS Regression Results                            \n",
            "==============================================================================\n",
            "Dep. Variable:                Balance   R-squared:                       0.746\n",
            "Model:                            OLS   Adj. R-squared:                  0.745\n",
            "Method:                 Least Squares   F-statistic:                     1168.\n",
            "Date:                Fri, 07 Jan 2022   Prob (F-statistic):          1.90e-120\n",
            "Time:                        02:21:27   Log-Likelihood:                -2745.4\n",
            "No. Observations:                 400   AIC:                             5495.\n",
            "Df Residuals:                     398   BIC:                             5503.\n",
            "Df Model:                           1                                         \n",
            "Covariance Type:            nonrobust                                         \n",
            "==============================================================================\n",
            "                 coef    std err          t      P>|t|      [0.025      0.975]\n",
            "------------------------------------------------------------------------------\n",
            "Intercept   -390.8463     29.069    -13.446      0.000    -447.993    -333.699\n",
            "Rating         2.5662      0.075     34.176      0.000       2.419       2.714\n",
            "==============================================================================\n",
            "Omnibus:                       23.223   Durbin-Watson:                   1.966\n",
            "Prob(Omnibus):                  0.000   Jarque-Bera (JB):               38.802\n",
            "Skew:                           0.390   Prob(JB):                     3.75e-09\n",
            "Kurtosis:                       4.311   Cond. No.                         970.\n",
            "==============================================================================\n",
            "\n",
            "Warnings:\n",
            "[1] Standard Errors assume that the covariance matrix of the errors is correctly specified.\n"
          ]
        }
      ]
    },
    {
      "cell_type": "markdown",
      "source": [
        "|                    | Student     | Income      | Rating       |\n",
        "| ------------------ | ----------- | ----------- | ------------ |\n",
        "| Adj. R-squared     | 0.065       | 0.213       | 0.745        |\n",
        "| Prob (F-statistic) | 1.49e-07    | 1.03e-22    | 1.90e-120    |\n",
        "| AIC                | 6015        | 5946        | 5495         |\n",
        "| BIC                | 6023        | 5954        | 5503         |"
      ],
      "metadata": {
        "id": "-5njNp84uajw"
      }
    },
    {
      "cell_type": "markdown",
      "source": [
        "La variable Rating es aquella que presenta un mayor poder explicativo de la variabilidad de Balance ya que el $R^2$ ajustado del modelo que lo utiliza es sustancialmente mayor que para las otras dos variables (74,5% vs 6,5% y 21,3% para Student e Income respectivamente). Aparte, tanto AIC como BIC del modelo que utiliza la variable rating son  menores que para las otras dos."
      ],
      "metadata": {
        "id": "JsDHxcd-FVwg"
      }
    },
    {
      "cell_type": "code",
      "source": [
        "print('Ho: El balance es similar entre los individuos que estudian y aquellos que no.')\n",
        "stat , p = stats.ttest_ind(df.query(\"Student == 'Yes'\")['Balance'] , \n",
        "                df.query(\"Student == 'No'\")['Balance'])\n",
        "print('Statistic=%.3f, p=%.3f' % (stat, p))\n",
        "# interpret\n",
        "alpha = 0.05\n",
        "if p > alpha:\n",
        "  print('Las muestras Parecen similares (no se rechaza H0)')\n",
        "else:\n",
        "  print('Las muestras NO Parecen similares (se rechaza H0)')\n",
        "\n",
        "print('Media de los individuos que SI estudian {}'.format(round(df.query(\"Student == 'Yes'\")['Balance'].mean(),1)))\n",
        "print('Media de los individuos que NO estudian {}'.format(round(df.query(\"Student == 'No'\")['Balance'].mean(),1)))"
      ],
      "metadata": {
        "colab": {
          "base_uri": "https://localhost:8080/"
        },
        "id": "AoEkXA2Jx7Y7",
        "outputId": "ca9d9d81-0757-4a8c-fe20-27086bd9366c"
      },
      "execution_count": 13,
      "outputs": [
        {
          "output_type": "stream",
          "name": "stdout",
          "text": [
            "Ho: El balance es similar entre los individuos que estudian y aquellos que no.\n",
            "Statistic=5.350, p=0.000\n",
            "Las muestras NO Parecen similares (se rechaza H0)\n",
            "Media de los individuos que SI estudian 876.8\n",
            "Media de los individuos que NO estudian 480.4\n"
          ]
        }
      ]
    },
    {
      "cell_type": "markdown",
      "source": [
        "La evidencia entregada por ttest_ind sugiere que la diferencia en el balance entre ambos grupos es significativa al 99%. En promedio el balance para los individuos que si estudian es de  876,8 mientras que para aquellos que no es de 480,4. En promedio esperamos que los  individuos que estudian presenten mayores balances que aquellos que no."
      ],
      "metadata": {
        "id": "NR9hqTsgCkW6"
      }
    },
    {
      "cell_type": "markdown",
      "source": [
        "# Desafío 4: Generar un modelo que incluya todos los regresores\n",
        "\n",
        "$Balance_i = \\beta_0 + \\sum_{j=1}^{N} \\beta_j * X_{ij} + \\epsilon_i$\n",
        "\n",
        "* Comente brevemente sobre el poder explicativo en la varianza de 𝑦 y las principales características de los predictores."
      ],
      "metadata": {
        "id": "zloesweHKf7J"
      }
    },
    {
      "cell_type": "code",
      "source": [
        "cols = list(df.columns)\n",
        "cols.remove('Balance', )\n",
        "cols.remove('Ethnicity')\n",
        "cols.remove('Caucasian')\n",
        "#cols.remove('African_American')\n",
        "#cols.remove('Asian')\n",
        "\n",
        "predictor = ''\n",
        "for column in cols:\n",
        "  predictor += '+'+column\n",
        "\n",
        "model = smf.ols( 'Balance ~ '+predictor[1:] , data = df).fit()\n",
        "print(model.summary())"
      ],
      "metadata": {
        "colab": {
          "base_uri": "https://localhost:8080/"
        },
        "id": "2e7oi10uLIIj",
        "outputId": "a48ee67d-18e9-4565-8c4b-a6fd9a224567"
      },
      "execution_count": 14,
      "outputs": [
        {
          "output_type": "stream",
          "name": "stdout",
          "text": [
            "                            OLS Regression Results                            \n",
            "==============================================================================\n",
            "Dep. Variable:                Balance   R-squared:                       0.955\n",
            "Model:                            OLS   Adj. R-squared:                  0.954\n",
            "Method:                 Least Squares   F-statistic:                     750.3\n",
            "Date:                Fri, 07 Jan 2022   Prob (F-statistic):          1.11e-253\n",
            "Time:                        02:21:27   Log-Likelihood:                -2398.7\n",
            "No. Observations:                 400   AIC:                             4821.\n",
            "Df Residuals:                     388   BIC:                             4869.\n",
            "Df Model:                          11                                         \n",
            "Covariance Type:            nonrobust                                         \n",
            "====================================================================================\n",
            "                       coef    std err          t      P>|t|      [0.025      0.975]\n",
            "------------------------------------------------------------------------------------\n",
            "Intercept         -469.1008     34.709    -13.515      0.000    -537.342    -400.860\n",
            "Gender[T.Female]   -10.6532      9.914     -1.075      0.283     -30.145       8.839\n",
            "Student[T.Yes]     425.7474     16.723     25.459      0.000     392.869     458.626\n",
            "Married[T.Yes]      -8.5339     10.363     -0.824      0.411     -28.908      11.841\n",
            "Income              -7.8031      0.234    -33.314      0.000      -8.264      -7.343\n",
            "Limit                0.1909      0.033      5.824      0.000       0.126       0.255\n",
            "Rating               1.1365      0.491      2.315      0.021       0.171       2.102\n",
            "Cards               17.7245      4.341      4.083      0.000       9.190      26.259\n",
            "Age                 -0.6139      0.294     -2.088      0.037      -1.192      -0.036\n",
            "Education           -1.0989      1.598     -0.688      0.492      -4.241       2.043\n",
            "African_American   -10.1070     12.210     -0.828      0.408     -34.113      13.899\n",
            "Asian                6.6972     12.122      0.552      0.581     -17.137      30.531\n",
            "==============================================================================\n",
            "Omnibus:                       34.899   Durbin-Watson:                   1.968\n",
            "Prob(Omnibus):                  0.000   Jarque-Bera (JB):               41.766\n",
            "Skew:                           0.782   Prob(JB):                     8.52e-10\n",
            "Kurtosis:                       3.241   Cond. No.                     3.73e+04\n",
            "==============================================================================\n",
            "\n",
            "Warnings:\n",
            "[1] Standard Errors assume that the covariance matrix of the errors is correctly specified.\n",
            "[2] The condition number is large, 3.73e+04. This might indicate that there are\n",
            "strong multicollinearity or other numerical problems.\n"
          ]
        }
      ]
    },
    {
      "cell_type": "markdown",
      "source": [
        "El modelo explica en total un 95,4% de la variabilidad del Balance, lo cual indica que tiene un alto ajuste y poder predictivo. De todas las variables incorporadas al modelo, las únicas que son significativas son el Intercepto, Student, Income, Limit, Rating, Cards y Age al 95%"
      ],
      "metadata": {
        "id": "UEZCzXb6RI5p"
      }
    },
    {
      "cell_type": "markdown",
      "source": [
        "# Desafío 5: Depure el modelo e incluya sólo los predictores significativo\n",
        "\n",
        "* En base al modelo anterior, refactoriza e incluya sólo las variables con un nivel de significancia 𝑝 − 𝑣𝑎𝑙𝑢𝑒 ≤. 025. Comente brevemente sobre el poder explicativo en la varianza de 𝑦 y las principales características de los predictores.\n",
        "* ¿Mejoró o empeoró el modelo con la reducción de regresores?"
      ],
      "metadata": {
        "id": "cUcfsaM9uc1X"
      }
    },
    {
      "cell_type": "code",
      "source": [
        "predictor = 'Student+ Income+ Limit+ Rating+ Cards'\n",
        "model = smf.ols( 'Balance ~ '+predictor , data = df).fit()\n",
        "print(model.summary())"
      ],
      "metadata": {
        "colab": {
          "base_uri": "https://localhost:8080/"
        },
        "id": "BLZfTHIqvkug",
        "outputId": "982903a5-9ef7-4696-fae7-1fe7c6f35dc9"
      },
      "execution_count": 15,
      "outputs": [
        {
          "output_type": "stream",
          "name": "stdout",
          "text": [
            "                            OLS Regression Results                            \n",
            "==============================================================================\n",
            "Dep. Variable:                Balance   R-squared:                       0.954\n",
            "Model:                            OLS   Adj. R-squared:                  0.954\n",
            "Method:                 Least Squares   F-statistic:                     1640.\n",
            "Date:                Fri, 07 Jan 2022   Prob (F-statistic):          3.60e-261\n",
            "Time:                        02:21:27   Log-Likelihood:                -2402.8\n",
            "No. Observations:                 400   AIC:                             4818.\n",
            "Df Residuals:                     394   BIC:                             4842.\n",
            "Df Model:                           5                                         \n",
            "Covariance Type:            nonrobust                                         \n",
            "==================================================================================\n",
            "                     coef    std err          t      P>|t|      [0.025      0.975]\n",
            "----------------------------------------------------------------------------------\n",
            "Intercept       -526.1555     19.747    -26.645      0.000    -564.977    -487.334\n",
            "Student[T.Yes]   426.8501     16.574     25.754      0.000     394.266     459.435\n",
            "Income            -7.8749      0.231    -34.024      0.000      -8.330      -7.420\n",
            "Limit              0.1944      0.033      5.977      0.000       0.130       0.258\n",
            "Rating             1.0879      0.487      2.234      0.026       0.130       2.045\n",
            "Cards             17.8517      4.335      4.118      0.000       9.329      26.374\n",
            "==============================================================================\n",
            "Omnibus:                       30.263   Durbin-Watson:                   1.949\n",
            "Prob(Omnibus):                  0.000   Jarque-Bera (JB):               35.257\n",
            "Skew:                           0.722   Prob(JB):                     2.21e-08\n",
            "Kurtosis:                       3.179   Cond. No.                     2.12e+04\n",
            "==============================================================================\n",
            "\n",
            "Warnings:\n",
            "[1] Standard Errors assume that the covariance matrix of the errors is correctly specified.\n",
            "[2] The condition number is large, 2.12e+04. This might indicate that there are\n",
            "strong multicollinearity or other numerical problems.\n"
          ]
        }
      ]
    },
    {
      "cell_type": "markdown",
      "source": [
        "|                    | all predictors | Some Predictors      |\n",
        "| ------------------ | ----------- | ----------- | \n",
        "| Adj. R-squared     | 0.954       | 0.954       | \n",
        "| Prob (F-statistic) | 1.11e-253   | 3.60e-261   | \n",
        "| AIC                | 4821        | 4818        |\n",
        "| BIC                | 4869        | 4842        |"
      ],
      "metadata": {
        "id": "Erfk9Mp8wPup"
      }
    },
    {
      "cell_type": "markdown",
      "source": [
        "Tras la reducción de regresores vemos que el modelo ha mejorado, ya que si bien presentan el mismo $R^2$, la Prob (F-statistic) ha aumentado y tanto AIC y BIC han disminuido respecto del modelo que utiliza todos los predictores. "
      ],
      "metadata": {
        "id": "N2fhYb24SjFJ"
      }
    },
    {
      "cell_type": "markdown",
      "source": [
        "# Desafío 6\n",
        "* Utilizando lmplot de seaborn, inspeccione el comportamiento de los tres\n",
        "principales determinantes.\n",
        "\n",
        "priorizar variables continuas en la seleccion de los principales determinantes"
      ],
      "metadata": {
        "id": "5N2pVXBwxIn_"
      }
    },
    {
      "cell_type": "markdown",
      "source": [
        "Las tres variables cuyo estadístico t fue el mayor en terminos absolutos son 'Student', 'Income' y 'Limit'. Por la naturaleza discreta de la variable 'Student', en la selección de variables priorizé rating por sobre ésta.\n",
        "\n",
        "Podemos ver que todas las variables se relacionan de forma directamente proporcional con Balance, es decir, en la medida que aumenta una, la otra tambien lo hace. Limit y Rating se ajuntan d emejor manera (con menor dispersión) a la recta predictiva que en el caso de Income, donde vemos una mayor dispersión y menor ajuste a la forma lineal del modelo predictivo."
      ],
      "metadata": {
        "id": "fRrIROMrTx9H"
      }
    },
    {
      "cell_type": "code",
      "source": [
        "import seaborn as sns; sns.set_theme(color_codes=True)\n",
        "\n",
        "for predictor in ['Income', 'Limit', 'Rating']:\n",
        "  g = sns.lmplot(x=predictor, y='Balance', data=df)"
      ],
      "metadata": {
        "colab": {
          "base_uri": "https://localhost:8080/",
          "height": 1000
        },
        "id": "OjSoHeiwjV9Z",
        "outputId": "a9108464-e0cb-4327-8e98-0ecc7f88bc4d"
      },
      "execution_count": 18,
      "outputs": [
        {
          "output_type": "display_data",
          "data": {
            "image/png": "[encoded data removed]",
            "text/plain": [
              "<Figure size 360x360 with 1 Axes>"
            ]
          },
          "metadata": {}
        },
        {
          "output_type": "display_data",
          "data": {
            "image/png": "[encoded data removed]",
            "text/plain": [
              "<Figure size 360x360 with 1 Axes>"
            ]
          },
          "metadata": {}
        },
        {
          "output_type": "display_data",
          "data": {
            "image/png": "[encoded data removed]",
            "text/plain": [
              "<Figure size 360x360 with 1 Axes>"
            ]
          },
          "metadata": {}
        }
      ]
    }
  ]
}