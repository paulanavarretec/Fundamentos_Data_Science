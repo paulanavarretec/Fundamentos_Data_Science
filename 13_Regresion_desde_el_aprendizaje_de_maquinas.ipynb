{
  "nbformat": 4,
  "nbformat_minor": 0,
  "metadata": {
    "colab": {
      "name": "13.Regresion_desde_el_aprendizaje_de_maquinas.ipynb",
      "provenance": [],
      "authorship_tag": "ABX9TyMjyvMMFsXiu4jbnYqNvjQ6",
      "include_colab_link": true
    },
    "kernelspec": {
      "name": "python3",
      "display_name": "Python 3"
    },
    "language_info": {
      "name": "python"
    }
  },
  "cells": [
    {
      "cell_type": "markdown",
      "metadata": {
        "id": "view-in-github",
        "colab_type": "text"
      },
      "source": [
        "<a href=\"https://colab.research.google.com/github/paulanavarretec/Fundamentos_Data_Science/blob/main/13_Regresion_desde_el_aprendizaje_de_maquinas.ipynb\" target=\"_parent\"><img src=\"https://colab.research.google.com/assets/colab-badge.svg\" alt=\"Open In Colab\"/></a>"
      ]
    },
    {
      "cell_type": "markdown",
      "source": [
        "# Desafío \\#13- Regresión desde el aprendizaje de máquinas"
      ],
      "metadata": {
        "id": "3TU3nrtpj-CG"
      }
    },
    {
      "cell_type": "markdown",
      "source": [
        "# Desafío 1: Prepare el ambiente de trabajo\n",
        "* Importe las librerías básicas para el análisis de datos.\n",
        "* Importe el módulo linear_model , y las funciones mean_squared_error , r2_score\n",
        "y train_test_split .\n",
        "* Importe la base de datos boston.csv y elimine la columna Unnamed: 0 .\n",
        "* Obtenga las medidas descriptivas de la base de datos con .describe() .\n"
      ],
      "metadata": {
        "id": "2b2vqtD1lHiX"
      }
    },
    {
      "cell_type": "code",
      "source": [
        "import numpy as np\n",
        "import pandas as pd\n",
        "import seaborn as sns\n",
        "import matplotlib.pyplot as plt\n",
        "#import statsmodels.api as sm\n",
        "#import statsmodels.formula.api as smf\n",
        "#import scipy.stats as stats\n",
        "#import statsmodels as sm\n",
        "from sklearn import linear_model\n",
        "from sklearn.metrics import mean_squared_error, r2_score\n",
        "\n",
        "\n",
        "import warnings\n",
        "warnings.filterwarnings(action='ignore')\n",
        "\n",
        "pd.set_option(\"display.precision\", 2)\n",
        "df = pd.read_csv('boston.csv').drop(columns='Unnamed: 0')\n",
        "df.head()"
      ],
      "metadata": {
        "colab": {
          "base_uri": "https://localhost:8080/",
          "height": 206
        },
        "id": "9BTilHaClHGa",
        "outputId": "728bc984-d78d-4663-ce46-7b1a3b515424"
      },
      "execution_count": 4,
      "outputs": [
        {
          "output_type": "execute_result",
          "data": {
            "text/html": [
              "\n",
              "  <div id=\"df-ff60c7c7-5000-4338-8ef4-b494cc1f63c8\">\n",
              "    <div class=\"colab-df-container\">\n",
              "      <div>\n",
              "<style scoped>\n",
              "    .dataframe tbody tr th:only-of-type {\n",
              "        vertical-align: middle;\n",
              "    }\n",
              "\n",
              "    .dataframe tbody tr th {\n",
              "        vertical-align: top;\n",
              "    }\n",
              "\n",
              "    .dataframe thead th {\n",
              "        text-align: right;\n",
              "    }\n",
              "</style>\n",
              "<table border=\"1\" class=\"dataframe\">\n",
              "  <thead>\n",
              "    <tr style=\"text-align: right;\">\n",
              "      <th></th>\n",
              "      <th>crim</th>\n",
              "      <th>zn</th>\n",
              "      <th>indus</th>\n",
              "      <th>chas</th>\n",
              "      <th>nox</th>\n",
              "      <th>rm</th>\n",
              "      <th>age</th>\n",
              "      <th>dis</th>\n",
              "      <th>rad</th>\n",
              "      <th>tax</th>\n",
              "      <th>ptratio</th>\n",
              "      <th>black</th>\n",
              "      <th>lstat</th>\n",
              "      <th>medv</th>\n",
              "    </tr>\n",
              "  </thead>\n",
              "  <tbody>\n",
              "    <tr>\n",
              "      <th>0</th>\n",
              "      <td>6.32e-03</td>\n",
              "      <td>18.0</td>\n",
              "      <td>2.31</td>\n",
              "      <td>0</td>\n",
              "      <td>0.54</td>\n",
              "      <td>6.58</td>\n",
              "      <td>65.2</td>\n",
              "      <td>4.09</td>\n",
              "      <td>1</td>\n",
              "      <td>296</td>\n",
              "      <td>15.3</td>\n",
              "      <td>396.90</td>\n",
              "      <td>4.98</td>\n",
              "      <td>24.0</td>\n",
              "    </tr>\n",
              "    <tr>\n",
              "      <th>1</th>\n",
              "      <td>2.73e-02</td>\n",
              "      <td>0.0</td>\n",
              "      <td>7.07</td>\n",
              "      <td>0</td>\n",
              "      <td>0.47</td>\n",
              "      <td>6.42</td>\n",
              "      <td>78.9</td>\n",
              "      <td>4.97</td>\n",
              "      <td>2</td>\n",
              "      <td>242</td>\n",
              "      <td>17.8</td>\n",
              "      <td>396.90</td>\n",
              "      <td>9.14</td>\n",
              "      <td>21.6</td>\n",
              "    </tr>\n",
              "    <tr>\n",
              "      <th>2</th>\n",
              "      <td>2.73e-02</td>\n",
              "      <td>0.0</td>\n",
              "      <td>7.07</td>\n",
              "      <td>0</td>\n",
              "      <td>0.47</td>\n",
              "      <td>7.18</td>\n",
              "      <td>61.1</td>\n",
              "      <td>4.97</td>\n",
              "      <td>2</td>\n",
              "      <td>242</td>\n",
              "      <td>17.8</td>\n",
              "      <td>392.83</td>\n",
              "      <td>4.03</td>\n",
              "      <td>34.7</td>\n",
              "    </tr>\n",
              "    <tr>\n",
              "      <th>3</th>\n",
              "      <td>3.24e-02</td>\n",
              "      <td>0.0</td>\n",
              "      <td>2.18</td>\n",
              "      <td>0</td>\n",
              "      <td>0.46</td>\n",
              "      <td>7.00</td>\n",
              "      <td>45.8</td>\n",
              "      <td>6.06</td>\n",
              "      <td>3</td>\n",
              "      <td>222</td>\n",
              "      <td>18.7</td>\n",
              "      <td>394.63</td>\n",
              "      <td>2.94</td>\n",
              "      <td>33.4</td>\n",
              "    </tr>\n",
              "    <tr>\n",
              "      <th>4</th>\n",
              "      <td>6.91e-02</td>\n",
              "      <td>0.0</td>\n",
              "      <td>2.18</td>\n",
              "      <td>0</td>\n",
              "      <td>0.46</td>\n",
              "      <td>7.15</td>\n",
              "      <td>54.2</td>\n",
              "      <td>6.06</td>\n",
              "      <td>3</td>\n",
              "      <td>222</td>\n",
              "      <td>18.7</td>\n",
              "      <td>396.90</td>\n",
              "      <td>5.33</td>\n",
              "      <td>36.2</td>\n",
              "    </tr>\n",
              "  </tbody>\n",
              "</table>\n",
              "</div>\n",
              "      <button class=\"colab-df-convert\" onclick=\"convertToInteractive('df-ff60c7c7-5000-4338-8ef4-b494cc1f63c8')\"\n",
              "              title=\"Convert this dataframe to an interactive table.\"\n",
              "              style=\"display:none;\">\n",
              "        \n",
              "  <svg xmlns=\"http://www.w3.org/2000/svg\" height=\"24px\"viewBox=\"0 0 24 24\"\n",
              "       width=\"24px\">\n",
              "    <path d=\"M0 0h24v24H0V0z\" fill=\"none\"/>\n",
              "    <path d=\"M18.56 5.44l.94 2.06.94-2.06 2.06-.94-2.06-.94-.94-2.06-.94 2.06-2.06.94zm-11 1L8.5 8.5l.94-2.06 2.06-.94-2.06-.94L8.5 2.5l-.94 2.06-2.06.94zm10 10l.94 2.06.94-2.06 2.06-.94-2.06-.94-.94-2.06-.94 2.06-2.06.94z\"/><path d=\"M17.41 7.96l-1.37-1.37c-.4-.4-.92-.59-1.43-.59-.52 0-1.04.2-1.43.59L10.3 9.45l-7.72 7.72c-.78.78-.78 2.05 0 2.83L4 21.41c.39.39.9.59 1.41.59.51 0 1.02-.2 1.41-.59l7.78-7.78 2.81-2.81c.8-.78.8-2.07 0-2.86zM5.41 20L4 18.59l7.72-7.72 1.47 1.35L5.41 20z\"/>\n",
              "  </svg>\n",
              "      </button>\n",
              "      \n",
              "  <style>\n",
              "    .colab-df-container {\n",
              "      display:flex;\n",
              "      flex-wrap:wrap;\n",
              "      gap: 12px;\n",
              "    }\n",
              "\n",
              "    .colab-df-convert {\n",
              "      background-color: #E8F0FE;\n",
              "      border: none;\n",
              "      border-radius: 50%;\n",
              "      cursor: pointer;\n",
              "      display: none;\n",
              "      fill: #1967D2;\n",
              "      height: 32px;\n",
              "      padding: 0 0 0 0;\n",
              "      width: 32px;\n",
              "    }\n",
              "\n",
              "    .colab-df-convert:hover {\n",
              "      background-color: #E2EBFA;\n",
              "      box-shadow: 0px 1px 2px rgba(60, 64, 67, 0.3), 0px 1px 3px 1px rgba(60, 64, 67, 0.15);\n",
              "      fill: #174EA6;\n",
              "    }\n",
              "\n",
              "    [theme=dark] .colab-df-convert {\n",
              "      background-color: #3B4455;\n",
              "      fill: #D2E3FC;\n",
              "    }\n",
              "\n",
              "    [theme=dark] .colab-df-convert:hover {\n",
              "      background-color: #434B5C;\n",
              "      box-shadow: 0px 1px 3px 1px rgba(0, 0, 0, 0.15);\n",
              "      filter: drop-shadow(0px 1px 2px rgba(0, 0, 0, 0.3));\n",
              "      fill: #FFFFFF;\n",
              "    }\n",
              "  </style>\n",
              "\n",
              "      <script>\n",
              "        const buttonEl =\n",
              "          document.querySelector('#df-ff60c7c7-5000-4338-8ef4-b494cc1f63c8 button.colab-df-convert');\n",
              "        buttonEl.style.display =\n",
              "          google.colab.kernel.accessAllowed ? 'block' : 'none';\n",
              "\n",
              "        async function convertToInteractive(key) {\n",
              "          const element = document.querySelector('#df-ff60c7c7-5000-4338-8ef4-b494cc1f63c8');\n",
              "          const dataTable =\n",
              "            await google.colab.kernel.invokeFunction('convertToInteractive',\n",
              "                                                     [key], {});\n",
              "          if (!dataTable) return;\n",
              "\n",
              "          const docLinkHtml = 'Like what you see? Visit the ' +\n",
              "            '<a target=\"_blank\" href=https://colab.research.google.com/notebooks/data_table.ipynb>data table notebook</a>'\n",
              "            + ' to learn more about interactive tables.';\n",
              "          element.innerHTML = '';\n",
              "          dataTable['output_type'] = 'display_data';\n",
              "          await google.colab.output.renderOutput(dataTable, element);\n",
              "          const docLink = document.createElement('div');\n",
              "          docLink.innerHTML = docLinkHtml;\n",
              "          element.appendChild(docLink);\n",
              "        }\n",
              "      </script>\n",
              "    </div>\n",
              "  </div>\n",
              "  "
            ],
            "text/plain": [
              "       crim    zn  indus  chas   nox  ...  tax  ptratio   black  lstat  medv\n",
              "0  6.32e-03  18.0   2.31     0  0.54  ...  296     15.3  396.90   4.98  24.0\n",
              "1  2.73e-02   0.0   7.07     0  0.47  ...  242     17.8  396.90   9.14  21.6\n",
              "2  2.73e-02   0.0   7.07     0  0.47  ...  242     17.8  392.83   4.03  34.7\n",
              "3  3.24e-02   0.0   2.18     0  0.46  ...  222     18.7  394.63   2.94  33.4\n",
              "4  6.91e-02   0.0   2.18     0  0.46  ...  222     18.7  396.90   5.33  36.2\n",
              "\n",
              "[5 rows x 14 columns]"
            ]
          },
          "metadata": {},
          "execution_count": 4
        }
      ]
    },
    {
      "cell_type": "code",
      "execution_count": 5,
      "metadata": {
        "colab": {
          "base_uri": "https://localhost:8080/"
        },
        "id": "g4JCTdCcj2K0",
        "outputId": "d4e18b86-75f6-4caa-ec2b-2b4a52471749"
      },
      "outputs": [
        {
          "output_type": "stream",
          "name": "stdout",
          "text": [
            "<class 'pandas.core.frame.DataFrame'>\n",
            "RangeIndex: 506 entries, 0 to 505\n",
            "Data columns (total 14 columns):\n",
            " #   Column   Non-Null Count  Dtype  \n",
            "---  ------   --------------  -----  \n",
            " 0   crim     506 non-null    float64\n",
            " 1   zn       506 non-null    float64\n",
            " 2   indus    506 non-null    float64\n",
            " 3   chas     506 non-null    int64  \n",
            " 4   nox      506 non-null    float64\n",
            " 5   rm       506 non-null    float64\n",
            " 6   age      506 non-null    float64\n",
            " 7   dis      506 non-null    float64\n",
            " 8   rad      506 non-null    int64  \n",
            " 9   tax      506 non-null    int64  \n",
            " 10  ptratio  506 non-null    float64\n",
            " 11  black    506 non-null    float64\n",
            " 12  lstat    506 non-null    float64\n",
            " 13  medv     506 non-null    float64\n",
            "dtypes: float64(11), int64(3)\n",
            "memory usage: 55.5 KB\n"
          ]
        }
      ],
      "source": [
        "df.info()"
      ]
    },
    {
      "cell_type": "code",
      "source": [
        "df.describe()"
      ],
      "metadata": {
        "colab": {
          "base_uri": "https://localhost:8080/",
          "height": 300
        },
        "id": "P7JSjqqVpo26",
        "outputId": "b3e7c46b-7c77-445d-f7c9-56a134881744"
      },
      "execution_count": 6,
      "outputs": [
        {
          "output_type": "execute_result",
          "data": {
            "text/html": [
              "\n",
              "  <div id=\"df-9648b1fa-9bcc-4b3e-9d89-8d43231cc381\">\n",
              "    <div class=\"colab-df-container\">\n",
              "      <div>\n",
              "<style scoped>\n",
              "    .dataframe tbody tr th:only-of-type {\n",
              "        vertical-align: middle;\n",
              "    }\n",
              "\n",
              "    .dataframe tbody tr th {\n",
              "        vertical-align: top;\n",
              "    }\n",
              "\n",
              "    .dataframe thead th {\n",
              "        text-align: right;\n",
              "    }\n",
              "</style>\n",
              "<table border=\"1\" class=\"dataframe\">\n",
              "  <thead>\n",
              "    <tr style=\"text-align: right;\">\n",
              "      <th></th>\n",
              "      <th>crim</th>\n",
              "      <th>zn</th>\n",
              "      <th>indus</th>\n",
              "      <th>chas</th>\n",
              "      <th>nox</th>\n",
              "      <th>rm</th>\n",
              "      <th>age</th>\n",
              "      <th>dis</th>\n",
              "      <th>rad</th>\n",
              "      <th>tax</th>\n",
              "      <th>ptratio</th>\n",
              "      <th>black</th>\n",
              "      <th>lstat</th>\n",
              "      <th>medv</th>\n",
              "    </tr>\n",
              "  </thead>\n",
              "  <tbody>\n",
              "    <tr>\n",
              "      <th>count</th>\n",
              "      <td>5.06e+02</td>\n",
              "      <td>506.00</td>\n",
              "      <td>506.00</td>\n",
              "      <td>506.00</td>\n",
              "      <td>506.00</td>\n",
              "      <td>506.00</td>\n",
              "      <td>506.00</td>\n",
              "      <td>506.00</td>\n",
              "      <td>506.00</td>\n",
              "      <td>506.00</td>\n",
              "      <td>506.00</td>\n",
              "      <td>506.00</td>\n",
              "      <td>506.00</td>\n",
              "      <td>506.00</td>\n",
              "    </tr>\n",
              "    <tr>\n",
              "      <th>mean</th>\n",
              "      <td>3.61e+00</td>\n",
              "      <td>11.36</td>\n",
              "      <td>11.14</td>\n",
              "      <td>0.07</td>\n",
              "      <td>0.55</td>\n",
              "      <td>6.28</td>\n",
              "      <td>68.57</td>\n",
              "      <td>3.80</td>\n",
              "      <td>9.55</td>\n",
              "      <td>408.24</td>\n",
              "      <td>18.46</td>\n",
              "      <td>356.67</td>\n",
              "      <td>12.65</td>\n",
              "      <td>22.53</td>\n",
              "    </tr>\n",
              "    <tr>\n",
              "      <th>std</th>\n",
              "      <td>8.60e+00</td>\n",
              "      <td>23.32</td>\n",
              "      <td>6.86</td>\n",
              "      <td>0.25</td>\n",
              "      <td>0.12</td>\n",
              "      <td>0.70</td>\n",
              "      <td>28.15</td>\n",
              "      <td>2.11</td>\n",
              "      <td>8.71</td>\n",
              "      <td>168.54</td>\n",
              "      <td>2.16</td>\n",
              "      <td>91.29</td>\n",
              "      <td>7.14</td>\n",
              "      <td>9.20</td>\n",
              "    </tr>\n",
              "    <tr>\n",
              "      <th>min</th>\n",
              "      <td>6.32e-03</td>\n",
              "      <td>0.00</td>\n",
              "      <td>0.46</td>\n",
              "      <td>0.00</td>\n",
              "      <td>0.39</td>\n",
              "      <td>3.56</td>\n",
              "      <td>2.90</td>\n",
              "      <td>1.13</td>\n",
              "      <td>1.00</td>\n",
              "      <td>187.00</td>\n",
              "      <td>12.60</td>\n",
              "      <td>0.32</td>\n",
              "      <td>1.73</td>\n",
              "      <td>5.00</td>\n",
              "    </tr>\n",
              "    <tr>\n",
              "      <th>25%</th>\n",
              "      <td>8.20e-02</td>\n",
              "      <td>0.00</td>\n",
              "      <td>5.19</td>\n",
              "      <td>0.00</td>\n",
              "      <td>0.45</td>\n",
              "      <td>5.89</td>\n",
              "      <td>45.02</td>\n",
              "      <td>2.10</td>\n",
              "      <td>4.00</td>\n",
              "      <td>279.00</td>\n",
              "      <td>17.40</td>\n",
              "      <td>375.38</td>\n",
              "      <td>6.95</td>\n",
              "      <td>17.02</td>\n",
              "    </tr>\n",
              "    <tr>\n",
              "      <th>50%</th>\n",
              "      <td>2.57e-01</td>\n",
              "      <td>0.00</td>\n",
              "      <td>9.69</td>\n",
              "      <td>0.00</td>\n",
              "      <td>0.54</td>\n",
              "      <td>6.21</td>\n",
              "      <td>77.50</td>\n",
              "      <td>3.21</td>\n",
              "      <td>5.00</td>\n",
              "      <td>330.00</td>\n",
              "      <td>19.05</td>\n",
              "      <td>391.44</td>\n",
              "      <td>11.36</td>\n",
              "      <td>21.20</td>\n",
              "    </tr>\n",
              "    <tr>\n",
              "      <th>75%</th>\n",
              "      <td>3.68e+00</td>\n",
              "      <td>12.50</td>\n",
              "      <td>18.10</td>\n",
              "      <td>0.00</td>\n",
              "      <td>0.62</td>\n",
              "      <td>6.62</td>\n",
              "      <td>94.07</td>\n",
              "      <td>5.19</td>\n",
              "      <td>24.00</td>\n",
              "      <td>666.00</td>\n",
              "      <td>20.20</td>\n",
              "      <td>396.23</td>\n",
              "      <td>16.96</td>\n",
              "      <td>25.00</td>\n",
              "    </tr>\n",
              "    <tr>\n",
              "      <th>max</th>\n",
              "      <td>8.90e+01</td>\n",
              "      <td>100.00</td>\n",
              "      <td>27.74</td>\n",
              "      <td>1.00</td>\n",
              "      <td>0.87</td>\n",
              "      <td>8.78</td>\n",
              "      <td>100.00</td>\n",
              "      <td>12.13</td>\n",
              "      <td>24.00</td>\n",
              "      <td>711.00</td>\n",
              "      <td>22.00</td>\n",
              "      <td>396.90</td>\n",
              "      <td>37.97</td>\n",
              "      <td>50.00</td>\n",
              "    </tr>\n",
              "  </tbody>\n",
              "</table>\n",
              "</div>\n",
              "      <button class=\"colab-df-convert\" onclick=\"convertToInteractive('df-9648b1fa-9bcc-4b3e-9d89-8d43231cc381')\"\n",
              "              title=\"Convert this dataframe to an interactive table.\"\n",
              "              style=\"display:none;\">\n",
              "        \n",
              "  <svg xmlns=\"http://www.w3.org/2000/svg\" height=\"24px\"viewBox=\"0 0 24 24\"\n",
              "       width=\"24px\">\n",
              "    <path d=\"M0 0h24v24H0V0z\" fill=\"none\"/>\n",
              "    <path d=\"M18.56 5.44l.94 2.06.94-2.06 2.06-.94-2.06-.94-.94-2.06-.94 2.06-2.06.94zm-11 1L8.5 8.5l.94-2.06 2.06-.94-2.06-.94L8.5 2.5l-.94 2.06-2.06.94zm10 10l.94 2.06.94-2.06 2.06-.94-2.06-.94-.94-2.06-.94 2.06-2.06.94z\"/><path d=\"M17.41 7.96l-1.37-1.37c-.4-.4-.92-.59-1.43-.59-.52 0-1.04.2-1.43.59L10.3 9.45l-7.72 7.72c-.78.78-.78 2.05 0 2.83L4 21.41c.39.39.9.59 1.41.59.51 0 1.02-.2 1.41-.59l7.78-7.78 2.81-2.81c.8-.78.8-2.07 0-2.86zM5.41 20L4 18.59l7.72-7.72 1.47 1.35L5.41 20z\"/>\n",
              "  </svg>\n",
              "      </button>\n",
              "      \n",
              "  <style>\n",
              "    .colab-df-container {\n",
              "      display:flex;\n",
              "      flex-wrap:wrap;\n",
              "      gap: 12px;\n",
              "    }\n",
              "\n",
              "    .colab-df-convert {\n",
              "      background-color: #E8F0FE;\n",
              "      border: none;\n",
              "      border-radius: 50%;\n",
              "      cursor: pointer;\n",
              "      display: none;\n",
              "      fill: #1967D2;\n",
              "      height: 32px;\n",
              "      padding: 0 0 0 0;\n",
              "      width: 32px;\n",
              "    }\n",
              "\n",
              "    .colab-df-convert:hover {\n",
              "      background-color: #E2EBFA;\n",
              "      box-shadow: 0px 1px 2px rgba(60, 64, 67, 0.3), 0px 1px 3px 1px rgba(60, 64, 67, 0.15);\n",
              "      fill: #174EA6;\n",
              "    }\n",
              "\n",
              "    [theme=dark] .colab-df-convert {\n",
              "      background-color: #3B4455;\n",
              "      fill: #D2E3FC;\n",
              "    }\n",
              "\n",
              "    [theme=dark] .colab-df-convert:hover {\n",
              "      background-color: #434B5C;\n",
              "      box-shadow: 0px 1px 3px 1px rgba(0, 0, 0, 0.15);\n",
              "      filter: drop-shadow(0px 1px 2px rgba(0, 0, 0, 0.3));\n",
              "      fill: #FFFFFF;\n",
              "    }\n",
              "  </style>\n",
              "\n",
              "      <script>\n",
              "        const buttonEl =\n",
              "          document.querySelector('#df-9648b1fa-9bcc-4b3e-9d89-8d43231cc381 button.colab-df-convert');\n",
              "        buttonEl.style.display =\n",
              "          google.colab.kernel.accessAllowed ? 'block' : 'none';\n",
              "\n",
              "        async function convertToInteractive(key) {\n",
              "          const element = document.querySelector('#df-9648b1fa-9bcc-4b3e-9d89-8d43231cc381');\n",
              "          const dataTable =\n",
              "            await google.colab.kernel.invokeFunction('convertToInteractive',\n",
              "                                                     [key], {});\n",
              "          if (!dataTable) return;\n",
              "\n",
              "          const docLinkHtml = 'Like what you see? Visit the ' +\n",
              "            '<a target=\"_blank\" href=https://colab.research.google.com/notebooks/data_table.ipynb>data table notebook</a>'\n",
              "            + ' to learn more about interactive tables.';\n",
              "          element.innerHTML = '';\n",
              "          dataTable['output_type'] = 'display_data';\n",
              "          await google.colab.output.renderOutput(dataTable, element);\n",
              "          const docLink = document.createElement('div');\n",
              "          docLink.innerHTML = docLinkHtml;\n",
              "          element.appendChild(docLink);\n",
              "        }\n",
              "      </script>\n",
              "    </div>\n",
              "  </div>\n",
              "  "
            ],
            "text/plain": [
              "           crim      zn   indus    chas  ...  ptratio   black   lstat    medv\n",
              "count  5.06e+02  506.00  506.00  506.00  ...   506.00  506.00  506.00  506.00\n",
              "mean   3.61e+00   11.36   11.14    0.07  ...    18.46  356.67   12.65   22.53\n",
              "std    8.60e+00   23.32    6.86    0.25  ...     2.16   91.29    7.14    9.20\n",
              "min    6.32e-03    0.00    0.46    0.00  ...    12.60    0.32    1.73    5.00\n",
              "25%    8.20e-02    0.00    5.19    0.00  ...    17.40  375.38    6.95   17.02\n",
              "50%    2.57e-01    0.00    9.69    0.00  ...    19.05  391.44   11.36   21.20\n",
              "75%    3.68e+00   12.50   18.10    0.00  ...    20.20  396.23   16.96   25.00\n",
              "max    8.90e+01  100.00   27.74    1.00  ...    22.00  396.90   37.97   50.00\n",
              "\n",
              "[8 rows x 14 columns]"
            ]
          },
          "metadata": {},
          "execution_count": 6
        }
      ]
    },
    {
      "cell_type": "markdown",
      "source": [
        "# Desafío 2: División de la muestra\n",
        "* Genere conjuntos de entrenamiento y pruebas con train_test_split .\n",
        "* Reserve un 33% de la muestra para el conjunto de pruebas.\n",
        "* Incluya una semilla pseudoaleatoria a su elección, esto lo puede hacer con el\n",
        "argumento random_state dentro del método train_test_plit."
      ],
      "metadata": {
        "id": "5X0aPPH8qjK7"
      }
    },
    {
      "cell_type": "code",
      "source": [
        "from sklearn.model_selection import train_test_split\n",
        "y = df['medv']\n",
        "X = df.drop(columns='medv')\n",
        "\n",
        "X_train, X_test, y_train, y_test = train_test_split(X, y, test_size=0.33, random_state=0)"
      ],
      "metadata": {
        "id": "NnqHsEdtqoIO"
      },
      "execution_count": 7,
      "outputs": []
    },
    {
      "cell_type": "markdown",
      "source": [
        "# Desafío 3: Generación de modelos\n",
        "* Ahora implementaremos dos versiones del modelo lineal:\n",
        "  * Con intercepto y atributos normalizados.\n",
        "  * Sin intercepto y atributos no normalizados.\n",
        "+ Cada versión debe generarse en un nuevo objeto inicializado.\n",
        "+ Posteriormente se deben entrenar los modelos especificando la matriz y vector de entrenamiento.\n",
        "+ Con los modelos entrenados, genere una predicción de la matriz de pruebas con el método .predict().\n"
      ],
      "metadata": {
        "id": "F297kWtrzwqe"
      }
    },
    {
      "cell_type": "code",
      "source": [
        "modelo1 = linear_model.LinearRegression(fit_intercept=True , normalize=True)\n",
        "modelo2 = linear_model.LinearRegression(fit_intercept=False , normalize=False)\n",
        "\n",
        "modelo1.fit(X_train, y_train)\n",
        "modelo2.fit(X_train, y_train)\n",
        "\n",
        "medv_yhat1 = modelo1.predict(X_test)\n",
        "medv_yhat2 = modelo2.predict(X_test)"
      ],
      "metadata": {
        "id": "bicSMsHX0ApK"
      },
      "execution_count": 8,
      "outputs": []
    },
    {
      "cell_type": "markdown",
      "source": [
        "# Desafío 4: Obtención de métricas\n",
        "+ Ahora generaremos una función llamada report_scores que ingrese como\n",
        "argumentos el vector de datos predichos y el vector de datos por validar.\n",
        "+ La función debe imprimir las métricas del Error Cuadrático Promedio y R2.\n",
        "+ Reporte las métricas para ambos modelos. En base a ello, seleccione el mejor\n",
        "modelo.\n"
      ],
      "metadata": {
        "id": "djN3By0e2X-4"
      }
    },
    {
      "cell_type": "code",
      "source": [
        "def report_scores(y_true, y_pred):\n",
        "  mse = mean_squared_error(y_true, y_pred). round(1)\n",
        "  r2 = r2_score(y_true, y_pred). round(2)\n",
        "  print('   Mean Squared Error : ', mse)\n",
        "  print('   R-cuadrado:', r2)\n",
        "  \n",
        "print('Modelo 1: Con intercepto y atributos normalizados')\n",
        "report_scores(medv_yhat1, y_test)\n",
        "print('Modelo 2: Sin intercepto y atributos no normalizados')\n",
        "report_scores(medv_yhat2, y_test)"
      ],
      "metadata": {
        "colab": {
          "base_uri": "https://localhost:8080/"
        },
        "id": "6TK9ChJm2elb",
        "outputId": "034708e6-27f3-4779-cf41-661dde78b9ff"
      },
      "execution_count": 9,
      "outputs": [
        {
          "output_type": "stream",
          "name": "stdout",
          "text": [
            "Modelo 1: Con intercepto y atributos normalizados\n",
            "   Mean Squared Error :  26.6\n",
            "   R-cuadrado: 0.56\n",
            "Modelo 2: Sin intercepto y atributos no normalizados\n",
            "   Mean Squared Error :  28.0\n",
            "   R-cuadrado: 0.55\n"
          ]
        }
      ]
    },
    {
      "cell_type": "markdown",
      "source": [
        "El mejor modelo es el primero (con intercepto y atributos normalizados) ya que presenta un $r^2$ mayor y menor MSE que el segundo."
      ],
      "metadata": {
        "id": "dKpnRv8R3twy"
      }
    },
    {
      "cell_type": "markdown",
      "source": [
        "# Desafío 5: Refactorización del modelo\n",
        "+ Genere una función llamada fetch_features que ingrese como argumentos la base\n",
        "de datos y el nombre del vector objetivo. El nombre del vector debe ser medv por\n",
        "defecto.\n",
        "+ La función debe retornar una lista con las correlaciones entre cada atributo y el vector objetivo y su nombre.\n",
        "+ Reporte brevemente cuales son los 6 atributos con una mayor correlación absoluta con medv (de mayor a menor correlación).\n"
      ],
      "metadata": {
        "id": "ynUglioB355h"
      }
    },
    {
      "cell_type": "code",
      "source": [
        "def fetch_features(df, target = 'medv'):\n",
        "  y = df[target]\n",
        "  X = df.drop(columns='medv')\n",
        "\n",
        "  corr = {}\n",
        "  for predictor in X.columns:    \n",
        "    corr[predictor] = df[target].corr(df[predictor]).round(3)\n",
        "    #print('Corr({},{}): {}'.format(target,predictor, corr[target] ))\n",
        "  return corr\n",
        "\n",
        "x = fetch_features(df)\n",
        "sorted_corrs = sorted(x.items(), key=lambda x: abs(x[1]), reverse=True)\n",
        "\n",
        "print('Atributos con una mayor correlación absoluta con medv\\n')\n",
        "for i in sorted_corrs[:6]:\n",
        "\tprint(i[0],':', i[1])"
      ],
      "metadata": {
        "colab": {
          "base_uri": "https://localhost:8080/"
        },
        "id": "0orSF0gR4cPM",
        "outputId": "bce21479-3820-4e39-d94e-f9563fb6bdba"
      },
      "execution_count": 10,
      "outputs": [
        {
          "output_type": "stream",
          "name": "stdout",
          "text": [
            "Atributos con una mayor correlación absoluta con medv\n",
            "\n",
            "lstat : -0.738\n",
            "rm : 0.695\n",
            "ptratio : -0.508\n",
            "indus : -0.484\n",
            "tax : -0.469\n",
            "nox : -0.427\n"
          ]
        }
      ]
    },
    {
      "cell_type": "code",
      "source": [
        "def fetch_features(df, target = 'medv'):\n",
        "  y = df[target]\n",
        "  X = df.drop(columns='medv')\n",
        "\n",
        "  corr = {}\n",
        "  for predictor in X.columns:    \n",
        "    corr[predictor] = df[target].corr(df[predictor]).round(3)\n",
        "    #print('Corr({},{}): {}'.format(target,predictor, corr[target] ))\n",
        "\n",
        "  features = pd.DataFrame({'attribute' : corr.keys(),\n",
        "                           'corr': corr.values(),\n",
        "                           'abs_corr': abs(pd.Series(corr.values()))\n",
        "                           })\n",
        "  return features\n",
        "\n",
        "sorted_corrs = fetch_features(df).set_index('attribute').sort_values(by='abs_corr', ascending = False)\n",
        "\n",
        "print('Atributos con una mayor correlación absoluta con medv:')\n",
        "for i in sorted_corrs.index[:6]:\n",
        "  print('  '+i+': '+str(sorted_corrs.loc[i,'abs_corr']))"
      ],
      "metadata": {
        "colab": {
          "base_uri": "https://localhost:8080/"
        },
        "id": "T074JolUiapX",
        "outputId": "744fb257-1628-48d0-b153-7c224c9dd52d"
      },
      "execution_count": 28,
      "outputs": [
        {
          "output_type": "stream",
          "name": "stdout",
          "text": [
            "Atributos con una mayor correlación absoluta con medv:\n",
            "  lstat: 0.738\n",
            "  rm: 0.695\n",
            "  ptratio: 0.508\n",
            "  indus: 0.484\n",
            "  tax: 0.469\n",
            "  nox: 0.427\n"
          ]
        }
      ]
    },
    {
      "cell_type": "markdown",
      "source": [
        "# Desafío 6: Refactorización del modelo predictivo\n",
        "+ Genere otros conjuntos de entrenamiento y validación en base a una matriz con los 6 atributos identificados en el ejercicio anterior, y el vector objetivo.\n",
        "+ Entrene un modelo en base al mejor desempeño.\n",
        "+ Reporte las métricas para el nuevo modelo.\n"
      ],
      "metadata": {
        "id": "gkoKTcO3A-nu"
      }
    },
    {
      "cell_type": "code",
      "source": [
        "y = df['medv']\n",
        "X = df.drop(columns='medv')[sorted_corrs.index[:6]]\n",
        "\n",
        "X_train, X_test, y_train, y_test = train_test_split(X, y, test_size=0.33, random_state=0)\n",
        "modelo3 = linear_model.LinearRegression(fit_intercept=True , normalize=True)\n",
        "modelo3.fit(X_train, y_train)\n",
        "medv_yhat3 = modelo3.predict(X_test)\n",
        "\n",
        "print('Modelo 3: Con intercepto y atributos con mayor correlación absoluta normalizados')\n",
        "report_scores(medv_yhat3, y_test)\n"
      ],
      "metadata": {
        "colab": {
          "base_uri": "https://localhost:8080/"
        },
        "id": "ay8paCWHBEWP",
        "outputId": "16e8a3a6-dfcd-425d-d93c-8b6fdec3e765"
      },
      "execution_count": 25,
      "outputs": [
        {
          "output_type": "stream",
          "name": "stdout",
          "text": [
            "Modelo 3: Con intercepto y atributos con mayor correlación absoluta normalizados\n",
            "   Mean Squared Error :  32.5\n",
            "   R-cuadrado: 0.46\n"
          ]
        }
      ]
    },
    {
      "cell_type": "markdown",
      "source": [
        "# Desafío 7: Predicción de casos\n",
        "+ A continuación se generaron dos arrays que representan el peor escenario posible (`worst_neighbor`) y el mejor escenario posible (`best_neighbor`). Las variables representan, para cada caso, los valores de los siguientes atributos (en el mismo orden entregado): `'lstat', 'rm', 'ptratio', 'indus', 'tax', 'nox'`.\n",
        "\n",
        "\n",
        "\n",
        "```\n",
        "worst_neighbor = np.array([37.9, 12.6, 3.5, 27.7, 187, 0.87]).reshape(1,-1)\n",
        "best_neighbor = np.array([1.73, 22, 8.7, 0.46, 711, 0.38]).reshape(1,-1)\n",
        "```\n",
        "+ Ingrese los arrays en el modelo entrenado en el ejercicio anterior, y reporte la predicción entregada por el modelo.\n",
        "\n",
        "\n"
      ],
      "metadata": {
        "id": "ydN70z6pDtrI"
      }
    },
    {
      "cell_type": "code",
      "source": [
        "worst_neighbor = np.array([37.9, 12.6, 3.5, 27.7, 187, 0.87]).reshape(1, -1)\n",
        "best_neighbor = np.array([1.73, 22, 8.7, 0.46, 711, 0.38]).reshape(1, -1)\n",
        "\n",
        "worst_yhat = modelo3.predict(worst_neighbor)\n",
        "best_yhat = modelo3.predict(best_neighbor)\n",
        "\n",
        "print('Valor medio para el peor escenario posible', worst_yhat[0].round(1))\n",
        "print('Valor medio para el mejor escenario posible', best_yhat[0].round(1))"
      ],
      "metadata": {
        "colab": {
          "base_uri": "https://localhost:8080/"
        },
        "id": "Lb0zGgOmEhL4",
        "outputId": "5e9ade2c-4d4e-4673-d747-472d7216d833"
      },
      "execution_count": 26,
      "outputs": [
        {
          "output_type": "stream",
          "name": "stdout",
          "text": [
            "Valor medio para el peor escenario posible 54.9\n",
            "Valor medio para el mejor escenario posible 109.6\n"
          ]
        }
      ]
    }
  ]
}